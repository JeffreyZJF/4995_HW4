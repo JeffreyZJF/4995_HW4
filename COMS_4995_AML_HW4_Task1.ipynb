{
 "cells": [
  {
   "cell_type": "markdown",
   "metadata": {},
   "source": [
    "# COMS 4995 HW4\n",
    "#### Jianfeng Zhuang: JZ3872\n",
    "#### Huazhang Liu: HL3338"
   ]
  },
  {
   "cell_type": "markdown",
   "metadata": {},
   "source": [
    "### Task 1"
   ]
  },
  {
   "cell_type": "code",
   "execution_count": 1,
   "metadata": {},
   "outputs": [],
   "source": [
    "import pandas as pd\n",
    "import numpy as np\n",
    "import matplotlib.pyplot as plt\n",
    "import seaborn as sns\n",
    "import math\n",
    "from scipy.stats import randint"
   ]
  },
  {
   "cell_type": "code",
   "execution_count": 2,
   "metadata": {},
   "outputs": [],
   "source": [
    "from category_encoders import TargetEncoder\n",
    "from category_encoders.leave_one_out import LeaveOneOutEncoder\n",
    "from category_encoders.woe import WOEEncoder\n",
    "from sklearn.compose import ColumnTransformer\n",
    "from sklearn.compose import make_column_transformer\n",
    "from sklearn.ensemble import RandomForestRegressor\n",
    "from sklearn.feature_extraction.text import CountVectorizer\n",
    "from sklearn.impute import SimpleImputer\n",
    "from sklearn.impute import KNNImputer\n",
    "from sklearn.model_selection import train_test_split, RandomizedSearchCV\n",
    "from sklearn.model_selection import cross_val_score, GridSearchCV, KFold\n",
    "from sklearn.preprocessing import StandardScaler, OneHotEncoder, MinMaxScaler, PolynomialFeatures, Normalizer\n",
    "from sklearn.pipeline import Pipeline, make_pipeline\n",
    "from sklearn.tree import DecisionTreeRegressor\n",
    "from sklearn.feature_extraction.text import TfidfTransformer\n",
    "from xgboost.sklearn import XGBRegressor"
   ]
  },
  {
   "cell_type": "code",
   "execution_count": 3,
   "metadata": {},
   "outputs": [],
   "source": [
    "from sklearn.linear_model import LinearRegression\n",
    "from sklearn.linear_model import Ridge\n",
    "from sklearn.linear_model import Lasso\n",
    "from sklearn.linear_model import ElasticNet\n",
    "from sklearn.linear_model import LogisticRegression"
   ]
  },
  {
   "cell_type": "code",
   "execution_count": 5,
   "metadata": {},
   "outputs": [
    {
     "data": {
      "text/html": [
       "<div>\n",
       "<style scoped>\n",
       "    .dataframe tbody tr th:only-of-type {\n",
       "        vertical-align: middle;\n",
       "    }\n",
       "\n",
       "    .dataframe tbody tr th {\n",
       "        vertical-align: top;\n",
       "    }\n",
       "\n",
       "    .dataframe thead th {\n",
       "        text-align: right;\n",
       "    }\n",
       "</style>\n",
       "<table border=\"1\" class=\"dataframe\">\n",
       "  <thead>\n",
       "    <tr style=\"text-align: right;\">\n",
       "      <th></th>\n",
       "      <th>country</th>\n",
       "      <th>description</th>\n",
       "      <th>designation</th>\n",
       "      <th>points</th>\n",
       "      <th>price</th>\n",
       "      <th>province</th>\n",
       "      <th>region_1</th>\n",
       "      <th>region_2</th>\n",
       "      <th>taster_name</th>\n",
       "      <th>taster_twitter_handle</th>\n",
       "      <th>title</th>\n",
       "      <th>variety</th>\n",
       "      <th>winery</th>\n",
       "    </tr>\n",
       "  </thead>\n",
       "  <tbody>\n",
       "    <tr>\n",
       "      <th>0</th>\n",
       "      <td>Italy</td>\n",
       "      <td>Aromas include tropical fruit, broom, brimston...</td>\n",
       "      <td>Vulkà Bianco</td>\n",
       "      <td>87</td>\n",
       "      <td>NaN</td>\n",
       "      <td>Sicily &amp; Sardinia</td>\n",
       "      <td>Etna</td>\n",
       "      <td>NaN</td>\n",
       "      <td>Kerin O’Keefe</td>\n",
       "      <td>@kerinokeefe</td>\n",
       "      <td>Nicosia 2013 Vulkà Bianco  (Etna)</td>\n",
       "      <td>White Blend</td>\n",
       "      <td>Nicosia</td>\n",
       "    </tr>\n",
       "    <tr>\n",
       "      <th>1</th>\n",
       "      <td>Portugal</td>\n",
       "      <td>This is ripe and fruity, a wine that is smooth...</td>\n",
       "      <td>Avidagos</td>\n",
       "      <td>87</td>\n",
       "      <td>15.0</td>\n",
       "      <td>Douro</td>\n",
       "      <td>NaN</td>\n",
       "      <td>NaN</td>\n",
       "      <td>Roger Voss</td>\n",
       "      <td>@vossroger</td>\n",
       "      <td>Quinta dos Avidagos 2011 Avidagos Red (Douro)</td>\n",
       "      <td>Portuguese Red</td>\n",
       "      <td>Quinta dos Avidagos</td>\n",
       "    </tr>\n",
       "    <tr>\n",
       "      <th>2</th>\n",
       "      <td>US</td>\n",
       "      <td>Tart and snappy, the flavors of lime flesh and...</td>\n",
       "      <td>NaN</td>\n",
       "      <td>87</td>\n",
       "      <td>14.0</td>\n",
       "      <td>Oregon</td>\n",
       "      <td>Willamette Valley</td>\n",
       "      <td>Willamette Valley</td>\n",
       "      <td>Paul Gregutt</td>\n",
       "      <td>@paulgwine</td>\n",
       "      <td>Rainstorm 2013 Pinot Gris (Willamette Valley)</td>\n",
       "      <td>Pinot Gris</td>\n",
       "      <td>Rainstorm</td>\n",
       "    </tr>\n",
       "    <tr>\n",
       "      <th>3</th>\n",
       "      <td>US</td>\n",
       "      <td>Pineapple rind, lemon pith and orange blossom ...</td>\n",
       "      <td>Reserve Late Harvest</td>\n",
       "      <td>87</td>\n",
       "      <td>13.0</td>\n",
       "      <td>Michigan</td>\n",
       "      <td>Lake Michigan Shore</td>\n",
       "      <td>NaN</td>\n",
       "      <td>Alexander Peartree</td>\n",
       "      <td>NaN</td>\n",
       "      <td>St. Julian 2013 Reserve Late Harvest Riesling ...</td>\n",
       "      <td>Riesling</td>\n",
       "      <td>St. Julian</td>\n",
       "    </tr>\n",
       "    <tr>\n",
       "      <th>4</th>\n",
       "      <td>US</td>\n",
       "      <td>Much like the regular bottling from 2012, this...</td>\n",
       "      <td>Vintner's Reserve Wild Child Block</td>\n",
       "      <td>87</td>\n",
       "      <td>65.0</td>\n",
       "      <td>Oregon</td>\n",
       "      <td>Willamette Valley</td>\n",
       "      <td>Willamette Valley</td>\n",
       "      <td>Paul Gregutt</td>\n",
       "      <td>@paulgwine</td>\n",
       "      <td>Sweet Cheeks 2012 Vintner's Reserve Wild Child...</td>\n",
       "      <td>Pinot Noir</td>\n",
       "      <td>Sweet Cheeks</td>\n",
       "    </tr>\n",
       "  </tbody>\n",
       "</table>\n",
       "</div>"
      ],
      "text/plain": [
       "    country                                        description  \\\n",
       "0     Italy  Aromas include tropical fruit, broom, brimston...   \n",
       "1  Portugal  This is ripe and fruity, a wine that is smooth...   \n",
       "2        US  Tart and snappy, the flavors of lime flesh and...   \n",
       "3        US  Pineapple rind, lemon pith and orange blossom ...   \n",
       "4        US  Much like the regular bottling from 2012, this...   \n",
       "\n",
       "                          designation  points  price           province  \\\n",
       "0                        Vulkà Bianco      87    NaN  Sicily & Sardinia   \n",
       "1                            Avidagos      87   15.0              Douro   \n",
       "2                                 NaN      87   14.0             Oregon   \n",
       "3                Reserve Late Harvest      87   13.0           Michigan   \n",
       "4  Vintner's Reserve Wild Child Block      87   65.0             Oregon   \n",
       "\n",
       "              region_1           region_2         taster_name  \\\n",
       "0                 Etna                NaN       Kerin O’Keefe   \n",
       "1                  NaN                NaN          Roger Voss   \n",
       "2    Willamette Valley  Willamette Valley        Paul Gregutt   \n",
       "3  Lake Michigan Shore                NaN  Alexander Peartree   \n",
       "4    Willamette Valley  Willamette Valley        Paul Gregutt   \n",
       "\n",
       "  taster_twitter_handle                                              title  \\\n",
       "0          @kerinokeefe                  Nicosia 2013 Vulkà Bianco  (Etna)   \n",
       "1            @vossroger      Quinta dos Avidagos 2011 Avidagos Red (Douro)   \n",
       "2           @paulgwine       Rainstorm 2013 Pinot Gris (Willamette Valley)   \n",
       "3                   NaN  St. Julian 2013 Reserve Late Harvest Riesling ...   \n",
       "4           @paulgwine   Sweet Cheeks 2012 Vintner's Reserve Wild Child...   \n",
       "\n",
       "          variety               winery  \n",
       "0     White Blend              Nicosia  \n",
       "1  Portuguese Red  Quinta dos Avidagos  \n",
       "2      Pinot Gris            Rainstorm  \n",
       "3        Riesling           St. Julian  \n",
       "4      Pinot Noir         Sweet Cheeks  "
      ]
     },
     "execution_count": 5,
     "metadata": {},
     "output_type": "execute_result"
    }
   ],
   "source": [
    "wine = pd.read_csv(\"winemag-data-130k-v2.csv\")\n",
    "wine = wine.drop(\"Unnamed: 0\", axis = 1)\n",
    "wine.head()"
   ]
  },
  {
   "cell_type": "code",
   "execution_count": 6,
   "metadata": {
    "scrolled": true
   },
   "outputs": [
    {
     "name": "stdout",
     "output_type": "stream",
     "text": [
      "<class 'pandas.core.frame.DataFrame'>\n",
      "RangeIndex: 129971 entries, 0 to 129970\n",
      "Data columns (total 13 columns):\n",
      " #   Column                 Non-Null Count   Dtype  \n",
      "---  ------                 --------------   -----  \n",
      " 0   country                129908 non-null  object \n",
      " 1   description            129971 non-null  object \n",
      " 2   designation            92506 non-null   object \n",
      " 3   points                 129971 non-null  int64  \n",
      " 4   price                  120975 non-null  float64\n",
      " 5   province               129908 non-null  object \n",
      " 6   region_1               108724 non-null  object \n",
      " 7   region_2               50511 non-null   object \n",
      " 8   taster_name            103727 non-null  object \n",
      " 9   taster_twitter_handle  98758 non-null   object \n",
      " 10  title                  129971 non-null  object \n",
      " 11  variety                129970 non-null  object \n",
      " 12  winery                 129971 non-null  object \n",
      "dtypes: float64(1), int64(1), object(11)\n",
      "memory usage: 12.9+ MB\n"
     ]
    }
   ],
   "source": [
    "wine.info()"
   ]
  },
  {
   "cell_type": "code",
   "execution_count": 7,
   "metadata": {
    "scrolled": true
   },
   "outputs": [
    {
     "data": {
      "text/html": [
       "<div>\n",
       "<style scoped>\n",
       "    .dataframe tbody tr th:only-of-type {\n",
       "        vertical-align: middle;\n",
       "    }\n",
       "\n",
       "    .dataframe tbody tr th {\n",
       "        vertical-align: top;\n",
       "    }\n",
       "\n",
       "    .dataframe thead th {\n",
       "        text-align: right;\n",
       "    }\n",
       "</style>\n",
       "<table border=\"1\" class=\"dataframe\">\n",
       "  <thead>\n",
       "    <tr style=\"text-align: right;\">\n",
       "      <th></th>\n",
       "      <th>description</th>\n",
       "      <th>designation</th>\n",
       "      <th>points</th>\n",
       "      <th>price</th>\n",
       "      <th>province</th>\n",
       "      <th>region_1</th>\n",
       "      <th>region_2</th>\n",
       "      <th>taster_name</th>\n",
       "      <th>taster_twitter_handle</th>\n",
       "      <th>title</th>\n",
       "      <th>variety</th>\n",
       "      <th>winery</th>\n",
       "    </tr>\n",
       "  </thead>\n",
       "  <tbody>\n",
       "    <tr>\n",
       "      <th>0</th>\n",
       "      <td>Tart and snappy, the flavors of lime flesh and...</td>\n",
       "      <td>NaN</td>\n",
       "      <td>87</td>\n",
       "      <td>14.0</td>\n",
       "      <td>Oregon</td>\n",
       "      <td>Willamette Valley</td>\n",
       "      <td>Willamette Valley</td>\n",
       "      <td>Paul Gregutt</td>\n",
       "      <td>@paulgwine</td>\n",
       "      <td>Rainstorm 2013 Pinot Gris (Willamette Valley)</td>\n",
       "      <td>Pinot Gris</td>\n",
       "      <td>Rainstorm</td>\n",
       "    </tr>\n",
       "    <tr>\n",
       "      <th>1</th>\n",
       "      <td>Pineapple rind, lemon pith and orange blossom ...</td>\n",
       "      <td>Reserve Late Harvest</td>\n",
       "      <td>87</td>\n",
       "      <td>13.0</td>\n",
       "      <td>Michigan</td>\n",
       "      <td>Lake Michigan Shore</td>\n",
       "      <td>NaN</td>\n",
       "      <td>Alexander Peartree</td>\n",
       "      <td>NaN</td>\n",
       "      <td>St. Julian 2013 Reserve Late Harvest Riesling ...</td>\n",
       "      <td>Riesling</td>\n",
       "      <td>St. Julian</td>\n",
       "    </tr>\n",
       "    <tr>\n",
       "      <th>2</th>\n",
       "      <td>Much like the regular bottling from 2012, this...</td>\n",
       "      <td>Vintner's Reserve Wild Child Block</td>\n",
       "      <td>87</td>\n",
       "      <td>65.0</td>\n",
       "      <td>Oregon</td>\n",
       "      <td>Willamette Valley</td>\n",
       "      <td>Willamette Valley</td>\n",
       "      <td>Paul Gregutt</td>\n",
       "      <td>@paulgwine</td>\n",
       "      <td>Sweet Cheeks 2012 Vintner's Reserve Wild Child...</td>\n",
       "      <td>Pinot Noir</td>\n",
       "      <td>Sweet Cheeks</td>\n",
       "    </tr>\n",
       "    <tr>\n",
       "      <th>3</th>\n",
       "      <td>Soft, supple plum envelopes an oaky structure ...</td>\n",
       "      <td>Mountain Cuvée</td>\n",
       "      <td>87</td>\n",
       "      <td>19.0</td>\n",
       "      <td>California</td>\n",
       "      <td>Napa Valley</td>\n",
       "      <td>Napa</td>\n",
       "      <td>Virginie Boone</td>\n",
       "      <td>@vboone</td>\n",
       "      <td>Kirkland Signature 2011 Mountain Cuvée Caberne...</td>\n",
       "      <td>Cabernet Sauvignon</td>\n",
       "      <td>Kirkland Signature</td>\n",
       "    </tr>\n",
       "    <tr>\n",
       "      <th>4</th>\n",
       "      <td>Slightly reduced, this wine offers a chalky, t...</td>\n",
       "      <td>NaN</td>\n",
       "      <td>87</td>\n",
       "      <td>34.0</td>\n",
       "      <td>California</td>\n",
       "      <td>Alexander Valley</td>\n",
       "      <td>Sonoma</td>\n",
       "      <td>Virginie Boone</td>\n",
       "      <td>@vboone</td>\n",
       "      <td>Louis M. Martini 2012 Cabernet Sauvignon (Alex...</td>\n",
       "      <td>Cabernet Sauvignon</td>\n",
       "      <td>Louis M. Martini</td>\n",
       "    </tr>\n",
       "    <tr>\n",
       "      <th>...</th>\n",
       "      <td>...</td>\n",
       "      <td>...</td>\n",
       "      <td>...</td>\n",
       "      <td>...</td>\n",
       "      <td>...</td>\n",
       "      <td>...</td>\n",
       "      <td>...</td>\n",
       "      <td>...</td>\n",
       "      <td>...</td>\n",
       "      <td>...</td>\n",
       "      <td>...</td>\n",
       "      <td>...</td>\n",
       "    </tr>\n",
       "    <tr>\n",
       "      <th>54499</th>\n",
       "      <td>Hailing from one of the more popular vineyards...</td>\n",
       "      <td>Jurassic Park Vineyard Old Vines</td>\n",
       "      <td>90</td>\n",
       "      <td>20.0</td>\n",
       "      <td>California</td>\n",
       "      <td>Santa Ynez Valley</td>\n",
       "      <td>Central Coast</td>\n",
       "      <td>Matt Kettmann</td>\n",
       "      <td>@mattkettmann</td>\n",
       "      <td>Birichino 2013 Jurassic Park Vineyard Old Vine...</td>\n",
       "      <td>Chenin Blanc</td>\n",
       "      <td>Birichino</td>\n",
       "    </tr>\n",
       "    <tr>\n",
       "      <th>54500</th>\n",
       "      <td>There's no bones about the use of oak in this ...</td>\n",
       "      <td>Barrel Fermented</td>\n",
       "      <td>90</td>\n",
       "      <td>35.0</td>\n",
       "      <td>California</td>\n",
       "      <td>Napa Valley</td>\n",
       "      <td>Napa</td>\n",
       "      <td>Virginie Boone</td>\n",
       "      <td>@vboone</td>\n",
       "      <td>Flora Springs 2013 Barrel Fermented Chardonnay...</td>\n",
       "      <td>Chardonnay</td>\n",
       "      <td>Flora Springs</td>\n",
       "    </tr>\n",
       "    <tr>\n",
       "      <th>54501</th>\n",
       "      <td>This opens with herbaceous dollops of thyme an...</td>\n",
       "      <td>Blocks 7 &amp; 22</td>\n",
       "      <td>90</td>\n",
       "      <td>35.0</td>\n",
       "      <td>California</td>\n",
       "      <td>Napa Valley</td>\n",
       "      <td>Napa</td>\n",
       "      <td>Virginie Boone</td>\n",
       "      <td>@vboone</td>\n",
       "      <td>Hendry 2012 Blocks 7 &amp; 22 Zinfandel (Napa Valley)</td>\n",
       "      <td>Zinfandel</td>\n",
       "      <td>Hendry</td>\n",
       "    </tr>\n",
       "    <tr>\n",
       "      <th>54502</th>\n",
       "      <td>This Zinfandel from the eastern section of Nap...</td>\n",
       "      <td>NaN</td>\n",
       "      <td>90</td>\n",
       "      <td>22.0</td>\n",
       "      <td>California</td>\n",
       "      <td>Chiles Valley</td>\n",
       "      <td>Napa</td>\n",
       "      <td>Virginie Boone</td>\n",
       "      <td>@vboone</td>\n",
       "      <td>Houdini 2011 Zinfandel (Chiles Valley)</td>\n",
       "      <td>Zinfandel</td>\n",
       "      <td>Houdini</td>\n",
       "    </tr>\n",
       "    <tr>\n",
       "      <th>54503</th>\n",
       "      <td>Citation is given as much as a decade of bottl...</td>\n",
       "      <td>NaN</td>\n",
       "      <td>90</td>\n",
       "      <td>75.0</td>\n",
       "      <td>Oregon</td>\n",
       "      <td>Oregon</td>\n",
       "      <td>Oregon Other</td>\n",
       "      <td>Paul Gregutt</td>\n",
       "      <td>@paulgwine</td>\n",
       "      <td>Citation 2004 Pinot Noir (Oregon)</td>\n",
       "      <td>Pinot Noir</td>\n",
       "      <td>Citation</td>\n",
       "    </tr>\n",
       "  </tbody>\n",
       "</table>\n",
       "<p>54504 rows × 12 columns</p>\n",
       "</div>"
      ],
      "text/plain": [
       "                                             description  \\\n",
       "0      Tart and snappy, the flavors of lime flesh and...   \n",
       "1      Pineapple rind, lemon pith and orange blossom ...   \n",
       "2      Much like the regular bottling from 2012, this...   \n",
       "3      Soft, supple plum envelopes an oaky structure ...   \n",
       "4      Slightly reduced, this wine offers a chalky, t...   \n",
       "...                                                  ...   \n",
       "54499  Hailing from one of the more popular vineyards...   \n",
       "54500  There's no bones about the use of oak in this ...   \n",
       "54501  This opens with herbaceous dollops of thyme an...   \n",
       "54502  This Zinfandel from the eastern section of Nap...   \n",
       "54503  Citation is given as much as a decade of bottl...   \n",
       "\n",
       "                              designation  points  price    province  \\\n",
       "0                                     NaN      87   14.0      Oregon   \n",
       "1                    Reserve Late Harvest      87   13.0    Michigan   \n",
       "2      Vintner's Reserve Wild Child Block      87   65.0      Oregon   \n",
       "3                          Mountain Cuvée      87   19.0  California   \n",
       "4                                     NaN      87   34.0  California   \n",
       "...                                   ...     ...    ...         ...   \n",
       "54499    Jurassic Park Vineyard Old Vines      90   20.0  California   \n",
       "54500                    Barrel Fermented      90   35.0  California   \n",
       "54501                       Blocks 7 & 22      90   35.0  California   \n",
       "54502                                 NaN      90   22.0  California   \n",
       "54503                                 NaN      90   75.0      Oregon   \n",
       "\n",
       "                  region_1           region_2         taster_name  \\\n",
       "0        Willamette Valley  Willamette Valley        Paul Gregutt   \n",
       "1      Lake Michigan Shore                NaN  Alexander Peartree   \n",
       "2        Willamette Valley  Willamette Valley        Paul Gregutt   \n",
       "3              Napa Valley               Napa      Virginie Boone   \n",
       "4         Alexander Valley             Sonoma      Virginie Boone   \n",
       "...                    ...                ...                 ...   \n",
       "54499    Santa Ynez Valley      Central Coast       Matt Kettmann   \n",
       "54500          Napa Valley               Napa      Virginie Boone   \n",
       "54501          Napa Valley               Napa      Virginie Boone   \n",
       "54502        Chiles Valley               Napa      Virginie Boone   \n",
       "54503               Oregon       Oregon Other        Paul Gregutt   \n",
       "\n",
       "      taster_twitter_handle  \\\n",
       "0               @paulgwine    \n",
       "1                       NaN   \n",
       "2               @paulgwine    \n",
       "3                   @vboone   \n",
       "4                   @vboone   \n",
       "...                     ...   \n",
       "54499         @mattkettmann   \n",
       "54500               @vboone   \n",
       "54501               @vboone   \n",
       "54502               @vboone   \n",
       "54503           @paulgwine    \n",
       "\n",
       "                                                   title             variety  \\\n",
       "0          Rainstorm 2013 Pinot Gris (Willamette Valley)          Pinot Gris   \n",
       "1      St. Julian 2013 Reserve Late Harvest Riesling ...            Riesling   \n",
       "2      Sweet Cheeks 2012 Vintner's Reserve Wild Child...          Pinot Noir   \n",
       "3      Kirkland Signature 2011 Mountain Cuvée Caberne...  Cabernet Sauvignon   \n",
       "4      Louis M. Martini 2012 Cabernet Sauvignon (Alex...  Cabernet Sauvignon   \n",
       "...                                                  ...                 ...   \n",
       "54499  Birichino 2013 Jurassic Park Vineyard Old Vine...        Chenin Blanc   \n",
       "54500  Flora Springs 2013 Barrel Fermented Chardonnay...          Chardonnay   \n",
       "54501  Hendry 2012 Blocks 7 & 22 Zinfandel (Napa Valley)           Zinfandel   \n",
       "54502             Houdini 2011 Zinfandel (Chiles Valley)           Zinfandel   \n",
       "54503                  Citation 2004 Pinot Noir (Oregon)          Pinot Noir   \n",
       "\n",
       "                   winery  \n",
       "0               Rainstorm  \n",
       "1              St. Julian  \n",
       "2            Sweet Cheeks  \n",
       "3      Kirkland Signature  \n",
       "4        Louis M. Martini  \n",
       "...                   ...  \n",
       "54499           Birichino  \n",
       "54500       Flora Springs  \n",
       "54501              Hendry  \n",
       "54502             Houdini  \n",
       "54503            Citation  \n",
       "\n",
       "[54504 rows x 12 columns]"
      ]
     },
     "execution_count": 7,
     "metadata": {},
     "output_type": "execute_result"
    }
   ],
   "source": [
    "wine_US = wine[wine['country'] == \"US\"]\n",
    "wine_US = wine_US.drop('country', axis = 1)\n",
    "wine_US.index = np.arange(0, wine_US.shape[0])\n",
    "wine_US"
   ]
  },
  {
   "cell_type": "markdown",
   "metadata": {},
   "source": [
    "From the above, we know that the target column is \"points'. "
   ]
  },
  {
   "cell_type": "code",
   "execution_count": 8,
   "metadata": {
    "scrolled": true
   },
   "outputs": [
    {
     "data": {
      "text/plain": [
       "(14184,)"
      ]
     },
     "execution_count": 8,
     "metadata": {},
     "output_type": "execute_result"
    }
   ],
   "source": [
    "wine_US['designation'].unique().shape"
   ]
  },
  {
   "cell_type": "code",
   "execution_count": 9,
   "metadata": {
    "scrolled": true
   },
   "outputs": [
    {
     "data": {
      "text/html": [
       "<div>\n",
       "<style scoped>\n",
       "    .dataframe tbody tr th:only-of-type {\n",
       "        vertical-align: middle;\n",
       "    }\n",
       "\n",
       "    .dataframe tbody tr th {\n",
       "        vertical-align: top;\n",
       "    }\n",
       "\n",
       "    .dataframe thead th {\n",
       "        text-align: right;\n",
       "    }\n",
       "</style>\n",
       "<table border=\"1\" class=\"dataframe\">\n",
       "  <thead>\n",
       "    <tr style=\"text-align: right;\">\n",
       "      <th></th>\n",
       "      <th>description</th>\n",
       "      <th>designation</th>\n",
       "      <th>points</th>\n",
       "      <th>price</th>\n",
       "      <th>province</th>\n",
       "      <th>region_1</th>\n",
       "      <th>region_2</th>\n",
       "      <th>taster_name</th>\n",
       "      <th>taster_twitter_handle</th>\n",
       "      <th>title</th>\n",
       "      <th>variety</th>\n",
       "      <th>winery</th>\n",
       "    </tr>\n",
       "  </thead>\n",
       "  <tbody>\n",
       "    <tr>\n",
       "      <th>91</th>\n",
       "      <td>There is an odd, piercing edge to the aromas, ...</td>\n",
       "      <td>Reserve</td>\n",
       "      <td>85</td>\n",
       "      <td>28.0</td>\n",
       "      <td>Oregon</td>\n",
       "      <td>Willamette Valley</td>\n",
       "      <td>Willamette Valley</td>\n",
       "      <td>Paul Gregutt</td>\n",
       "      <td>@paulgwine</td>\n",
       "      <td>Silvan Ridge 2006 Reserve Pinot Noir (Willamet...</td>\n",
       "      <td>Pinot Noir</td>\n",
       "      <td>Silvan Ridge</td>\n",
       "    </tr>\n",
       "    <tr>\n",
       "      <th>98</th>\n",
       "      <td>Tasty, with pie-filling cherries, blackberries...</td>\n",
       "      <td>Reserve</td>\n",
       "      <td>85</td>\n",
       "      <td>25.0</td>\n",
       "      <td>California</td>\n",
       "      <td>Sonoma Mountain</td>\n",
       "      <td>Sonoma</td>\n",
       "      <td>NaN</td>\n",
       "      <td>NaN</td>\n",
       "      <td>Work 2004 Reserve Merlot (Sonoma Mountain)</td>\n",
       "      <td>Merlot</td>\n",
       "      <td>Work</td>\n",
       "    </tr>\n",
       "    <tr>\n",
       "      <th>125</th>\n",
       "      <td>With a fruity-sugary finish, this Zin will app...</td>\n",
       "      <td>Reserve</td>\n",
       "      <td>86</td>\n",
       "      <td>34.0</td>\n",
       "      <td>California</td>\n",
       "      <td>Mendocino</td>\n",
       "      <td>NaN</td>\n",
       "      <td>NaN</td>\n",
       "      <td>NaN</td>\n",
       "      <td>Brutocao 2006 Reserve Zinfandel (Mendocino)</td>\n",
       "      <td>Zinfandel</td>\n",
       "      <td>Brutocao</td>\n",
       "    </tr>\n",
       "    <tr>\n",
       "      <th>161</th>\n",
       "      <td>Fine acidity and a bracing minerality, like a ...</td>\n",
       "      <td>Reserve</td>\n",
       "      <td>92</td>\n",
       "      <td>40.0</td>\n",
       "      <td>California</td>\n",
       "      <td>Carneros</td>\n",
       "      <td>Napa-Sonoma</td>\n",
       "      <td>NaN</td>\n",
       "      <td>NaN</td>\n",
       "      <td>Robert Mondavi 2011 Reserve Chardonnay (Carneros)</td>\n",
       "      <td>Chardonnay</td>\n",
       "      <td>Robert Mondavi</td>\n",
       "    </tr>\n",
       "    <tr>\n",
       "      <th>226</th>\n",
       "      <td>This is a lovely wine, classically rendered in...</td>\n",
       "      <td>Reserve</td>\n",
       "      <td>93</td>\n",
       "      <td>70.0</td>\n",
       "      <td>California</td>\n",
       "      <td>Howell Mountain</td>\n",
       "      <td>Napa</td>\n",
       "      <td>Virginie Boone</td>\n",
       "      <td>@vboone</td>\n",
       "      <td>W.H. Smith 2012 Reserve Cabernet Sauvignon (Ho...</td>\n",
       "      <td>Cabernet Sauvignon</td>\n",
       "      <td>W.H. Smith</td>\n",
       "    </tr>\n",
       "    <tr>\n",
       "      <th>...</th>\n",
       "      <td>...</td>\n",
       "      <td>...</td>\n",
       "      <td>...</td>\n",
       "      <td>...</td>\n",
       "      <td>...</td>\n",
       "      <td>...</td>\n",
       "      <td>...</td>\n",
       "      <td>...</td>\n",
       "      <td>...</td>\n",
       "      <td>...</td>\n",
       "      <td>...</td>\n",
       "      <td>...</td>\n",
       "    </tr>\n",
       "    <tr>\n",
       "      <th>54412</th>\n",
       "      <td>This robust wine is made from 62% Merlot, 37% ...</td>\n",
       "      <td>Reserve</td>\n",
       "      <td>90</td>\n",
       "      <td>140.0</td>\n",
       "      <td>California</td>\n",
       "      <td>Sonoma County-Napa County</td>\n",
       "      <td>Napa-Sonoma</td>\n",
       "      <td>Virginie Boone</td>\n",
       "      <td>@vboone</td>\n",
       "      <td>Pride Mountain 2013 Reserve Claret (Sonoma Cou...</td>\n",
       "      <td>Claret</td>\n",
       "      <td>Pride Mountain</td>\n",
       "    </tr>\n",
       "    <tr>\n",
       "      <th>54420</th>\n",
       "      <td>Blackberry juice mixes with graphite, cedar an...</td>\n",
       "      <td>Reserve</td>\n",
       "      <td>90</td>\n",
       "      <td>50.0</td>\n",
       "      <td>California</td>\n",
       "      <td>Santa Ynez Valley</td>\n",
       "      <td>Central Coast</td>\n",
       "      <td>Matt Kettmann</td>\n",
       "      <td>@mattkettmann</td>\n",
       "      <td>Brander 2014 Reserve Cabernet Sauvignon (Santa...</td>\n",
       "      <td>Cabernet Sauvignon</td>\n",
       "      <td>Brander</td>\n",
       "    </tr>\n",
       "    <tr>\n",
       "      <th>54462</th>\n",
       "      <td>Dusty tannins make for a soft texture in this ...</td>\n",
       "      <td>Reserve</td>\n",
       "      <td>90</td>\n",
       "      <td>44.0</td>\n",
       "      <td>California</td>\n",
       "      <td>Carneros</td>\n",
       "      <td>Napa-Sonoma</td>\n",
       "      <td>Virginie Boone</td>\n",
       "      <td>@vboone</td>\n",
       "      <td>Ca' Momi 2013 Reserve Merlot (Carneros)</td>\n",
       "      <td>Merlot</td>\n",
       "      <td>Ca' Momi</td>\n",
       "    </tr>\n",
       "    <tr>\n",
       "      <th>54475</th>\n",
       "      <td>This wine is mostly Cabernet Sauvignon (78%), ...</td>\n",
       "      <td>Reserve</td>\n",
       "      <td>90</td>\n",
       "      <td>60.0</td>\n",
       "      <td>Washington</td>\n",
       "      <td>Columbia Valley (WA)</td>\n",
       "      <td>Columbia Valley</td>\n",
       "      <td>Sean P. Sullivan</td>\n",
       "      <td>@wawinereport</td>\n",
       "      <td>Matthews 2012 Reserve Red (Columbia Valley (WA))</td>\n",
       "      <td>Bordeaux-style Red Blend</td>\n",
       "      <td>Matthews</td>\n",
       "    </tr>\n",
       "    <tr>\n",
       "      <th>54491</th>\n",
       "      <td>This ripe, rich, almost decadently thick wine ...</td>\n",
       "      <td>Reserve</td>\n",
       "      <td>91</td>\n",
       "      <td>105.0</td>\n",
       "      <td>Washington</td>\n",
       "      <td>Walla Walla Valley (WA)</td>\n",
       "      <td>Columbia Valley</td>\n",
       "      <td>Paul Gregutt</td>\n",
       "      <td>@paulgwine</td>\n",
       "      <td>Nicholas Cole Cellars 2004 Reserve Red (Walla ...</td>\n",
       "      <td>Red Blend</td>\n",
       "      <td>Nicholas Cole Cellars</td>\n",
       "    </tr>\n",
       "  </tbody>\n",
       "</table>\n",
       "<p>1485 rows × 12 columns</p>\n",
       "</div>"
      ],
      "text/plain": [
       "                                             description designation  points  \\\n",
       "91     There is an odd, piercing edge to the aromas, ...     Reserve      85   \n",
       "98     Tasty, with pie-filling cherries, blackberries...     Reserve      85   \n",
       "125    With a fruity-sugary finish, this Zin will app...     Reserve      86   \n",
       "161    Fine acidity and a bracing minerality, like a ...     Reserve      92   \n",
       "226    This is a lovely wine, classically rendered in...     Reserve      93   \n",
       "...                                                  ...         ...     ...   \n",
       "54412  This robust wine is made from 62% Merlot, 37% ...     Reserve      90   \n",
       "54420  Blackberry juice mixes with graphite, cedar an...     Reserve      90   \n",
       "54462  Dusty tannins make for a soft texture in this ...     Reserve      90   \n",
       "54475  This wine is mostly Cabernet Sauvignon (78%), ...     Reserve      90   \n",
       "54491  This ripe, rich, almost decadently thick wine ...     Reserve      91   \n",
       "\n",
       "       price    province                   region_1           region_2  \\\n",
       "91      28.0      Oregon          Willamette Valley  Willamette Valley   \n",
       "98      25.0  California            Sonoma Mountain             Sonoma   \n",
       "125     34.0  California                  Mendocino                NaN   \n",
       "161     40.0  California                   Carneros        Napa-Sonoma   \n",
       "226     70.0  California            Howell Mountain               Napa   \n",
       "...      ...         ...                        ...                ...   \n",
       "54412  140.0  California  Sonoma County-Napa County        Napa-Sonoma   \n",
       "54420   50.0  California          Santa Ynez Valley      Central Coast   \n",
       "54462   44.0  California                   Carneros        Napa-Sonoma   \n",
       "54475   60.0  Washington       Columbia Valley (WA)    Columbia Valley   \n",
       "54491  105.0  Washington    Walla Walla Valley (WA)    Columbia Valley   \n",
       "\n",
       "            taster_name taster_twitter_handle  \\\n",
       "91         Paul Gregutt           @paulgwine    \n",
       "98                  NaN                   NaN   \n",
       "125                 NaN                   NaN   \n",
       "161                 NaN                   NaN   \n",
       "226      Virginie Boone               @vboone   \n",
       "...                 ...                   ...   \n",
       "54412    Virginie Boone               @vboone   \n",
       "54420     Matt Kettmann         @mattkettmann   \n",
       "54462    Virginie Boone               @vboone   \n",
       "54475  Sean P. Sullivan         @wawinereport   \n",
       "54491      Paul Gregutt           @paulgwine    \n",
       "\n",
       "                                                   title  \\\n",
       "91     Silvan Ridge 2006 Reserve Pinot Noir (Willamet...   \n",
       "98            Work 2004 Reserve Merlot (Sonoma Mountain)   \n",
       "125          Brutocao 2006 Reserve Zinfandel (Mendocino)   \n",
       "161    Robert Mondavi 2011 Reserve Chardonnay (Carneros)   \n",
       "226    W.H. Smith 2012 Reserve Cabernet Sauvignon (Ho...   \n",
       "...                                                  ...   \n",
       "54412  Pride Mountain 2013 Reserve Claret (Sonoma Cou...   \n",
       "54420  Brander 2014 Reserve Cabernet Sauvignon (Santa...   \n",
       "54462            Ca' Momi 2013 Reserve Merlot (Carneros)   \n",
       "54475   Matthews 2012 Reserve Red (Columbia Valley (WA))   \n",
       "54491  Nicholas Cole Cellars 2004 Reserve Red (Walla ...   \n",
       "\n",
       "                        variety                 winery  \n",
       "91                   Pinot Noir           Silvan Ridge  \n",
       "98                       Merlot                   Work  \n",
       "125                   Zinfandel               Brutocao  \n",
       "161                  Chardonnay         Robert Mondavi  \n",
       "226          Cabernet Sauvignon             W.H. Smith  \n",
       "...                         ...                    ...  \n",
       "54412                    Claret         Pride Mountain  \n",
       "54420        Cabernet Sauvignon                Brander  \n",
       "54462                    Merlot               Ca' Momi  \n",
       "54475  Bordeaux-style Red Blend               Matthews  \n",
       "54491                 Red Blend  Nicholas Cole Cellars  \n",
       "\n",
       "[1485 rows x 12 columns]"
      ]
     },
     "execution_count": 9,
     "metadata": {},
     "output_type": "execute_result"
    }
   ],
   "source": [
    "wine_US[wine_US['designation'] == \"Reserve\"]"
   ]
  },
  {
   "cell_type": "code",
   "execution_count": 10,
   "metadata": {},
   "outputs": [
    {
     "data": {
      "text/plain": [
       "(265,)"
      ]
     },
     "execution_count": 10,
     "metadata": {},
     "output_type": "execute_result"
    }
   ],
   "source": [
    "wine_US['region_1'].unique().shape"
   ]
  },
  {
   "cell_type": "markdown",
   "metadata": {},
   "source": [
    "However, since the information contained in this column is complicated, including the city names, county names, even the names of the states, it should be used as text. "
   ]
  },
  {
   "cell_type": "code",
   "execution_count": 11,
   "metadata": {
    "scrolled": true
   },
   "outputs": [
    {
     "data": {
      "text/plain": [
       "(18,)"
      ]
     },
     "execution_count": 11,
     "metadata": {},
     "output_type": "execute_result"
    }
   ],
   "source": [
    "wine_US['region_2'].unique().shape"
   ]
  },
  {
   "cell_type": "code",
   "execution_count": 12,
   "metadata": {},
   "outputs": [
    {
     "data": {
      "text/plain": [
       "0.07326067811536768"
      ]
     },
     "execution_count": 12,
     "metadata": {},
     "output_type": "execute_result"
    }
   ],
   "source": [
    "sum(pd.isna(wine_US['region_2']))/len(wine_US)"
   ]
  },
  {
   "cell_type": "code",
   "execution_count": 13,
   "metadata": {},
   "outputs": [
    {
     "data": {
      "text/plain": [
       "3993"
      ]
     },
     "execution_count": 13,
     "metadata": {},
     "output_type": "execute_result"
    }
   ],
   "source": [
    "sum(pd.isna(wine_US['region_2']))"
   ]
  },
  {
   "cell_type": "code",
   "execution_count": 14,
   "metadata": {
    "scrolled": true
   },
   "outputs": [
    {
     "data": {
      "text/html": [
       "<div>\n",
       "<style scoped>\n",
       "    .dataframe tbody tr th:only-of-type {\n",
       "        vertical-align: middle;\n",
       "    }\n",
       "\n",
       "    .dataframe tbody tr th {\n",
       "        vertical-align: top;\n",
       "    }\n",
       "\n",
       "    .dataframe thead th {\n",
       "        text-align: right;\n",
       "    }\n",
       "</style>\n",
       "<table border=\"1\" class=\"dataframe\">\n",
       "  <thead>\n",
       "    <tr style=\"text-align: right;\">\n",
       "      <th></th>\n",
       "      <th>description</th>\n",
       "      <th>designation</th>\n",
       "      <th>points</th>\n",
       "      <th>price</th>\n",
       "      <th>province</th>\n",
       "      <th>region_1</th>\n",
       "      <th>region_2</th>\n",
       "      <th>taster_name</th>\n",
       "      <th>taster_twitter_handle</th>\n",
       "      <th>title</th>\n",
       "      <th>variety</th>\n",
       "      <th>winery</th>\n",
       "    </tr>\n",
       "  </thead>\n",
       "  <tbody>\n",
       "    <tr>\n",
       "      <th>3</th>\n",
       "      <td>Soft, supple plum envelopes an oaky structure ...</td>\n",
       "      <td>Mountain Cuvée</td>\n",
       "      <td>87</td>\n",
       "      <td>19.0</td>\n",
       "      <td>California</td>\n",
       "      <td>Napa Valley</td>\n",
       "      <td>Napa</td>\n",
       "      <td>Virginie Boone</td>\n",
       "      <td>@vboone</td>\n",
       "      <td>Kirkland Signature 2011 Mountain Cuvée Caberne...</td>\n",
       "      <td>Cabernet Sauvignon</td>\n",
       "      <td>Kirkland Signature</td>\n",
       "    </tr>\n",
       "    <tr>\n",
       "      <th>20</th>\n",
       "      <td>This shows jelly-like flavors of orange and pe...</td>\n",
       "      <td>Estate Bottled</td>\n",
       "      <td>85</td>\n",
       "      <td>30.0</td>\n",
       "      <td>California</td>\n",
       "      <td>Napa Valley</td>\n",
       "      <td>Napa</td>\n",
       "      <td>NaN</td>\n",
       "      <td>NaN</td>\n",
       "      <td>RustRidge 2010 Estate Bottled Chardonnay (Napa...</td>\n",
       "      <td>Chardonnay</td>\n",
       "      <td>RustRidge</td>\n",
       "    </tr>\n",
       "    <tr>\n",
       "      <th>23</th>\n",
       "      <td>Syrupy and dense, this wine is jammy in plum a...</td>\n",
       "      <td>Estate</td>\n",
       "      <td>86</td>\n",
       "      <td>100.0</td>\n",
       "      <td>California</td>\n",
       "      <td>Napa Valley</td>\n",
       "      <td>Napa</td>\n",
       "      <td>Virginie Boone</td>\n",
       "      <td>@vboone</td>\n",
       "      <td>Okapi 2013 Estate Cabernet Sauvignon (Napa Val...</td>\n",
       "      <td>Cabernet Sauvignon</td>\n",
       "      <td>Okapi</td>\n",
       "    </tr>\n",
       "    <tr>\n",
       "      <th>30</th>\n",
       "      <td>Juicy plum, raspberry and pencil lead lead the...</td>\n",
       "      <td>Bella Vetta Vineyard</td>\n",
       "      <td>86</td>\n",
       "      <td>75.0</td>\n",
       "      <td>California</td>\n",
       "      <td>Howell Mountain</td>\n",
       "      <td>Napa</td>\n",
       "      <td>Virginie Boone</td>\n",
       "      <td>@vboone</td>\n",
       "      <td>Hindsight 2013 Bella Vetta Vineyard Cabernet S...</td>\n",
       "      <td>Cabernet Sauvignon</td>\n",
       "      <td>Hindsight</td>\n",
       "    </tr>\n",
       "    <tr>\n",
       "      <th>31</th>\n",
       "      <td>This is the producer's first release of this w...</td>\n",
       "      <td>Estate Grown</td>\n",
       "      <td>86</td>\n",
       "      <td>55.0</td>\n",
       "      <td>California</td>\n",
       "      <td>Calistoga</td>\n",
       "      <td>Napa</td>\n",
       "      <td>Virginie Boone</td>\n",
       "      <td>@vboone</td>\n",
       "      <td>Hindsight 2012 Estate Grown Petite Sirah (Cali...</td>\n",
       "      <td>Petite Sirah</td>\n",
       "      <td>Hindsight</td>\n",
       "    </tr>\n",
       "    <tr>\n",
       "      <th>...</th>\n",
       "      <td>...</td>\n",
       "      <td>...</td>\n",
       "      <td>...</td>\n",
       "      <td>...</td>\n",
       "      <td>...</td>\n",
       "      <td>...</td>\n",
       "      <td>...</td>\n",
       "      <td>...</td>\n",
       "      <td>...</td>\n",
       "      <td>...</td>\n",
       "      <td>...</td>\n",
       "      <td>...</td>\n",
       "    </tr>\n",
       "    <tr>\n",
       "      <th>54483</th>\n",
       "      <td>Aged entirely in stainless steel, this combine...</td>\n",
       "      <td>Proprietary</td>\n",
       "      <td>91</td>\n",
       "      <td>30.0</td>\n",
       "      <td>California</td>\n",
       "      <td>Napa Valley</td>\n",
       "      <td>Napa</td>\n",
       "      <td>Virginie Boone</td>\n",
       "      <td>@vboone</td>\n",
       "      <td>Paraduxx 2015 Proprietary White (Napa Valley)</td>\n",
       "      <td>White Blend</td>\n",
       "      <td>Paraduxx</td>\n",
       "    </tr>\n",
       "    <tr>\n",
       "      <th>54485</th>\n",
       "      <td>Pencil shaving and graphite notes lend a class...</td>\n",
       "      <td>NaN</td>\n",
       "      <td>91</td>\n",
       "      <td>35.0</td>\n",
       "      <td>California</td>\n",
       "      <td>Napa Valley</td>\n",
       "      <td>Napa</td>\n",
       "      <td>Virginie Boone</td>\n",
       "      <td>@vboone</td>\n",
       "      <td>Conn Creek 2013 Cabernet Sauvignon (Napa Valley)</td>\n",
       "      <td>Cabernet Sauvignon</td>\n",
       "      <td>Conn Creek</td>\n",
       "    </tr>\n",
       "    <tr>\n",
       "      <th>54500</th>\n",
       "      <td>There's no bones about the use of oak in this ...</td>\n",
       "      <td>Barrel Fermented</td>\n",
       "      <td>90</td>\n",
       "      <td>35.0</td>\n",
       "      <td>California</td>\n",
       "      <td>Napa Valley</td>\n",
       "      <td>Napa</td>\n",
       "      <td>Virginie Boone</td>\n",
       "      <td>@vboone</td>\n",
       "      <td>Flora Springs 2013 Barrel Fermented Chardonnay...</td>\n",
       "      <td>Chardonnay</td>\n",
       "      <td>Flora Springs</td>\n",
       "    </tr>\n",
       "    <tr>\n",
       "      <th>54501</th>\n",
       "      <td>This opens with herbaceous dollops of thyme an...</td>\n",
       "      <td>Blocks 7 &amp; 22</td>\n",
       "      <td>90</td>\n",
       "      <td>35.0</td>\n",
       "      <td>California</td>\n",
       "      <td>Napa Valley</td>\n",
       "      <td>Napa</td>\n",
       "      <td>Virginie Boone</td>\n",
       "      <td>@vboone</td>\n",
       "      <td>Hendry 2012 Blocks 7 &amp; 22 Zinfandel (Napa Valley)</td>\n",
       "      <td>Zinfandel</td>\n",
       "      <td>Hendry</td>\n",
       "    </tr>\n",
       "    <tr>\n",
       "      <th>54502</th>\n",
       "      <td>This Zinfandel from the eastern section of Nap...</td>\n",
       "      <td>NaN</td>\n",
       "      <td>90</td>\n",
       "      <td>22.0</td>\n",
       "      <td>California</td>\n",
       "      <td>Chiles Valley</td>\n",
       "      <td>Napa</td>\n",
       "      <td>Virginie Boone</td>\n",
       "      <td>@vboone</td>\n",
       "      <td>Houdini 2011 Zinfandel (Chiles Valley)</td>\n",
       "      <td>Zinfandel</td>\n",
       "      <td>Houdini</td>\n",
       "    </tr>\n",
       "  </tbody>\n",
       "</table>\n",
       "<p>6814 rows × 12 columns</p>\n",
       "</div>"
      ],
      "text/plain": [
       "                                             description  \\\n",
       "3      Soft, supple plum envelopes an oaky structure ...   \n",
       "20     This shows jelly-like flavors of orange and pe...   \n",
       "23     Syrupy and dense, this wine is jammy in plum a...   \n",
       "30     Juicy plum, raspberry and pencil lead lead the...   \n",
       "31     This is the producer's first release of this w...   \n",
       "...                                                  ...   \n",
       "54483  Aged entirely in stainless steel, this combine...   \n",
       "54485  Pencil shaving and graphite notes lend a class...   \n",
       "54500  There's no bones about the use of oak in this ...   \n",
       "54501  This opens with herbaceous dollops of thyme an...   \n",
       "54502  This Zinfandel from the eastern section of Nap...   \n",
       "\n",
       "                designation  points  price    province         region_1  \\\n",
       "3            Mountain Cuvée      87   19.0  California      Napa Valley   \n",
       "20           Estate Bottled      85   30.0  California      Napa Valley   \n",
       "23                   Estate      86  100.0  California      Napa Valley   \n",
       "30     Bella Vetta Vineyard      86   75.0  California  Howell Mountain   \n",
       "31             Estate Grown      86   55.0  California        Calistoga   \n",
       "...                     ...     ...    ...         ...              ...   \n",
       "54483           Proprietary      91   30.0  California      Napa Valley   \n",
       "54485                   NaN      91   35.0  California      Napa Valley   \n",
       "54500      Barrel Fermented      90   35.0  California      Napa Valley   \n",
       "54501         Blocks 7 & 22      90   35.0  California      Napa Valley   \n",
       "54502                   NaN      90   22.0  California    Chiles Valley   \n",
       "\n",
       "      region_2     taster_name taster_twitter_handle  \\\n",
       "3         Napa  Virginie Boone               @vboone   \n",
       "20        Napa             NaN                   NaN   \n",
       "23        Napa  Virginie Boone               @vboone   \n",
       "30        Napa  Virginie Boone               @vboone   \n",
       "31        Napa  Virginie Boone               @vboone   \n",
       "...        ...             ...                   ...   \n",
       "54483     Napa  Virginie Boone               @vboone   \n",
       "54485     Napa  Virginie Boone               @vboone   \n",
       "54500     Napa  Virginie Boone               @vboone   \n",
       "54501     Napa  Virginie Boone               @vboone   \n",
       "54502     Napa  Virginie Boone               @vboone   \n",
       "\n",
       "                                                   title             variety  \\\n",
       "3      Kirkland Signature 2011 Mountain Cuvée Caberne...  Cabernet Sauvignon   \n",
       "20     RustRidge 2010 Estate Bottled Chardonnay (Napa...          Chardonnay   \n",
       "23     Okapi 2013 Estate Cabernet Sauvignon (Napa Val...  Cabernet Sauvignon   \n",
       "30     Hindsight 2013 Bella Vetta Vineyard Cabernet S...  Cabernet Sauvignon   \n",
       "31     Hindsight 2012 Estate Grown Petite Sirah (Cali...        Petite Sirah   \n",
       "...                                                  ...                 ...   \n",
       "54483      Paraduxx 2015 Proprietary White (Napa Valley)         White Blend   \n",
       "54485   Conn Creek 2013 Cabernet Sauvignon (Napa Valley)  Cabernet Sauvignon   \n",
       "54500  Flora Springs 2013 Barrel Fermented Chardonnay...          Chardonnay   \n",
       "54501  Hendry 2012 Blocks 7 & 22 Zinfandel (Napa Valley)           Zinfandel   \n",
       "54502             Houdini 2011 Zinfandel (Chiles Valley)           Zinfandel   \n",
       "\n",
       "                   winery  \n",
       "3      Kirkland Signature  \n",
       "20              RustRidge  \n",
       "23                  Okapi  \n",
       "30              Hindsight  \n",
       "31              Hindsight  \n",
       "...                   ...  \n",
       "54483            Paraduxx  \n",
       "54485          Conn Creek  \n",
       "54500       Flora Springs  \n",
       "54501              Hendry  \n",
       "54502             Houdini  \n",
       "\n",
       "[6814 rows x 12 columns]"
      ]
     },
     "execution_count": 14,
     "metadata": {},
     "output_type": "execute_result"
    }
   ],
   "source": [
    "wine_US[wine_US['region_2'] == \"Napa\"]"
   ]
  },
  {
   "cell_type": "markdown",
   "metadata": {},
   "source": [
    "Since there are are total of 14184 unique values of designations, and there are 1485 observations with designation \"Reserve\", this column is considered as a text column.  "
   ]
  },
  {
   "cell_type": "code",
   "execution_count": 15,
   "metadata": {
    "scrolled": true
   },
   "outputs": [
    {
     "data": {
      "text/plain": [
       "(16,)"
      ]
     },
     "execution_count": 15,
     "metadata": {},
     "output_type": "execute_result"
    }
   ],
   "source": [
    "wine_US['taster_name'].unique().shape"
   ]
  },
  {
   "cell_type": "code",
   "execution_count": 16,
   "metadata": {},
   "outputs": [
    {
     "data": {
      "text/plain": [
       "(50229,)"
      ]
     },
     "execution_count": 16,
     "metadata": {},
     "output_type": "execute_result"
    }
   ],
   "source": [
    "wine_US['title'].unique().shape"
   ]
  },
  {
   "cell_type": "code",
   "execution_count": 17,
   "metadata": {},
   "outputs": [
    {
     "data": {
      "text/plain": [
       "(257,)"
      ]
     },
     "execution_count": 17,
     "metadata": {},
     "output_type": "execute_result"
    }
   ],
   "source": [
    "wine_US['variety'].unique().shape"
   ]
  },
  {
   "cell_type": "code",
   "execution_count": 18,
   "metadata": {},
   "outputs": [
    {
     "data": {
      "text/plain": [
       "(5375,)"
      ]
     },
     "execution_count": 18,
     "metadata": {},
     "output_type": "execute_result"
    }
   ],
   "source": [
    "wine_US['winery'].unique().shape"
   ]
  },
  {
   "cell_type": "code",
   "execution_count": 19,
   "metadata": {},
   "outputs": [],
   "source": [
    "wine_US['points'] = wine_US['points'].astype('float64')"
   ]
  },
  {
   "cell_type": "markdown",
   "metadata": {},
   "source": [
    "Since the column \"Winery\" consists of 5375 rows, and mostly composited of names, it should be used as a categorical variable through target encoding. "
   ]
  },
  {
   "cell_type": "code",
   "execution_count": 20,
   "metadata": {},
   "outputs": [],
   "source": [
    "wine_US_1 = wine_US.copy()"
   ]
  },
  {
   "cell_type": "code",
   "execution_count": 21,
   "metadata": {
    "scrolled": true
   },
   "outputs": [
    {
     "data": {
      "text/html": [
       "<div>\n",
       "<style scoped>\n",
       "    .dataframe tbody tr th:only-of-type {\n",
       "        vertical-align: middle;\n",
       "    }\n",
       "\n",
       "    .dataframe tbody tr th {\n",
       "        vertical-align: top;\n",
       "    }\n",
       "\n",
       "    .dataframe thead th {\n",
       "        text-align: right;\n",
       "    }\n",
       "</style>\n",
       "<table border=\"1\" class=\"dataframe\">\n",
       "  <thead>\n",
       "    <tr style=\"text-align: right;\">\n",
       "      <th></th>\n",
       "      <th>description</th>\n",
       "      <th>designation</th>\n",
       "      <th>points</th>\n",
       "      <th>price</th>\n",
       "      <th>province</th>\n",
       "      <th>region_1</th>\n",
       "      <th>region_2</th>\n",
       "      <th>taster_name</th>\n",
       "      <th>taster_twitter_handle</th>\n",
       "      <th>title</th>\n",
       "      <th>variety</th>\n",
       "      <th>winery</th>\n",
       "    </tr>\n",
       "  </thead>\n",
       "  <tbody>\n",
       "    <tr>\n",
       "      <th>0</th>\n",
       "      <td>Tart and snappy, the flavors of lime flesh and...</td>\n",
       "      <td>NaN</td>\n",
       "      <td>87.0</td>\n",
       "      <td>14.0</td>\n",
       "      <td>Oregon</td>\n",
       "      <td>Willamette Valley</td>\n",
       "      <td>Willamette Valley</td>\n",
       "      <td>Paul Gregutt</td>\n",
       "      <td>@paulgwine</td>\n",
       "      <td>Rainstorm 2013 Pinot Gris (Willamette Valley)</td>\n",
       "      <td>Pinot Gris</td>\n",
       "      <td>Rainstorm</td>\n",
       "    </tr>\n",
       "    <tr>\n",
       "      <th>1</th>\n",
       "      <td>Pineapple rind, lemon pith and orange blossom ...</td>\n",
       "      <td>Reserve Late Harvest</td>\n",
       "      <td>87.0</td>\n",
       "      <td>13.0</td>\n",
       "      <td>Michigan</td>\n",
       "      <td>Lake Michigan Shore</td>\n",
       "      <td>NaN</td>\n",
       "      <td>Alexander Peartree</td>\n",
       "      <td>NaN</td>\n",
       "      <td>St. Julian 2013 Reserve Late Harvest Riesling ...</td>\n",
       "      <td>Riesling</td>\n",
       "      <td>St. Julian</td>\n",
       "    </tr>\n",
       "    <tr>\n",
       "      <th>2</th>\n",
       "      <td>Much like the regular bottling from 2012, this...</td>\n",
       "      <td>Vintner's Reserve Wild Child Block</td>\n",
       "      <td>87.0</td>\n",
       "      <td>65.0</td>\n",
       "      <td>Oregon</td>\n",
       "      <td>Willamette Valley</td>\n",
       "      <td>Willamette Valley</td>\n",
       "      <td>Paul Gregutt</td>\n",
       "      <td>@paulgwine</td>\n",
       "      <td>Sweet Cheeks 2012 Vintner's Reserve Wild Child...</td>\n",
       "      <td>Pinot Noir</td>\n",
       "      <td>Sweet Cheeks</td>\n",
       "    </tr>\n",
       "    <tr>\n",
       "      <th>3</th>\n",
       "      <td>Soft, supple plum envelopes an oaky structure ...</td>\n",
       "      <td>Mountain Cuvée</td>\n",
       "      <td>87.0</td>\n",
       "      <td>19.0</td>\n",
       "      <td>California</td>\n",
       "      <td>Napa Valley</td>\n",
       "      <td>Napa</td>\n",
       "      <td>Virginie Boone</td>\n",
       "      <td>@vboone</td>\n",
       "      <td>Kirkland Signature 2011 Mountain Cuvée Caberne...</td>\n",
       "      <td>Cabernet Sauvignon</td>\n",
       "      <td>Kirkland Signature</td>\n",
       "    </tr>\n",
       "    <tr>\n",
       "      <th>4</th>\n",
       "      <td>Slightly reduced, this wine offers a chalky, t...</td>\n",
       "      <td>NaN</td>\n",
       "      <td>87.0</td>\n",
       "      <td>34.0</td>\n",
       "      <td>California</td>\n",
       "      <td>Alexander Valley</td>\n",
       "      <td>Sonoma</td>\n",
       "      <td>Virginie Boone</td>\n",
       "      <td>@vboone</td>\n",
       "      <td>Louis M. Martini 2012 Cabernet Sauvignon (Alex...</td>\n",
       "      <td>Cabernet Sauvignon</td>\n",
       "      <td>Louis M. Martini</td>\n",
       "    </tr>\n",
       "  </tbody>\n",
       "</table>\n",
       "</div>"
      ],
      "text/plain": [
       "                                         description  \\\n",
       "0  Tart and snappy, the flavors of lime flesh and...   \n",
       "1  Pineapple rind, lemon pith and orange blossom ...   \n",
       "2  Much like the regular bottling from 2012, this...   \n",
       "3  Soft, supple plum envelopes an oaky structure ...   \n",
       "4  Slightly reduced, this wine offers a chalky, t...   \n",
       "\n",
       "                          designation  points  price    province  \\\n",
       "0                                 NaN    87.0   14.0      Oregon   \n",
       "1                Reserve Late Harvest    87.0   13.0    Michigan   \n",
       "2  Vintner's Reserve Wild Child Block    87.0   65.0      Oregon   \n",
       "3                      Mountain Cuvée    87.0   19.0  California   \n",
       "4                                 NaN    87.0   34.0  California   \n",
       "\n",
       "              region_1           region_2         taster_name  \\\n",
       "0    Willamette Valley  Willamette Valley        Paul Gregutt   \n",
       "1  Lake Michigan Shore                NaN  Alexander Peartree   \n",
       "2    Willamette Valley  Willamette Valley        Paul Gregutt   \n",
       "3          Napa Valley               Napa      Virginie Boone   \n",
       "4     Alexander Valley             Sonoma      Virginie Boone   \n",
       "\n",
       "  taster_twitter_handle                                              title  \\\n",
       "0           @paulgwine       Rainstorm 2013 Pinot Gris (Willamette Valley)   \n",
       "1                   NaN  St. Julian 2013 Reserve Late Harvest Riesling ...   \n",
       "2           @paulgwine   Sweet Cheeks 2012 Vintner's Reserve Wild Child...   \n",
       "3               @vboone  Kirkland Signature 2011 Mountain Cuvée Caberne...   \n",
       "4               @vboone  Louis M. Martini 2012 Cabernet Sauvignon (Alex...   \n",
       "\n",
       "              variety              winery  \n",
       "0          Pinot Gris           Rainstorm  \n",
       "1            Riesling          St. Julian  \n",
       "2          Pinot Noir        Sweet Cheeks  \n",
       "3  Cabernet Sauvignon  Kirkland Signature  \n",
       "4  Cabernet Sauvignon    Louis M. Martini  "
      ]
     },
     "execution_count": 21,
     "metadata": {},
     "output_type": "execute_result"
    }
   ],
   "source": [
    "wine_US_1.head()"
   ]
  },
  {
   "cell_type": "code",
   "execution_count": 22,
   "metadata": {
    "scrolled": true
   },
   "outputs": [
    {
     "name": "stdout",
     "output_type": "stream",
     "text": [
      "<class 'pandas.core.frame.DataFrame'>\n",
      "Int64Index: 54504 entries, 0 to 54503\n",
      "Data columns (total 12 columns):\n",
      " #   Column                 Non-Null Count  Dtype  \n",
      "---  ------                 --------------  -----  \n",
      " 0   description            54504 non-null  object \n",
      " 1   designation            36908 non-null  object \n",
      " 2   points                 54504 non-null  float64\n",
      " 3   price                  54265 non-null  float64\n",
      " 4   province               54504 non-null  object \n",
      " 5   region_1               54226 non-null  object \n",
      " 6   region_2               50511 non-null  object \n",
      " 7   taster_name            37730 non-null  object \n",
      " 8   taster_twitter_handle  34741 non-null  object \n",
      " 9   title                  54504 non-null  object \n",
      " 10  variety                54504 non-null  object \n",
      " 11  winery                 54504 non-null  object \n",
      "dtypes: float64(2), object(10)\n",
      "memory usage: 5.4+ MB\n"
     ]
    }
   ],
   "source": [
    "wine_US_1.info()"
   ]
  },
  {
   "cell_type": "code",
   "execution_count": 23,
   "metadata": {},
   "outputs": [],
   "source": [
    "wine_US_1['points'] = wine_US_1['points'].astype('float64')"
   ]
  },
  {
   "cell_type": "code",
   "execution_count": 24,
   "metadata": {},
   "outputs": [
    {
     "data": {
      "image/png": "[encoded data removed]",
      "text/plain": [
       "<Figure size 432x288 with 1 Axes>"
      ]
     },
     "metadata": {
      "needs_background": "light"
     },
     "output_type": "display_data"
    }
   ],
   "source": [
    "plt.hist(wine_US_1['price'][(wine_US_1['price'] > 0) & (wine_US_1['price'] <200)], bins = 'auto')\n",
    "plt.show()"
   ]
  },
  {
   "cell_type": "code",
   "execution_count": 25,
   "metadata": {
    "scrolled": true
   },
   "outputs": [
    {
     "data": {
      "text/plain": [
       "723       300.0\n",
       "1355      260.0\n",
       "6301      500.0\n",
       "10445     625.0\n",
       "11101     260.0\n",
       "11370     265.0\n",
       "16152     625.0\n",
       "17341     275.0\n",
       "18478     325.0\n",
       "18976     275.0\n",
       "20959     275.0\n",
       "21029     275.0\n",
       "21030     450.0\n",
       "21037     275.0\n",
       "21570     750.0\n",
       "22755     260.0\n",
       "24197     275.0\n",
       "28892     300.0\n",
       "31065     325.0\n",
       "31392     300.0\n",
       "31787     350.0\n",
       "34021     300.0\n",
       "34033     260.0\n",
       "34434     275.0\n",
       "34870     625.0\n",
       "41033     400.0\n",
       "41363     325.0\n",
       "43018     450.0\n",
       "45913     325.0\n",
       "45936     275.0\n",
       "48524     300.0\n",
       "49399     450.0\n",
       "49403     450.0\n",
       "49404     450.0\n",
       "49407     450.0\n",
       "50385    2013.0\n",
       "51045     290.0\n",
       "51054     335.0\n",
       "52085     500.0\n",
       "52086     290.0\n",
       "54106     450.0\n",
       "Name: price, dtype: float64"
      ]
     },
     "execution_count": 25,
     "metadata": {},
     "output_type": "execute_result"
    }
   ],
   "source": [
    "wine_US_1['price'][wine_US_1['price']> 250 ]"
   ]
  },
  {
   "cell_type": "code",
   "execution_count": 26,
   "metadata": {
    "scrolled": true
   },
   "outputs": [
    {
     "data": {
      "text/html": [
       "<div>\n",
       "<style scoped>\n",
       "    .dataframe tbody tr th:only-of-type {\n",
       "        vertical-align: middle;\n",
       "    }\n",
       "\n",
       "    .dataframe tbody tr th {\n",
       "        vertical-align: top;\n",
       "    }\n",
       "\n",
       "    .dataframe thead th {\n",
       "        text-align: right;\n",
       "    }\n",
       "</style>\n",
       "<table border=\"1\" class=\"dataframe\">\n",
       "  <thead>\n",
       "    <tr style=\"text-align: right;\">\n",
       "      <th></th>\n",
       "      <th>description</th>\n",
       "      <th>designation</th>\n",
       "      <th>points</th>\n",
       "      <th>price</th>\n",
       "      <th>province</th>\n",
       "      <th>region_1</th>\n",
       "      <th>region_2</th>\n",
       "      <th>taster_name</th>\n",
       "      <th>taster_twitter_handle</th>\n",
       "      <th>title</th>\n",
       "      <th>variety</th>\n",
       "      <th>winery</th>\n",
       "    </tr>\n",
       "  </thead>\n",
       "  <tbody>\n",
       "    <tr>\n",
       "      <th>10445</th>\n",
       "      <td>As imposing as the athlete himself, this is an...</td>\n",
       "      <td>Family Reserve</td>\n",
       "      <td>94.0</td>\n",
       "      <td>625.0</td>\n",
       "      <td>California</td>\n",
       "      <td>Napa Valley</td>\n",
       "      <td>Napa</td>\n",
       "      <td>Virginie Boone</td>\n",
       "      <td>@vboone</td>\n",
       "      <td>Yao Ming 2011 Family Reserve Cabernet Sauvigno...</td>\n",
       "      <td>Cabernet Sauvignon</td>\n",
       "      <td>Yao Ming</td>\n",
       "    </tr>\n",
       "    <tr>\n",
       "      <th>16152</th>\n",
       "      <td>We can debate the pricing on Yao Ming's new re...</td>\n",
       "      <td>Family Reserve</td>\n",
       "      <td>98.0</td>\n",
       "      <td>625.0</td>\n",
       "      <td>California</td>\n",
       "      <td>Napa Valley</td>\n",
       "      <td>Napa</td>\n",
       "      <td>NaN</td>\n",
       "      <td>NaN</td>\n",
       "      <td>Yao Ming 2010 Family Reserve Cabernet Sauvigno...</td>\n",
       "      <td>Cabernet Sauvignon</td>\n",
       "      <td>Yao Ming</td>\n",
       "    </tr>\n",
       "    <tr>\n",
       "      <th>34870</th>\n",
       "      <td>The former basketball star's initial release i...</td>\n",
       "      <td>Family Reserve</td>\n",
       "      <td>97.0</td>\n",
       "      <td>625.0</td>\n",
       "      <td>California</td>\n",
       "      <td>Napa Valley</td>\n",
       "      <td>Napa</td>\n",
       "      <td>NaN</td>\n",
       "      <td>NaN</td>\n",
       "      <td>Yao Ming 2009 Family Reserve Cabernet Sauvigno...</td>\n",
       "      <td>Cabernet Sauvignon</td>\n",
       "      <td>Yao Ming</td>\n",
       "    </tr>\n",
       "  </tbody>\n",
       "</table>\n",
       "</div>"
      ],
      "text/plain": [
       "                                             description     designation  \\\n",
       "10445  As imposing as the athlete himself, this is an...  Family Reserve   \n",
       "16152  We can debate the pricing on Yao Ming's new re...  Family Reserve   \n",
       "34870  The former basketball star's initial release i...  Family Reserve   \n",
       "\n",
       "       points  price    province     region_1 region_2     taster_name  \\\n",
       "10445    94.0  625.0  California  Napa Valley     Napa  Virginie Boone   \n",
       "16152    98.0  625.0  California  Napa Valley     Napa             NaN   \n",
       "34870    97.0  625.0  California  Napa Valley     Napa             NaN   \n",
       "\n",
       "      taster_twitter_handle  \\\n",
       "10445               @vboone   \n",
       "16152                   NaN   \n",
       "34870                   NaN   \n",
       "\n",
       "                                                   title             variety  \\\n",
       "10445  Yao Ming 2011 Family Reserve Cabernet Sauvigno...  Cabernet Sauvignon   \n",
       "16152  Yao Ming 2010 Family Reserve Cabernet Sauvigno...  Cabernet Sauvignon   \n",
       "34870  Yao Ming 2009 Family Reserve Cabernet Sauvigno...  Cabernet Sauvignon   \n",
       "\n",
       "         winery  \n",
       "10445  Yao Ming  \n",
       "16152  Yao Ming  \n",
       "34870  Yao Ming  "
      ]
     },
     "execution_count": 26,
     "metadata": {},
     "output_type": "execute_result"
    }
   ],
   "source": [
    "wine_US[wine_US['price'] == 625]"
   ]
  },
  {
   "cell_type": "code",
   "execution_count": 27,
   "metadata": {
    "scrolled": true
   },
   "outputs": [
    {
     "data": {
      "text/html": [
       "<div>\n",
       "<style scoped>\n",
       "    .dataframe tbody tr th:only-of-type {\n",
       "        vertical-align: middle;\n",
       "    }\n",
       "\n",
       "    .dataframe tbody tr th {\n",
       "        vertical-align: top;\n",
       "    }\n",
       "\n",
       "    .dataframe thead th {\n",
       "        text-align: right;\n",
       "    }\n",
       "</style>\n",
       "<table border=\"1\" class=\"dataframe\">\n",
       "  <thead>\n",
       "    <tr style=\"text-align: right;\">\n",
       "      <th></th>\n",
       "      <th>description</th>\n",
       "      <th>designation</th>\n",
       "      <th>points</th>\n",
       "      <th>price</th>\n",
       "      <th>province</th>\n",
       "      <th>region_1</th>\n",
       "      <th>region_2</th>\n",
       "      <th>taster_name</th>\n",
       "      <th>taster_twitter_handle</th>\n",
       "      <th>title</th>\n",
       "      <th>variety</th>\n",
       "      <th>winery</th>\n",
       "    </tr>\n",
       "  </thead>\n",
       "  <tbody>\n",
       "    <tr>\n",
       "      <th>6301</th>\n",
       "      <td>This is a hugely structured and concentrated w...</td>\n",
       "      <td>Double Plus Estate Grown</td>\n",
       "      <td>93.0</td>\n",
       "      <td>500.0</td>\n",
       "      <td>California</td>\n",
       "      <td>Rutherford</td>\n",
       "      <td>Napa</td>\n",
       "      <td>Virginie Boone</td>\n",
       "      <td>@vboone</td>\n",
       "      <td>Hewitt 2013 Double Plus Estate Grown Cabernet ...</td>\n",
       "      <td>Cabernet Sauvignon</td>\n",
       "      <td>Hewitt</td>\n",
       "    </tr>\n",
       "    <tr>\n",
       "      <th>52085</th>\n",
       "      <td>Here's a big, flashy, cult-style wine if ever ...</td>\n",
       "      <td>NaN</td>\n",
       "      <td>94.0</td>\n",
       "      <td>500.0</td>\n",
       "      <td>California</td>\n",
       "      <td>Napa Valley</td>\n",
       "      <td>Napa</td>\n",
       "      <td>NaN</td>\n",
       "      <td>NaN</td>\n",
       "      <td>Harlan Estate 2006 Red (Napa Valley)</td>\n",
       "      <td>Bordeaux-style Red Blend</td>\n",
       "      <td>Harlan Estate</td>\n",
       "    </tr>\n",
       "  </tbody>\n",
       "</table>\n",
       "</div>"
      ],
      "text/plain": [
       "                                             description  \\\n",
       "6301   This is a hugely structured and concentrated w...   \n",
       "52085  Here's a big, flashy, cult-style wine if ever ...   \n",
       "\n",
       "                    designation  points  price    province     region_1  \\\n",
       "6301   Double Plus Estate Grown    93.0  500.0  California   Rutherford   \n",
       "52085                       NaN    94.0  500.0  California  Napa Valley   \n",
       "\n",
       "      region_2     taster_name taster_twitter_handle  \\\n",
       "6301      Napa  Virginie Boone               @vboone   \n",
       "52085     Napa             NaN                   NaN   \n",
       "\n",
       "                                                   title  \\\n",
       "6301   Hewitt 2013 Double Plus Estate Grown Cabernet ...   \n",
       "52085               Harlan Estate 2006 Red (Napa Valley)   \n",
       "\n",
       "                        variety         winery  \n",
       "6301         Cabernet Sauvignon         Hewitt  \n",
       "52085  Bordeaux-style Red Blend  Harlan Estate  "
      ]
     },
     "execution_count": 27,
     "metadata": {},
     "output_type": "execute_result"
    }
   ],
   "source": [
    "wine_US[wine_US['price'] == 500]"
   ]
  },
  {
   "cell_type": "code",
   "execution_count": 28,
   "metadata": {},
   "outputs": [
    {
     "data": {
      "text/html": [
       "<div>\n",
       "<style scoped>\n",
       "    .dataframe tbody tr th:only-of-type {\n",
       "        vertical-align: middle;\n",
       "    }\n",
       "\n",
       "    .dataframe tbody tr th {\n",
       "        vertical-align: top;\n",
       "    }\n",
       "\n",
       "    .dataframe thead th {\n",
       "        text-align: right;\n",
       "    }\n",
       "</style>\n",
       "<table border=\"1\" class=\"dataframe\">\n",
       "  <thead>\n",
       "    <tr style=\"text-align: right;\">\n",
       "      <th></th>\n",
       "      <th>description</th>\n",
       "      <th>designation</th>\n",
       "      <th>points</th>\n",
       "      <th>price</th>\n",
       "      <th>province</th>\n",
       "      <th>region_1</th>\n",
       "      <th>region_2</th>\n",
       "      <th>taster_name</th>\n",
       "      <th>taster_twitter_handle</th>\n",
       "      <th>title</th>\n",
       "      <th>variety</th>\n",
       "      <th>winery</th>\n",
       "    </tr>\n",
       "  </thead>\n",
       "  <tbody>\n",
       "    <tr>\n",
       "      <th>21570</th>\n",
       "      <td>This is a powerful bottling, as is expected by...</td>\n",
       "      <td>Intrepid</td>\n",
       "      <td>92.0</td>\n",
       "      <td>750.0</td>\n",
       "      <td>California</td>\n",
       "      <td>Paso Robles</td>\n",
       "      <td>Central Coast</td>\n",
       "      <td>Matt Kettmann</td>\n",
       "      <td>@mattkettmann</td>\n",
       "      <td>Law 2013 Intrepid Syrah (Paso Robles)</td>\n",
       "      <td>Syrah</td>\n",
       "      <td>Law</td>\n",
       "    </tr>\n",
       "  </tbody>\n",
       "</table>\n",
       "</div>"
      ],
      "text/plain": [
       "                                             description designation  points  \\\n",
       "21570  This is a powerful bottling, as is expected by...    Intrepid    92.0   \n",
       "\n",
       "       price    province     region_1       region_2    taster_name  \\\n",
       "21570  750.0  California  Paso Robles  Central Coast  Matt Kettmann   \n",
       "\n",
       "      taster_twitter_handle                                  title variety  \\\n",
       "21570         @mattkettmann  Law 2013 Intrepid Syrah (Paso Robles)   Syrah   \n",
       "\n",
       "      winery  \n",
       "21570    Law  "
      ]
     },
     "execution_count": 28,
     "metadata": {},
     "output_type": "execute_result"
    }
   ],
   "source": [
    "wine_US[wine_US['price'] == 750]"
   ]
  },
  {
   "cell_type": "code",
   "execution_count": 29,
   "metadata": {
    "scrolled": true
   },
   "outputs": [
    {
     "data": {
      "text/html": [
       "<div>\n",
       "<style scoped>\n",
       "    .dataframe tbody tr th:only-of-type {\n",
       "        vertical-align: middle;\n",
       "    }\n",
       "\n",
       "    .dataframe tbody tr th {\n",
       "        vertical-align: top;\n",
       "    }\n",
       "\n",
       "    .dataframe thead th {\n",
       "        text-align: right;\n",
       "    }\n",
       "</style>\n",
       "<table border=\"1\" class=\"dataframe\">\n",
       "  <thead>\n",
       "    <tr style=\"text-align: right;\">\n",
       "      <th></th>\n",
       "      <th>description</th>\n",
       "      <th>designation</th>\n",
       "      <th>points</th>\n",
       "      <th>price</th>\n",
       "      <th>province</th>\n",
       "      <th>region_1</th>\n",
       "      <th>region_2</th>\n",
       "      <th>taster_name</th>\n",
       "      <th>taster_twitter_handle</th>\n",
       "      <th>title</th>\n",
       "      <th>variety</th>\n",
       "      <th>winery</th>\n",
       "    </tr>\n",
       "  </thead>\n",
       "  <tbody>\n",
       "    <tr>\n",
       "      <th>50385</th>\n",
       "      <td>The nose on this single-vineyard wine from a s...</td>\n",
       "      <td>Roger Rose Vineyard</td>\n",
       "      <td>91.0</td>\n",
       "      <td>2013.0</td>\n",
       "      <td>California</td>\n",
       "      <td>Arroyo Seco</td>\n",
       "      <td>Central Coast</td>\n",
       "      <td>Matt Kettmann</td>\n",
       "      <td>@mattkettmann</td>\n",
       "      <td>Blair 2013 Roger Rose Vineyard Chardonnay (Arr...</td>\n",
       "      <td>Chardonnay</td>\n",
       "      <td>Blair</td>\n",
       "    </tr>\n",
       "  </tbody>\n",
       "</table>\n",
       "</div>"
      ],
      "text/plain": [
       "                                             description          designation  \\\n",
       "50385  The nose on this single-vineyard wine from a s...  Roger Rose Vineyard   \n",
       "\n",
       "       points   price    province     region_1       region_2    taster_name  \\\n",
       "50385    91.0  2013.0  California  Arroyo Seco  Central Coast  Matt Kettmann   \n",
       "\n",
       "      taster_twitter_handle  \\\n",
       "50385         @mattkettmann   \n",
       "\n",
       "                                                   title     variety winery  \n",
       "50385  Blair 2013 Roger Rose Vineyard Chardonnay (Arr...  Chardonnay  Blair  "
      ]
     },
     "execution_count": 29,
     "metadata": {},
     "output_type": "execute_result"
    }
   ],
   "source": [
    "wine_US[wine_US['price'] == 2013]"
   ]
  },
  {
   "cell_type": "markdown",
   "metadata": {},
   "source": [
    "We did some research and found that the wine with price 2013 and 750 are typo, so we decide to delete these two rows."
   ]
  },
  {
   "cell_type": "code",
   "execution_count": 30,
   "metadata": {},
   "outputs": [],
   "source": [
    "wine_US_1 = wine_US_1[(wine_US_1['price']!= 2013) & (wine_US_1['price'] != 750)]"
   ]
  },
  {
   "cell_type": "code",
   "execution_count": 31,
   "metadata": {
    "scrolled": true
   },
   "outputs": [
    {
     "data": {
      "text/plain": [
       "California           2128\n",
       "Virginia              777\n",
       "Oregon                306\n",
       "Idaho                 192\n",
       "Michigan              114\n",
       "America                95\n",
       "Texas                  94\n",
       "Colorado               68\n",
       "New Mexico             45\n",
       "Arizona                41\n",
       "Missouri               33\n",
       "North Carolina         23\n",
       "Pennsylvania           18\n",
       "Ohio                   12\n",
       "New Jersey              8\n",
       "Massachusetts           7\n",
       "Washington-Oregon       7\n",
       "Illinois                6\n",
       "Iowa                    4\n",
       "Nevada                  4\n",
       "Vermont                 3\n",
       "Connecticut             3\n",
       "Washington              2\n",
       "Hawaii                  1\n",
       "Kentucky                1\n",
       "Rhode Island            1\n",
       "Name: province, dtype: int64"
      ]
     },
     "execution_count": 31,
     "metadata": {},
     "output_type": "execute_result"
    }
   ],
   "source": [
    "wine_US_1[pd.isna(wine_US_1['region_2'])]['province'].value_counts()"
   ]
  },
  {
   "cell_type": "code",
   "execution_count": 32,
   "metadata": {},
   "outputs": [
    {
     "data": {
      "text/plain": [
       "Central Coast       11063\n",
       "Sonoma               9028\n",
       "Napa                 6814\n",
       "California Other     2663\n",
       "Sierra Foothills     1462\n",
       "Napa-Sonoma          1169\n",
       "Central Valley       1062\n",
       "North Coast           584\n",
       "South Coast           272\n",
       "Name: region_2, dtype: int64"
      ]
     },
     "execution_count": 32,
     "metadata": {},
     "output_type": "execute_result"
    }
   ],
   "source": [
    "wine_US_1[wine_US_1['province'] == 'California']['region_2'].value_counts()"
   ]
  },
  {
   "cell_type": "code",
   "execution_count": 33,
   "metadata": {},
   "outputs": [
    {
     "data": {
      "text/plain": [
       "California    34117\n",
       "Washington     8637\n",
       "Oregon         5067\n",
       "New York       2688\n",
       "Name: province, dtype: int64"
      ]
     },
     "execution_count": 33,
     "metadata": {},
     "output_type": "execute_result"
    }
   ],
   "source": [
    "wine_US_1[pd.isna(wine_US_1['region_2']) == False]['province'].value_counts()"
   ]
  },
  {
   "cell_type": "markdown",
   "metadata": {},
   "source": [
    "Since there are too many missing values in this columns, we decide to delete the rows with missing in this feature. "
   ]
  },
  {
   "cell_type": "code",
   "execution_count": 34,
   "metadata": {
    "scrolled": true
   },
   "outputs": [
    {
     "data": {
      "text/plain": [
       "16774"
      ]
     },
     "execution_count": 34,
     "metadata": {},
     "output_type": "execute_result"
    }
   ],
   "source": [
    "sum(pd.isna(wine_US_1['taster_name']))"
   ]
  },
  {
   "cell_type": "code",
   "execution_count": 59,
   "metadata": {
    "scrolled": true
   },
   "outputs": [],
   "source": [
    "wine_US_1 = wine_US_1[pd.isna(wine_US_1['taster_name']) == False]\n",
    "wine_US_1 = wine_US_1[pd.isna(wine_US_1['description']) == False]\n",
    "wine_US_1 = wine_US_1[pd.isna(wine_US_1['designation']) == False]\n",
    "wine_US_1 = wine_US_1[pd.isna(wine_US_1['region_1']) == False]\n",
    "wine_US_1 = wine_US_1[pd.isna(wine_US_1['region_2']) == False]\n",
    "wine_US_1 = wine_US_1[pd.isna(wine_US_1['title']) == False]\n",
    "sample_wine_US_1 = wine_US_1.sample(10000)"
   ]
  },
  {
   "cell_type": "code",
   "execution_count": 61,
   "metadata": {},
   "outputs": [],
   "source": [
    "wine_US_1_notext = sample_wine_US_1.drop(['description', 'designation', 'region_1', 'region_2', 'taster_twitter_handle', 'title'], axis = 1)\n",
    "wine_US_1.index = np.arange(0, wine_US_1.shape[0])"
   ]
  },
  {
   "cell_type": "code",
   "execution_count": 62,
   "metadata": {},
   "outputs": [
    {
     "data": {
      "text/plain": [
       "price          float64\n",
       "province        object\n",
       "taster_name     object\n",
       "variety         object\n",
       "winery          object\n",
       "dtype: object"
      ]
     },
     "execution_count": 62,
     "metadata": {},
     "output_type": "execute_result"
    }
   ],
   "source": [
    "X = wine_US_1_notext.iloc[:,1:]\n",
    "y = wine_US_1_notext.iloc[:,0]\n",
    "X.dtypes"
   ]
  },
  {
   "cell_type": "code",
   "execution_count": 63,
   "metadata": {},
   "outputs": [],
   "source": [
    "X_train, X_test, y_train, y_test = train_test_split(X,y)"
   ]
  },
  {
   "cell_type": "code",
   "execution_count": 64,
   "metadata": {},
   "outputs": [],
   "source": [
    "numerical = X.dtypes == 'float64'\n",
    "one_hot = X.dtypes == 'object'\n",
    "one_hot.variety = False\n",
    "one_hot.winery = False\n",
    "target = X.dtypes == 'object'\n",
    "target.province = False\n",
    "target.taster_name = False"
   ]
  },
  {
   "cell_type": "code",
   "execution_count": 40,
   "metadata": {},
   "outputs": [
    {
     "ename": "NameError",
     "evalue": "name 'KNN' is not defined",
     "output_type": "error",
     "traceback": [
      "\u001b[0;31m---------------------------------------------------------------------------\u001b[0m",
      "\u001b[0;31mNameError\u001b[0m                                 Traceback (most recent call last)",
      "\u001b[0;32m<ipython-input-40-96b99d149270>\u001b[0m in \u001b[0;36m<module>\u001b[0;34m\u001b[0m\n\u001b[0;32m----> 1\u001b[0;31m preprocess_1 = make_column_transformer((make_pipeline(KNN(k = 3), \n\u001b[0m\u001b[1;32m      2\u001b[0m                                                       StandardScaler()), numerical),\n\u001b[1;32m      3\u001b[0m                                        (make_pipeline(OneHotEncoder(handle_unknown=\"ignore\"),\n\u001b[1;32m      4\u001b[0m                                                       KNN(k = 3)), one_hot),\n\u001b[1;32m      5\u001b[0m                                        (make_pipeline(TargetEncoder(),\n",
      "\u001b[0;31mNameError\u001b[0m: name 'KNN' is not defined"
     ]
    }
   ],
   "source": [
    "preprocess_1 = make_column_transformer((make_pipeline(KNN(k = 3), \n",
    "                                                      StandardScaler()), numerical),\n",
    "                                       (make_pipeline(OneHotEncoder(handle_unknown=\"ignore\"),\n",
    "                                                      KNN(k = 3)), one_hot),\n",
    "                                       (make_pipeline(TargetEncoder(),\n",
    "                                                      KNN(k = 3)), target))"
   ]
  },
  {
   "cell_type": "code",
   "execution_count": 65,
   "metadata": {},
   "outputs": [],
   "source": [
    "preprocess_2 = make_column_transformer((make_pipeline(SimpleImputer(strategy=\"median\"), \n",
    "                                                      StandardScaler()), numerical),\n",
    "                                       (make_pipeline(SimpleImputer(strategy=\"most_frequent\"), \n",
    "                                                      OneHotEncoder(handle_unknown=\"ignore\")), one_hot),\n",
    "                                       (make_pipeline(SimpleImputer(strategy=\"most_frequent\"), \n",
    "                                                      TargetEncoder()), target))"
   ]
  },
  {
   "cell_type": "code",
   "execution_count": 66,
   "metadata": {},
   "outputs": [
    {
     "name": "stdout",
     "output_type": "stream",
     "text": [
      "0.36428675317818415\n"
     ]
    }
   ],
   "source": [
    "Ridge_model = make_pipeline(preprocess_2, Ridge())\n",
    "Ridge_score = cross_val_score(Ridge_model, X_train, np.ravel(y_train), cv = 5)\n",
    "print(np.mean(Ridge_score))"
   ]
  },
  {
   "cell_type": "code",
   "execution_count": 67,
   "metadata": {},
   "outputs": [
    {
     "data": {
      "text/html": [
       "<div>\n",
       "<style scoped>\n",
       "    .dataframe tbody tr th:only-of-type {\n",
       "        vertical-align: middle;\n",
       "    }\n",
       "\n",
       "    .dataframe tbody tr th {\n",
       "        vertical-align: top;\n",
       "    }\n",
       "\n",
       "    .dataframe thead th {\n",
       "        text-align: right;\n",
       "    }\n",
       "</style>\n",
       "<table border=\"1\" class=\"dataframe\">\n",
       "  <thead>\n",
       "    <tr style=\"text-align: right;\">\n",
       "      <th></th>\n",
       "      <th>description</th>\n",
       "      <th>designation</th>\n",
       "      <th>points</th>\n",
       "      <th>price</th>\n",
       "      <th>province</th>\n",
       "      <th>region_1</th>\n",
       "      <th>region_2</th>\n",
       "      <th>taster_name</th>\n",
       "      <th>taster_twitter_handle</th>\n",
       "      <th>title</th>\n",
       "      <th>variety</th>\n",
       "      <th>winery</th>\n",
       "    </tr>\n",
       "  </thead>\n",
       "  <tbody>\n",
       "    <tr>\n",
       "      <th>4469</th>\n",
       "      <td>This wine is sanguine and elegant despite its ...</td>\n",
       "      <td>Moose Valley Vineyard</td>\n",
       "      <td>93.0</td>\n",
       "      <td>150.0</td>\n",
       "      <td>California</td>\n",
       "      <td>St. Helena</td>\n",
       "      <td>Napa</td>\n",
       "      <td>Virginie Boone</td>\n",
       "      <td>@vboone</td>\n",
       "      <td>D.R. Stephens 2012 Moose Valley Vineyard Caber...</td>\n",
       "      <td>Cabernet Sauvignon</td>\n",
       "      <td>D.R. Stephens</td>\n",
       "    </tr>\n",
       "    <tr>\n",
       "      <th>3585</th>\n",
       "      <td>Matchstick and flint arise out of the bottle b...</td>\n",
       "      <td>Jane's Vineyard Virginia's Block</td>\n",
       "      <td>88.0</td>\n",
       "      <td>25.0</td>\n",
       "      <td>California</td>\n",
       "      <td>Russian River Valley</td>\n",
       "      <td>Sonoma</td>\n",
       "      <td>Virginie Boone</td>\n",
       "      <td>@vboone</td>\n",
       "      <td>Davis Bynum 2014 Jane's Vineyard Virginia's Bl...</td>\n",
       "      <td>Sauvignon Blanc</td>\n",
       "      <td>Davis Bynum</td>\n",
       "    </tr>\n",
       "    <tr>\n",
       "      <th>1235</th>\n",
       "      <td>Spry lemon and white grapefruit flavors are st...</td>\n",
       "      <td>Dry</td>\n",
       "      <td>85.0</td>\n",
       "      <td>15.0</td>\n",
       "      <td>New York</td>\n",
       "      <td>Finger Lakes</td>\n",
       "      <td>Finger Lakes</td>\n",
       "      <td>Anna Lee C. Iijima</td>\n",
       "      <td>NaN</td>\n",
       "      <td>Thirsty Owl Wine Company 2014 Dry Riesling (Fi...</td>\n",
       "      <td>Riesling</td>\n",
       "      <td>Thirsty Owl Wine Company</td>\n",
       "    </tr>\n",
       "    <tr>\n",
       "      <th>11084</th>\n",
       "      <td>This blend of Cabernet Sauvignon (34%), Merlot...</td>\n",
       "      <td>Arianses Vineyard</td>\n",
       "      <td>88.0</td>\n",
       "      <td>30.0</td>\n",
       "      <td>Washington</td>\n",
       "      <td>Wahluke Slope</td>\n",
       "      <td>Columbia Valley</td>\n",
       "      <td>Sean P. Sullivan</td>\n",
       "      <td>@wawinereport</td>\n",
       "      <td>:Nota Bene 2013 Arianses Vineyard Red (Wahluke...</td>\n",
       "      <td>Bordeaux-style Red Blend</td>\n",
       "      <td>:Nota Bene</td>\n",
       "    </tr>\n",
       "    <tr>\n",
       "      <th>12634</th>\n",
       "      <td>This clonal study could have used a touch of h...</td>\n",
       "      <td>777 Clones</td>\n",
       "      <td>89.0</td>\n",
       "      <td>39.0</td>\n",
       "      <td>California</td>\n",
       "      <td>Santa Cruz Mountains</td>\n",
       "      <td>Central Coast</td>\n",
       "      <td>Matt Kettmann</td>\n",
       "      <td>@mattkettmann</td>\n",
       "      <td>Wrights Station 2013 777 Clones Pinot Noir (Sa...</td>\n",
       "      <td>Pinot Noir</td>\n",
       "      <td>Wrights Station</td>\n",
       "    </tr>\n",
       "  </tbody>\n",
       "</table>\n",
       "</div>"
      ],
      "text/plain": [
       "                                             description  \\\n",
       "4469   This wine is sanguine and elegant despite its ...   \n",
       "3585   Matchstick and flint arise out of the bottle b...   \n",
       "1235   Spry lemon and white grapefruit flavors are st...   \n",
       "11084  This blend of Cabernet Sauvignon (34%), Merlot...   \n",
       "12634  This clonal study could have used a touch of h...   \n",
       "\n",
       "                            designation  points  price    province  \\\n",
       "4469              Moose Valley Vineyard    93.0  150.0  California   \n",
       "3585   Jane's Vineyard Virginia's Block    88.0   25.0  California   \n",
       "1235                                Dry    85.0   15.0    New York   \n",
       "11084                 Arianses Vineyard    88.0   30.0  Washington   \n",
       "12634                        777 Clones    89.0   39.0  California   \n",
       "\n",
       "                   region_1         region_2         taster_name  \\\n",
       "4469             St. Helena             Napa      Virginie Boone   \n",
       "3585   Russian River Valley           Sonoma      Virginie Boone   \n",
       "1235           Finger Lakes     Finger Lakes  Anna Lee C. Iijima   \n",
       "11084         Wahluke Slope  Columbia Valley    Sean P. Sullivan   \n",
       "12634  Santa Cruz Mountains    Central Coast       Matt Kettmann   \n",
       "\n",
       "      taster_twitter_handle  \\\n",
       "4469                @vboone   \n",
       "3585                @vboone   \n",
       "1235                    NaN   \n",
       "11084         @wawinereport   \n",
       "12634         @mattkettmann   \n",
       "\n",
       "                                                   title  \\\n",
       "4469   D.R. Stephens 2012 Moose Valley Vineyard Caber...   \n",
       "3585   Davis Bynum 2014 Jane's Vineyard Virginia's Bl...   \n",
       "1235   Thirsty Owl Wine Company 2014 Dry Riesling (Fi...   \n",
       "11084  :Nota Bene 2013 Arianses Vineyard Red (Wahluke...   \n",
       "12634  Wrights Station 2013 777 Clones Pinot Noir (Sa...   \n",
       "\n",
       "                        variety                    winery  \n",
       "4469         Cabernet Sauvignon             D.R. Stephens  \n",
       "3585            Sauvignon Blanc               Davis Bynum  \n",
       "1235                   Riesling  Thirsty Owl Wine Company  \n",
       "11084  Bordeaux-style Red Blend                :Nota Bene  \n",
       "12634                Pinot Noir           Wrights Station  "
      ]
     },
     "execution_count": 67,
     "metadata": {},
     "output_type": "execute_result"
    }
   ],
   "source": [
    "sample_wine_US_1.head()"
   ]
  },
  {
   "cell_type": "code",
   "execution_count": 68,
   "metadata": {},
   "outputs": [],
   "source": [
    "wine_US_1_text = sample_wine_US_1.drop(['price', 'province', 'taster_name', 'taster_twitter_handle', 'variety', 'winery'], axis = 1)"
   ]
  },
  {
   "cell_type": "code",
   "execution_count": 69,
   "metadata": {
    "scrolled": true
   },
   "outputs": [],
   "source": [
    "X = wine_US_1_text.drop('points', axis = 1)\n",
    "y = wine_US_1_text['points']\n",
    "X_train, X_test, y_train, y_test = train_test_split(X,y)"
   ]
  },
  {
   "cell_type": "code",
   "execution_count": 71,
   "metadata": {},
   "outputs": [
    {
     "data": {
      "text/html": [
       "<div>\n",
       "<style scoped>\n",
       "    .dataframe tbody tr th:only-of-type {\n",
       "        vertical-align: middle;\n",
       "    }\n",
       "\n",
       "    .dataframe tbody tr th {\n",
       "        vertical-align: top;\n",
       "    }\n",
       "\n",
       "    .dataframe thead th {\n",
       "        text-align: right;\n",
       "    }\n",
       "</style>\n",
       "<table border=\"1\" class=\"dataframe\">\n",
       "  <thead>\n",
       "    <tr style=\"text-align: right;\">\n",
       "      <th></th>\n",
       "      <th>description</th>\n",
       "      <th>designation</th>\n",
       "      <th>region_1</th>\n",
       "      <th>region_2</th>\n",
       "      <th>title</th>\n",
       "    </tr>\n",
       "  </thead>\n",
       "  <tbody>\n",
       "    <tr>\n",
       "      <th>16464</th>\n",
       "      <td>A blend of Champoux (62%), Sagemoor (26%) and ...</td>\n",
       "      <td>Old Vines</td>\n",
       "      <td>Washington</td>\n",
       "      <td>Washington Other</td>\n",
       "      <td>Woodward Canyon 2012 Old Vines Cabernet Sauvig...</td>\n",
       "    </tr>\n",
       "    <tr>\n",
       "      <th>18189</th>\n",
       "      <td>Named after the family's grandfather, this ble...</td>\n",
       "      <td>Articondo</td>\n",
       "      <td>Happy Canyon of Santa Barbara</td>\n",
       "      <td>Central Coast</td>\n",
       "      <td>Grassini 2013 Articondo Red (Happy Canyon of S...</td>\n",
       "    </tr>\n",
       "    <tr>\n",
       "      <th>17164</th>\n",
       "      <td>Mocha, caramel and nutmeg lend complexity to a...</td>\n",
       "      <td>Wheelhouse</td>\n",
       "      <td>Paso Robles</td>\n",
       "      <td>Central Coast</td>\n",
       "      <td>Sextant 2013 Wheelhouse Zinfandel (Paso Robles)</td>\n",
       "    </tr>\n",
       "    <tr>\n",
       "      <th>21641</th>\n",
       "      <td>This has a traditional medium-garnet color wit...</td>\n",
       "      <td>Borderline</td>\n",
       "      <td>Marin County</td>\n",
       "      <td>North Coast</td>\n",
       "      <td>Bailiwick 2012 Borderline Pinot Noir (Marin Co...</td>\n",
       "    </tr>\n",
       "    <tr>\n",
       "      <th>17213</th>\n",
       "      <td>Named for the Entav clone, this is an earthy, ...</td>\n",
       "      <td>Two Fourteen</td>\n",
       "      <td>Napa Valley</td>\n",
       "      <td>Napa</td>\n",
       "      <td>Lang &amp; Reed 2011 Two Fourteen Cabernet Franc (...</td>\n",
       "    </tr>\n",
       "    <tr>\n",
       "      <th>...</th>\n",
       "      <td>...</td>\n",
       "      <td>...</td>\n",
       "      <td>...</td>\n",
       "      <td>...</td>\n",
       "      <td>...</td>\n",
       "    </tr>\n",
       "    <tr>\n",
       "      <th>11351</th>\n",
       "      <td>Crystalline cranberry, concentrated violets an...</td>\n",
       "      <td>SLH Estate Grown &amp; Produced</td>\n",
       "      <td>Santa Lucia Highlands</td>\n",
       "      <td>Central Coast</td>\n",
       "      <td>Hahn 2013 SLH Estate Grown &amp; Produced Pinot No...</td>\n",
       "    </tr>\n",
       "    <tr>\n",
       "      <th>21145</th>\n",
       "      <td>The nose is a little subdued on this wine, off...</td>\n",
       "      <td>Family Reserve</td>\n",
       "      <td>Carmel Valley</td>\n",
       "      <td>Central Coast</td>\n",
       "      <td>Joullian 2013 Family Reserve Cabernet Franc (C...</td>\n",
       "    </tr>\n",
       "    <tr>\n",
       "      <th>9053</th>\n",
       "      <td>This is a fun and lively blend of 38% Grenache...</td>\n",
       "      <td>Cuvée de Robles</td>\n",
       "      <td>Paso Robles</td>\n",
       "      <td>Central Coast</td>\n",
       "      <td>Robert Hall 2013 Cuvée de Robles Red (Paso Rob...</td>\n",
       "    </tr>\n",
       "    <tr>\n",
       "      <th>19196</th>\n",
       "      <td>Soft and supple yet powerful on the palate, th...</td>\n",
       "      <td>Rutherford Hillside Reserve</td>\n",
       "      <td>Rutherford</td>\n",
       "      <td>Napa</td>\n",
       "      <td>Flora Springs 2013 Rutherford Hillside Reserve...</td>\n",
       "    </tr>\n",
       "    <tr>\n",
       "      <th>9560</th>\n",
       "      <td>A light cherry-red color, this wine offers bri...</td>\n",
       "      <td>Limited Release Rosé</td>\n",
       "      <td>Horse Heaven Hills</td>\n",
       "      <td>Columbia Valley</td>\n",
       "      <td>Columbia Winery 2015 Limited Release Rosé Gren...</td>\n",
       "    </tr>\n",
       "  </tbody>\n",
       "</table>\n",
       "<p>7500 rows × 5 columns</p>\n",
       "</div>"
      ],
      "text/plain": [
       "                                             description  \\\n",
       "16464  A blend of Champoux (62%), Sagemoor (26%) and ...   \n",
       "18189  Named after the family's grandfather, this ble...   \n",
       "17164  Mocha, caramel and nutmeg lend complexity to a...   \n",
       "21641  This has a traditional medium-garnet color wit...   \n",
       "17213  Named for the Entav clone, this is an earthy, ...   \n",
       "...                                                  ...   \n",
       "11351  Crystalline cranberry, concentrated violets an...   \n",
       "21145  The nose is a little subdued on this wine, off...   \n",
       "9053   This is a fun and lively blend of 38% Grenache...   \n",
       "19196  Soft and supple yet powerful on the palate, th...   \n",
       "9560   A light cherry-red color, this wine offers bri...   \n",
       "\n",
       "                       designation                       region_1  \\\n",
       "16464                    Old Vines                     Washington   \n",
       "18189                    Articondo  Happy Canyon of Santa Barbara   \n",
       "17164                   Wheelhouse                    Paso Robles   \n",
       "21641                   Borderline                   Marin County   \n",
       "17213                 Two Fourteen                    Napa Valley   \n",
       "...                            ...                            ...   \n",
       "11351  SLH Estate Grown & Produced          Santa Lucia Highlands   \n",
       "21145               Family Reserve                  Carmel Valley   \n",
       "9053               Cuvée de Robles                    Paso Robles   \n",
       "19196  Rutherford Hillside Reserve                     Rutherford   \n",
       "9560          Limited Release Rosé             Horse Heaven Hills   \n",
       "\n",
       "               region_2                                              title  \n",
       "16464  Washington Other  Woodward Canyon 2012 Old Vines Cabernet Sauvig...  \n",
       "18189     Central Coast  Grassini 2013 Articondo Red (Happy Canyon of S...  \n",
       "17164     Central Coast    Sextant 2013 Wheelhouse Zinfandel (Paso Robles)  \n",
       "21641       North Coast  Bailiwick 2012 Borderline Pinot Noir (Marin Co...  \n",
       "17213              Napa  Lang & Reed 2011 Two Fourteen Cabernet Franc (...  \n",
       "...                 ...                                                ...  \n",
       "11351     Central Coast  Hahn 2013 SLH Estate Grown & Produced Pinot No...  \n",
       "21145     Central Coast  Joullian 2013 Family Reserve Cabernet Franc (C...  \n",
       "9053      Central Coast  Robert Hall 2013 Cuvée de Robles Red (Paso Rob...  \n",
       "19196              Napa  Flora Springs 2013 Rutherford Hillside Reserve...  \n",
       "9560    Columbia Valley  Columbia Winery 2015 Limited Release Rosé Gren...  \n",
       "\n",
       "[7500 rows x 5 columns]"
      ]
     },
     "execution_count": 71,
     "metadata": {},
     "output_type": "execute_result"
    }
   ],
   "source": [
    "X_train"
   ]
  },
  {
   "cell_type": "code",
   "execution_count": 49,
   "metadata": {
    "scrolled": false
   },
   "outputs": [
    {
     "data": {
      "text/plain": [
       "(18132, 13302)"
      ]
     },
     "execution_count": 49,
     "metadata": {},
     "output_type": "execute_result"
    }
   ],
   "source": [
    "vect = CountVectorizer()\n",
    "vect.fit_transform(X_train['description']).toarray().shape\n",
    "#text_test = vect.transform(X_test)\n",
    "#text_train.toarray()"
   ]
  },
  {
   "cell_type": "code",
   "execution_count": 72,
   "metadata": {},
   "outputs": [
    {
     "data": {
      "text/plain": [
       "(7500, 5)"
      ]
     },
     "execution_count": 72,
     "metadata": {},
     "output_type": "execute_result"
    }
   ],
   "source": [
    "X_train.shape"
   ]
  },
  {
   "cell_type": "code",
   "execution_count": 73,
   "metadata": {},
   "outputs": [],
   "source": [
    "bag = X_train.dtypes == \"object\""
   ]
  },
  {
   "cell_type": "code",
   "execution_count": 74,
   "metadata": {},
   "outputs": [],
   "source": [
    "preprocess_3 = make_column_transformer((CountVectorizer(), 'description'),\n",
    "                                       (CountVectorizer(), 'designation'),\n",
    "                                       (CountVectorizer(), 'region_1'),\n",
    "                                       (CountVectorizer(), 'region_2'),\n",
    "                                       (CountVectorizer(), 'title'))"
   ]
  },
  {
   "cell_type": "code",
   "execution_count": 75,
   "metadata": {},
   "outputs": [
    {
     "name": "stdout",
     "output_type": "stream",
     "text": [
      "0.5584720904270759\n"
     ]
    }
   ],
   "source": [
    "LinearR_model = make_pipeline(preprocess_3, Ridge())\n",
    "LinearR_score = cross_val_score(LinearR_model, X_train, np.ravel(y_train), cv = 5)\n",
    "print(np.mean(LinearR_score))"
   ]
  },
  {
   "cell_type": "code",
   "execution_count": 94,
   "metadata": {},
   "outputs": [],
   "source": [
    "preprocess_4 = make_column_transformer((CountVectorizer(ngram_range=(1, 3), token_pattern=r\"\\b\\w[\\w’]+\\b\"), 'description'),\n",
    "                                       (CountVectorizer(ngram_range=(1, 3), token_pattern=r\"\\b\\w[\\w’]+\\b\"), 'designation'),\n",
    "                                       (CountVectorizer(ngram_range=(1, 3), token_pattern=r\"\\b\\w[\\w’]+\\b\"), 'region_1'),\n",
    "                                       (CountVectorizer(ngram_range=(1, 3), token_pattern=r\"\\b\\w[\\w’]+\\b\"), 'region_2'),\n",
    "                                       (CountVectorizer(ngram_range=(1, 3), token_pattern=r\"\\b\\w[\\w’]+\\b\"), 'title'))"
   ]
  },
  {
   "cell_type": "code",
   "execution_count": 95,
   "metadata": {
    "scrolled": true
   },
   "outputs": [
    {
     "name": "stdout",
     "output_type": "stream",
     "text": [
      "0.647504340743828\n"
     ]
    }
   ],
   "source": [
    "Ridge_model = make_pipeline(preprocess_4, Ridge())\n",
    "Ridge_score = cross_val_score(Ridge_model, X_train, np.ravel(y_train), cv = 5)\n",
    "print(np.mean(Ridge_score))"
   ]
  },
  {
   "cell_type": "code",
   "execution_count": 78,
   "metadata": {},
   "outputs": [],
   "source": [
    "preprocess_5 = make_column_transformer((CountVectorizer(token_pattern=r\"\\b\\w[\\w’]+\\b\"), 'description'),\n",
    "                                       (CountVectorizer(token_pattern=r\"\\b\\w[\\w’]+\\b\"), 'designation'),\n",
    "                                       (CountVectorizer(token_pattern=r\"\\b\\w[\\w’]+\\b\"), 'region_1'),\n",
    "                                       (CountVectorizer(token_pattern=r\"\\b\\w[\\w’]+\\b\"), 'region_2'),\n",
    "                                       (CountVectorizer(token_pattern=r\"\\b\\w[\\w’]+\\b\"), 'title'))"
   ]
  },
  {
   "cell_type": "code",
   "execution_count": 96,
   "metadata": {
    "scrolled": true
   },
   "outputs": [],
   "source": [
    "param_grid_1 = {\"columntransformer__countvectorizer-1__ngram_range\": [(1, 1), (1, 3), (1, 5),\n",
    "                                                                    (1, 7), (2, 3), (2, 5)],\n",
    "                \"columntransformer__countvectorizer-2__ngram_range\": [(1, 3)],\n",
    "                \"columntransformer__countvectorizer-3__ngram_range\": [(1, 3)],\n",
    "                \"columntransformer__countvectorizer-4__ngram_range\": [(1, 3)],\n",
    "                \"columntransformer__countvectorizer-5__ngram_range\": [(1, 1),(1, 3), (1, 5)],\n",
    "               }\n",
    "grid_1 = GridSearchCV(make_pipeline(preprocess_5, Normalizer(), Ridge()),\n",
    "                    param_grid=param_grid_1, cv=5)"
   ]
  },
  {
   "cell_type": "code",
   "execution_count": 97,
   "metadata": {
    "scrolled": false
   },
   "outputs": [
    {
     "name": "stdout",
     "output_type": "stream",
     "text": [
      "Best Params for grid_1: {'columntransformer__countvectorizer-1__ngram_range': (1, 3), 'columntransformer__countvectorizer-2__ngram_range': (1, 3), 'columntransformer__countvectorizer-3__ngram_range': (1, 3), 'columntransformer__countvectorizer-4__ngram_range': (1, 3), 'columntransformer__countvectorizer-5__ngram_range': (1, 3)}\n",
      "Best Score for grid_1: 0.647504340743828\n"
     ]
    }
   ],
   "source": [
    "grid_1.fit(X_train, np.ravel(y_train))\n",
    "print('Best Params for grid_1:',grid_1.best_params_)\n",
    "print('Best Score for grid_1:',grid_1.best_score_ )"
   ]
  },
  {
   "cell_type": "code",
   "execution_count": 99,
   "metadata": {},
   "outputs": [
    {
     "name": "stdout",
     "output_type": "stream",
     "text": [
      "0.5779592564087658\n"
     ]
    }
   ],
   "source": [
    "Ridge_model = make_pipeline(preprocess_4, Normalizer(), Ridge())\n",
    "Ridge_score = cross_val_score(Ridge_model, X_train, np.ravel(y_train), cv = 5)\n",
    "print(np.mean(Ridge_score))"
   ]
  },
  {
   "cell_type": "code",
   "execution_count": 100,
   "metadata": {},
   "outputs": [
    {
     "name": "stdout",
     "output_type": "stream",
     "text": [
      "0.5778004791283331\n"
     ]
    }
   ],
   "source": [
    "Ridge_model = make_pipeline(preprocess_4, TfidfTransformer(), Ridge())\n",
    "Ridge_score = cross_val_score(Ridge_model, X_train, np.ravel(y_train), cv = 5)\n",
    "print(np.mean(Ridge_score))"
   ]
  },
  {
   "cell_type": "markdown",
   "metadata": {},
   "source": [
    "Since the score is even lower, we should not add in Normalizer or TfidTransformer. "
   ]
  },
  {
   "cell_type": "code",
   "execution_count": 101,
   "metadata": {},
   "outputs": [
    {
     "name": "stdout",
     "output_type": "stream",
     "text": [
      "Best Params for grid_mindf: {'columntransformer__countvectorizer-1__min_df': 1, 'columntransformer__countvectorizer-2__min_df': 1, 'columntransformer__countvectorizer-3__min_df': 1, 'columntransformer__countvectorizer-4__min_df': 1, 'columntransformer__countvectorizer-5__min_df': 1}\n",
      "Best Score for grid_mindf: 0.647504340743828\n"
     ]
    }
   ],
   "source": [
    "param_grid_mindf = {\"columntransformer__countvectorizer-1__min_df\": [1, 2, 3],\n",
    "                    \"columntransformer__countvectorizer-2__min_df\": [1, 2],\n",
    "                    \"columntransformer__countvectorizer-3__min_df\": [1, 2],\n",
    "                    \"columntransformer__countvectorizer-4__min_df\": [1, 2],\n",
    "                    \"columntransformer__countvectorizer-5__min_df\": [1, 2, 3],\n",
    "                   }\n",
    "grid_mindf = GridSearchCV(make_pipeline(preprocess_4, Ridge()),\n",
    "                    param_grid=param_grid_mindf, cv=5)\n",
    "grid_mindf.fit(X_train, np.ravel(y_train))\n",
    "print('Best Params for grid_mindf:',grid_mindf.best_params_)\n",
    "print('Best Score for grid_mindf:',grid_mindf.best_score_ )"
   ]
  },
  {
   "cell_type": "markdown",
   "metadata": {},
   "source": [
    "After tuning, we know that the best parameter for each one is 1. "
   ]
  },
  {
   "cell_type": "code",
   "execution_count": 108,
   "metadata": {},
   "outputs": [],
   "source": [
    "ridge_list = [i for i in np.arange(0.00015,0.00025,0.00001)]"
   ]
  },
  {
   "cell_type": "code",
   "execution_count": 109,
   "metadata": {},
   "outputs": [
    {
     "name": "stdout",
     "output_type": "stream",
     "text": [
      "Best Params for grid_ridge: {'columntransformer__countvectorizer-1__min_df': 1, 'columntransformer__countvectorizer-2__min_df': 1, 'columntransformer__countvectorizer-3__min_df': 1, 'columntransformer__countvectorizer-4__min_df': 1, 'columntransformer__countvectorizer-5__min_df': 1, 'ridge__alpha': 0.00017999999999999998}\n",
      "Best Score for grid_ridge: 0.6475446604064414\n"
     ]
    }
   ],
   "source": [
    "param_grid_ridge = {\"ridge__alpha\": ridge_list,\n",
    "                    \"columntransformer__countvectorizer-1__min_df\": [1],\n",
    "                    \"columntransformer__countvectorizer-2__min_df\": [1],\n",
    "                    \"columntransformer__countvectorizer-3__min_df\": [1],\n",
    "                    \"columntransformer__countvectorizer-4__min_df\": [1],\n",
    "                    \"columntransformer__countvectorizer-5__min_df\": [1],\n",
    "                   }\n",
    "grid_ridge = GridSearchCV(make_pipeline(preprocess_4, Ridge()),\n",
    "                    param_grid=param_grid_ridge, cv=5)\n",
    "grid_ridge.fit(X_train, np.ravel(y_train))\n",
    "print('Best Params for grid_ridge:',grid_ridge.best_params_)\n",
    "print('Best Score for grid_ridge:',grid_ridge.best_score_ )"
   ]
  },
  {
   "cell_type": "markdown",
   "metadata": {},
   "source": [
    "The best alpha for ridge model is 0.00018."
   ]
  },
  {
   "cell_type": "code",
   "execution_count": 110,
   "metadata": {},
   "outputs": [
    {
     "name": "stdout",
     "output_type": "stream",
     "text": [
      "0.6657784790296255\n"
     ]
    }
   ],
   "source": [
    "print(grid_ridge.score(X_test, np.ravel(y_test)))"
   ]
  },
  {
   "cell_type": "markdown",
   "metadata": {},
   "source": [
    "### Task 1.3"
   ]
  },
  {
   "cell_type": "code",
   "execution_count": 111,
   "metadata": {
    "scrolled": true
   },
   "outputs": [
    {
     "data": {
      "text/html": [
       "<div>\n",
       "<style scoped>\n",
       "    .dataframe tbody tr th:only-of-type {\n",
       "        vertical-align: middle;\n",
       "    }\n",
       "\n",
       "    .dataframe tbody tr th {\n",
       "        vertical-align: top;\n",
       "    }\n",
       "\n",
       "    .dataframe thead th {\n",
       "        text-align: right;\n",
       "    }\n",
       "</style>\n",
       "<table border=\"1\" class=\"dataframe\">\n",
       "  <thead>\n",
       "    <tr style=\"text-align: right;\">\n",
       "      <th></th>\n",
       "      <th>description</th>\n",
       "      <th>designation</th>\n",
       "      <th>points</th>\n",
       "      <th>price</th>\n",
       "      <th>province</th>\n",
       "      <th>region_1</th>\n",
       "      <th>region_2</th>\n",
       "      <th>taster_name</th>\n",
       "      <th>taster_twitter_handle</th>\n",
       "      <th>title</th>\n",
       "      <th>variety</th>\n",
       "      <th>winery</th>\n",
       "    </tr>\n",
       "  </thead>\n",
       "  <tbody>\n",
       "    <tr>\n",
       "      <th>4469</th>\n",
       "      <td>This wine is sanguine and elegant despite its ...</td>\n",
       "      <td>Moose Valley Vineyard</td>\n",
       "      <td>93.0</td>\n",
       "      <td>150.0</td>\n",
       "      <td>California</td>\n",
       "      <td>St. Helena</td>\n",
       "      <td>Napa</td>\n",
       "      <td>Virginie Boone</td>\n",
       "      <td>@vboone</td>\n",
       "      <td>D.R. Stephens 2012 Moose Valley Vineyard Caber...</td>\n",
       "      <td>Cabernet Sauvignon</td>\n",
       "      <td>D.R. Stephens</td>\n",
       "    </tr>\n",
       "    <tr>\n",
       "      <th>3585</th>\n",
       "      <td>Matchstick and flint arise out of the bottle b...</td>\n",
       "      <td>Jane's Vineyard Virginia's Block</td>\n",
       "      <td>88.0</td>\n",
       "      <td>25.0</td>\n",
       "      <td>California</td>\n",
       "      <td>Russian River Valley</td>\n",
       "      <td>Sonoma</td>\n",
       "      <td>Virginie Boone</td>\n",
       "      <td>@vboone</td>\n",
       "      <td>Davis Bynum 2014 Jane's Vineyard Virginia's Bl...</td>\n",
       "      <td>Sauvignon Blanc</td>\n",
       "      <td>Davis Bynum</td>\n",
       "    </tr>\n",
       "    <tr>\n",
       "      <th>1235</th>\n",
       "      <td>Spry lemon and white grapefruit flavors are st...</td>\n",
       "      <td>Dry</td>\n",
       "      <td>85.0</td>\n",
       "      <td>15.0</td>\n",
       "      <td>New York</td>\n",
       "      <td>Finger Lakes</td>\n",
       "      <td>Finger Lakes</td>\n",
       "      <td>Anna Lee C. Iijima</td>\n",
       "      <td>NaN</td>\n",
       "      <td>Thirsty Owl Wine Company 2014 Dry Riesling (Fi...</td>\n",
       "      <td>Riesling</td>\n",
       "      <td>Thirsty Owl Wine Company</td>\n",
       "    </tr>\n",
       "    <tr>\n",
       "      <th>11084</th>\n",
       "      <td>This blend of Cabernet Sauvignon (34%), Merlot...</td>\n",
       "      <td>Arianses Vineyard</td>\n",
       "      <td>88.0</td>\n",
       "      <td>30.0</td>\n",
       "      <td>Washington</td>\n",
       "      <td>Wahluke Slope</td>\n",
       "      <td>Columbia Valley</td>\n",
       "      <td>Sean P. Sullivan</td>\n",
       "      <td>@wawinereport</td>\n",
       "      <td>:Nota Bene 2013 Arianses Vineyard Red (Wahluke...</td>\n",
       "      <td>Bordeaux-style Red Blend</td>\n",
       "      <td>:Nota Bene</td>\n",
       "    </tr>\n",
       "    <tr>\n",
       "      <th>12634</th>\n",
       "      <td>This clonal study could have used a touch of h...</td>\n",
       "      <td>777 Clones</td>\n",
       "      <td>89.0</td>\n",
       "      <td>39.0</td>\n",
       "      <td>California</td>\n",
       "      <td>Santa Cruz Mountains</td>\n",
       "      <td>Central Coast</td>\n",
       "      <td>Matt Kettmann</td>\n",
       "      <td>@mattkettmann</td>\n",
       "      <td>Wrights Station 2013 777 Clones Pinot Noir (Sa...</td>\n",
       "      <td>Pinot Noir</td>\n",
       "      <td>Wrights Station</td>\n",
       "    </tr>\n",
       "    <tr>\n",
       "      <th>...</th>\n",
       "      <td>...</td>\n",
       "      <td>...</td>\n",
       "      <td>...</td>\n",
       "      <td>...</td>\n",
       "      <td>...</td>\n",
       "      <td>...</td>\n",
       "      <td>...</td>\n",
       "      <td>...</td>\n",
       "      <td>...</td>\n",
       "      <td>...</td>\n",
       "      <td>...</td>\n",
       "      <td>...</td>\n",
       "    </tr>\n",
       "    <tr>\n",
       "      <th>23126</th>\n",
       "      <td>A white Bordeaux-style blend, crisp and edgy, ...</td>\n",
       "      <td>Updraft</td>\n",
       "      <td>86.0</td>\n",
       "      <td>17.0</td>\n",
       "      <td>Washington</td>\n",
       "      <td>Columbia Valley (WA)</td>\n",
       "      <td>Columbia Valley</td>\n",
       "      <td>Paul Gregutt</td>\n",
       "      <td>@paulgwine</td>\n",
       "      <td>Cloudlift Cellars 2010 Updraft White (Columbia...</td>\n",
       "      <td>Bordeaux-style White Blend</td>\n",
       "      <td>Cloudlift Cellars</td>\n",
       "    </tr>\n",
       "    <tr>\n",
       "      <th>4009</th>\n",
       "      <td>A fresh and textural wine, this puts a spicy s...</td>\n",
       "      <td>Dry</td>\n",
       "      <td>91.0</td>\n",
       "      <td>11.0</td>\n",
       "      <td>Washington</td>\n",
       "      <td>Columbia Valley (WA)</td>\n",
       "      <td>Columbia Valley</td>\n",
       "      <td>Paul Gregutt</td>\n",
       "      <td>@paulgwine</td>\n",
       "      <td>Pacific Rim 2011 Dry Riesling (Columbia Valley...</td>\n",
       "      <td>Riesling</td>\n",
       "      <td>Pacific Rim</td>\n",
       "    </tr>\n",
       "    <tr>\n",
       "      <th>12888</th>\n",
       "      <td>A soft, well-integrated mountain Zin gifted in...</td>\n",
       "      <td>Estate</td>\n",
       "      <td>89.0</td>\n",
       "      <td>27.0</td>\n",
       "      <td>California</td>\n",
       "      <td>El Dorado</td>\n",
       "      <td>Sierra Foothills</td>\n",
       "      <td>Virginie Boone</td>\n",
       "      <td>@vboone</td>\n",
       "      <td>Miraflores 2010 Estate Zinfandel (El Dorado)</td>\n",
       "      <td>Zinfandel</td>\n",
       "      <td>Miraflores</td>\n",
       "    </tr>\n",
       "    <tr>\n",
       "      <th>8470</th>\n",
       "      <td>From a dry-farmed vineyard and treated to wild...</td>\n",
       "      <td>King Vineyard</td>\n",
       "      <td>88.0</td>\n",
       "      <td>38.0</td>\n",
       "      <td>California</td>\n",
       "      <td>Suisun Valley</td>\n",
       "      <td>North Coast</td>\n",
       "      <td>Virginie Boone</td>\n",
       "      <td>@vboone</td>\n",
       "      <td>Olabisi 2008 King Vineyard Petite Sirah (Suisu...</td>\n",
       "      <td>Petite Sirah</td>\n",
       "      <td>Olabisi</td>\n",
       "    </tr>\n",
       "    <tr>\n",
       "      <th>11322</th>\n",
       "      <td>Earthy, leathery aromas and dense tobacco and ...</td>\n",
       "      <td>Cooper Ranch</td>\n",
       "      <td>86.0</td>\n",
       "      <td>25.0</td>\n",
       "      <td>California</td>\n",
       "      <td>Shenandoah Valley (CA)</td>\n",
       "      <td>Sierra Foothills</td>\n",
       "      <td>Jim Gordon</td>\n",
       "      <td>@gordone_cellars</td>\n",
       "      <td>Easton 2013 Cooper Ranch Barbera (Shenandoah V...</td>\n",
       "      <td>Barbera</td>\n",
       "      <td>Easton</td>\n",
       "    </tr>\n",
       "  </tbody>\n",
       "</table>\n",
       "<p>10000 rows × 12 columns</p>\n",
       "</div>"
      ],
      "text/plain": [
       "                                             description  \\\n",
       "4469   This wine is sanguine and elegant despite its ...   \n",
       "3585   Matchstick and flint arise out of the bottle b...   \n",
       "1235   Spry lemon and white grapefruit flavors are st...   \n",
       "11084  This blend of Cabernet Sauvignon (34%), Merlot...   \n",
       "12634  This clonal study could have used a touch of h...   \n",
       "...                                                  ...   \n",
       "23126  A white Bordeaux-style blend, crisp and edgy, ...   \n",
       "4009   A fresh and textural wine, this puts a spicy s...   \n",
       "12888  A soft, well-integrated mountain Zin gifted in...   \n",
       "8470   From a dry-farmed vineyard and treated to wild...   \n",
       "11322  Earthy, leathery aromas and dense tobacco and ...   \n",
       "\n",
       "                            designation  points  price    province  \\\n",
       "4469              Moose Valley Vineyard    93.0  150.0  California   \n",
       "3585   Jane's Vineyard Virginia's Block    88.0   25.0  California   \n",
       "1235                                Dry    85.0   15.0    New York   \n",
       "11084                 Arianses Vineyard    88.0   30.0  Washington   \n",
       "12634                        777 Clones    89.0   39.0  California   \n",
       "...                                 ...     ...    ...         ...   \n",
       "23126                           Updraft    86.0   17.0  Washington   \n",
       "4009                                Dry    91.0   11.0  Washington   \n",
       "12888                            Estate    89.0   27.0  California   \n",
       "8470                      King Vineyard    88.0   38.0  California   \n",
       "11322                      Cooper Ranch    86.0   25.0  California   \n",
       "\n",
       "                     region_1          region_2         taster_name  \\\n",
       "4469               St. Helena              Napa      Virginie Boone   \n",
       "3585     Russian River Valley            Sonoma      Virginie Boone   \n",
       "1235             Finger Lakes      Finger Lakes  Anna Lee C. Iijima   \n",
       "11084           Wahluke Slope   Columbia Valley    Sean P. Sullivan   \n",
       "12634    Santa Cruz Mountains     Central Coast       Matt Kettmann   \n",
       "...                       ...               ...                 ...   \n",
       "23126    Columbia Valley (WA)   Columbia Valley        Paul Gregutt   \n",
       "4009     Columbia Valley (WA)   Columbia Valley        Paul Gregutt   \n",
       "12888               El Dorado  Sierra Foothills      Virginie Boone   \n",
       "8470            Suisun Valley       North Coast      Virginie Boone   \n",
       "11322  Shenandoah Valley (CA)  Sierra Foothills          Jim Gordon   \n",
       "\n",
       "      taster_twitter_handle  \\\n",
       "4469                @vboone   \n",
       "3585                @vboone   \n",
       "1235                    NaN   \n",
       "11084         @wawinereport   \n",
       "12634         @mattkettmann   \n",
       "...                     ...   \n",
       "23126           @paulgwine    \n",
       "4009            @paulgwine    \n",
       "12888               @vboone   \n",
       "8470                @vboone   \n",
       "11322      @gordone_cellars   \n",
       "\n",
       "                                                   title  \\\n",
       "4469   D.R. Stephens 2012 Moose Valley Vineyard Caber...   \n",
       "3585   Davis Bynum 2014 Jane's Vineyard Virginia's Bl...   \n",
       "1235   Thirsty Owl Wine Company 2014 Dry Riesling (Fi...   \n",
       "11084  :Nota Bene 2013 Arianses Vineyard Red (Wahluke...   \n",
       "12634  Wrights Station 2013 777 Clones Pinot Noir (Sa...   \n",
       "...                                                  ...   \n",
       "23126  Cloudlift Cellars 2010 Updraft White (Columbia...   \n",
       "4009   Pacific Rim 2011 Dry Riesling (Columbia Valley...   \n",
       "12888       Miraflores 2010 Estate Zinfandel (El Dorado)   \n",
       "8470   Olabisi 2008 King Vineyard Petite Sirah (Suisu...   \n",
       "11322  Easton 2013 Cooper Ranch Barbera (Shenandoah V...   \n",
       "\n",
       "                          variety                    winery  \n",
       "4469           Cabernet Sauvignon             D.R. Stephens  \n",
       "3585              Sauvignon Blanc               Davis Bynum  \n",
       "1235                     Riesling  Thirsty Owl Wine Company  \n",
       "11084    Bordeaux-style Red Blend                :Nota Bene  \n",
       "12634                  Pinot Noir           Wrights Station  \n",
       "...                           ...                       ...  \n",
       "23126  Bordeaux-style White Blend         Cloudlift Cellars  \n",
       "4009                     Riesling               Pacific Rim  \n",
       "12888                   Zinfandel                Miraflores  \n",
       "8470                 Petite Sirah                   Olabisi  \n",
       "11322                     Barbera                    Easton  \n",
       "\n",
       "[10000 rows x 12 columns]"
      ]
     },
     "execution_count": 111,
     "metadata": {},
     "output_type": "execute_result"
    }
   ],
   "source": [
    "sample_wine_US_1"
   ]
  },
  {
   "cell_type": "code",
   "execution_count": 112,
   "metadata": {},
   "outputs": [],
   "source": [
    "X = sample_wine_US_1.drop('points', axis = 1)\n",
    "y = sample_wine_US_1['points']\n",
    "X_train, X_test, y_train, y_test = train_test_split(X,y)"
   ]
  },
  {
   "cell_type": "code",
   "execution_count": 113,
   "metadata": {},
   "outputs": [
    {
     "data": {
      "text/html": [
       "<div>\n",
       "<style scoped>\n",
       "    .dataframe tbody tr th:only-of-type {\n",
       "        vertical-align: middle;\n",
       "    }\n",
       "\n",
       "    .dataframe tbody tr th {\n",
       "        vertical-align: top;\n",
       "    }\n",
       "\n",
       "    .dataframe thead th {\n",
       "        text-align: right;\n",
       "    }\n",
       "</style>\n",
       "<table border=\"1\" class=\"dataframe\">\n",
       "  <thead>\n",
       "    <tr style=\"text-align: right;\">\n",
       "      <th></th>\n",
       "      <th>description</th>\n",
       "      <th>designation</th>\n",
       "      <th>price</th>\n",
       "      <th>province</th>\n",
       "      <th>region_1</th>\n",
       "      <th>region_2</th>\n",
       "      <th>taster_name</th>\n",
       "      <th>taster_twitter_handle</th>\n",
       "      <th>title</th>\n",
       "      <th>variety</th>\n",
       "      <th>winery</th>\n",
       "    </tr>\n",
       "  </thead>\n",
       "  <tbody>\n",
       "    <tr>\n",
       "      <th>2848</th>\n",
       "      <td>Black licorice and orange zest star in this hi...</td>\n",
       "      <td>Rued Clone</td>\n",
       "      <td>48.0</td>\n",
       "      <td>California</td>\n",
       "      <td>Green Valley</td>\n",
       "      <td>Sonoma</td>\n",
       "      <td>Virginie Boone</td>\n",
       "      <td>@vboone</td>\n",
       "      <td>Iron Horse 2014 Rued Clone Chardonnay (Green V...</td>\n",
       "      <td>Chardonnay</td>\n",
       "      <td>Iron Horse</td>\n",
       "    </tr>\n",
       "    <tr>\n",
       "      <th>16603</th>\n",
       "      <td>A five-grape Bordeaux blend, with somewhat gen...</td>\n",
       "      <td>Shya Red</td>\n",
       "      <td>38.0</td>\n",
       "      <td>Washington</td>\n",
       "      <td>Yakima Valley</td>\n",
       "      <td>Columbia Valley</td>\n",
       "      <td>Paul Gregutt</td>\n",
       "      <td>@paulgwine</td>\n",
       "      <td>Pomum 2007 Shya Red Red (Yakima Valley)</td>\n",
       "      <td>Bordeaux-style Red Blend</td>\n",
       "      <td>Pomum</td>\n",
       "    </tr>\n",
       "    <tr>\n",
       "      <th>17531</th>\n",
       "      <td>This is 58% Grenache, 39% Syrah, and 3% Tempra...</td>\n",
       "      <td>Pont Brûlé</td>\n",
       "      <td>30.0</td>\n",
       "      <td>Washington</td>\n",
       "      <td>Columbia Valley (WA)</td>\n",
       "      <td>Columbia Valley</td>\n",
       "      <td>Paul Gregutt</td>\n",
       "      <td>@paulgwine</td>\n",
       "      <td>Burnt Bridge 2011 Pont Brûlé Red (Columbia Val...</td>\n",
       "      <td>Red Blend</td>\n",
       "      <td>Burnt Bridge</td>\n",
       "    </tr>\n",
       "    <tr>\n",
       "      <th>13057</th>\n",
       "      <td>Black-plum extract and rust make for a intrigu...</td>\n",
       "      <td>Boer Vineyard</td>\n",
       "      <td>36.0</td>\n",
       "      <td>California</td>\n",
       "      <td>Chalone</td>\n",
       "      <td>Central Coast</td>\n",
       "      <td>Matt Kettmann</td>\n",
       "      <td>@mattkettmann</td>\n",
       "      <td>Sandler 2014 Boer Vineyard Pinot Noir (Chalone)</td>\n",
       "      <td>Pinot Noir</td>\n",
       "      <td>Sandler</td>\n",
       "    </tr>\n",
       "    <tr>\n",
       "      <th>9798</th>\n",
       "      <td>This wine has an extra measure of creaminess i...</td>\n",
       "      <td>Reserve</td>\n",
       "      <td>14.0</td>\n",
       "      <td>California</td>\n",
       "      <td>California</td>\n",
       "      <td>California Other</td>\n",
       "      <td>Jim Gordon</td>\n",
       "      <td>@gordone_cellars</td>\n",
       "      <td>Red Rock 2015 Reserve Merlot (California)</td>\n",
       "      <td>Merlot</td>\n",
       "      <td>Red Rock</td>\n",
       "    </tr>\n",
       "  </tbody>\n",
       "</table>\n",
       "</div>"
      ],
      "text/plain": [
       "                                             description    designation  \\\n",
       "2848   Black licorice and orange zest star in this hi...     Rued Clone   \n",
       "16603  A five-grape Bordeaux blend, with somewhat gen...       Shya Red   \n",
       "17531  This is 58% Grenache, 39% Syrah, and 3% Tempra...     Pont Brûlé   \n",
       "13057  Black-plum extract and rust make for a intrigu...  Boer Vineyard   \n",
       "9798   This wine has an extra measure of creaminess i...        Reserve   \n",
       "\n",
       "       price    province              region_1          region_2  \\\n",
       "2848    48.0  California          Green Valley            Sonoma   \n",
       "16603   38.0  Washington         Yakima Valley   Columbia Valley   \n",
       "17531   30.0  Washington  Columbia Valley (WA)   Columbia Valley   \n",
       "13057   36.0  California               Chalone     Central Coast   \n",
       "9798    14.0  California            California  California Other   \n",
       "\n",
       "          taster_name taster_twitter_handle  \\\n",
       "2848   Virginie Boone               @vboone   \n",
       "16603    Paul Gregutt           @paulgwine    \n",
       "17531    Paul Gregutt           @paulgwine    \n",
       "13057   Matt Kettmann         @mattkettmann   \n",
       "9798       Jim Gordon      @gordone_cellars   \n",
       "\n",
       "                                                   title  \\\n",
       "2848   Iron Horse 2014 Rued Clone Chardonnay (Green V...   \n",
       "16603            Pomum 2007 Shya Red Red (Yakima Valley)   \n",
       "17531  Burnt Bridge 2011 Pont Brûlé Red (Columbia Val...   \n",
       "13057    Sandler 2014 Boer Vineyard Pinot Noir (Chalone)   \n",
       "9798           Red Rock 2015 Reserve Merlot (California)   \n",
       "\n",
       "                        variety        winery  \n",
       "2848                 Chardonnay    Iron Horse  \n",
       "16603  Bordeaux-style Red Blend         Pomum  \n",
       "17531                 Red Blend  Burnt Bridge  \n",
       "13057                Pinot Noir       Sandler  \n",
       "9798                     Merlot      Red Rock  "
      ]
     },
     "execution_count": 113,
     "metadata": {},
     "output_type": "execute_result"
    }
   ],
   "source": [
    "X_train.head()"
   ]
  },
  {
   "cell_type": "code",
   "execution_count": 115,
   "metadata": {},
   "outputs": [
    {
     "data": {
      "text/plain": [
       "description              False\n",
       "designation              False\n",
       "price                    False\n",
       "province                 False\n",
       "region_1                 False\n",
       "region_2                 False\n",
       "taster_name              False\n",
       "taster_twitter_handle     True\n",
       "title                    False\n",
       "variety                   True\n",
       "winery                    True\n",
       "dtype: bool"
      ]
     },
     "execution_count": 115,
     "metadata": {},
     "output_type": "execute_result"
    }
   ],
   "source": [
    "numerical = X.dtypes == 'float64'\n",
    "one_hot = X.dtypes == 'object'\n",
    "one_hot.variety = False\n",
    "one_hot.winery = False\n",
    "one_hot.description = False\n",
    "one_hot.designation = False\n",
    "one_hot.region_1 = False\n",
    "one_hot.region_2 = False\n",
    "one_hot.title = False\n",
    "target = X.dtypes == 'object'\n",
    "target.province = False\n",
    "target.taster_name = False\n",
    "target.description = False\n",
    "target.designation = False\n",
    "target.region_1 = False\n",
    "target.region_2 = False\n",
    "target.title = False"
   ]
  },
  {
   "cell_type": "code",
   "execution_count": 118,
   "metadata": {},
   "outputs": [],
   "source": [
    "preprocess_final = make_column_transformer((make_pipeline(SimpleImputer(strategy=\"median\"), \n",
    "                                                          StandardScaler()), numerical),\n",
    "                                           (make_pipeline(SimpleImputer(strategy=\"most_frequent\"), \n",
    "                                                          OneHotEncoder(handle_unknown=\"ignore\")), one_hot),\n",
    "                                           (make_pipeline(SimpleImputer(strategy=\"most_frequent\"), \n",
    "                                                          TargetEncoder()), target),\n",
    "                                           (CountVectorizer(ngram_range=(1, 3), token_pattern=r\"\\b\\w[\\w’]+\\b\", \n",
    "                                                            min_df = 1), 'description'),\n",
    "                                           (CountVectorizer(ngram_range=(1, 3), token_pattern=r\"\\b\\w[\\w’]+\\b\", \n",
    "                                                            min_df = 1), 'designation'),\n",
    "                                           (CountVectorizer(ngram_range=(1, 3), token_pattern=r\"\\b\\w[\\w’]+\\b\", \n",
    "                                                            min_df = 1), 'region_1'),\n",
    "                                           (CountVectorizer(ngram_range=(1, 3), token_pattern=r\"\\b\\w[\\w’]+\\b\", \n",
    "                                                            min_df = 1), 'region_2'),\n",
    "                                           (CountVectorizer(ngram_range=(1, 3), token_pattern=r\"\\b\\w[\\w’]+\\b\", \n",
    "                                                            min_df = 1), 'title'))"
   ]
  },
  {
   "cell_type": "code",
   "execution_count": 119,
   "metadata": {},
   "outputs": [
    {
     "name": "stdout",
     "output_type": "stream",
     "text": [
      "0.6564208396806072\n"
     ]
    }
   ],
   "source": [
    "final_model = make_pipeline(preprocess_final, Ridge(alpha = 0.00018))\n",
    "final_score = cross_val_score(final_model, X_train, np.ravel(y_train), cv = 5)\n",
    "print(np.mean(final_score))"
   ]
  },
  {
   "cell_type": "markdown",
   "metadata": {},
   "source": [
    "After combing non-text model and text model, the score becomes lower. This is because the score for non-text model is very low, thus the total score becomes lower. "
   ]
  },
  {
   "cell_type": "code",
   "execution_count": null,
   "metadata": {},
   "outputs": [],
   "source": []
  }
 ],
 "metadata": {
  "kernelspec": {
   "display_name": "Python 3",
   "language": "python",
   "name": "python3"
  },
  "language_info": {
   "codemirror_mode": {
    "name": "ipython",
    "version": 3
   },
   "file_extension": ".py",
   "mimetype": "text/x-python",
   "name": "python",
   "nbconvert_exporter": "python",
   "pygments_lexer": "ipython3",
   "version": "3.7.4"
  }
 },
 "nbformat": 4,
 "nbformat_minor": 4
}
