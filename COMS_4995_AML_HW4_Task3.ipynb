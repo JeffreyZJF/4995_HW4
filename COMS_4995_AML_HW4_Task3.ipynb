{
 "cells": [
  {
   "cell_type": "markdown",
   "metadata": {},
   "source": [
    "# COMS 4995 HW4\n",
    "#### Jianfeng Zhuang: JZ3872\n",
    "#### Huazhang Liu: HL3338"
   ]
  },
  {
   "cell_type": "markdown",
   "metadata": {},
   "source": [
    "### Task 3"
   ]
  },
  {
   "cell_type": "code",
   "execution_count": 1,
   "metadata": {},
   "outputs": [],
   "source": [
    "import pandas as pd\n",
    "import numpy as np\n",
    "import matplotlib.pyplot as plt\n",
    "import seaborn as sns\n",
    "import math\n",
    "from scipy.stats import randint\n",
    "import spacy\n",
    "from transformers import pipeline"
   ]
  },
  {
   "cell_type": "code",
   "execution_count": 2,
   "metadata": {},
   "outputs": [],
   "source": [
    "from sklearn.compose import ColumnTransformer\n",
    "from sklearn.compose import make_column_transformer\n",
    "from sklearn.feature_extraction.text import CountVectorizer\n",
    "from sklearn.model_selection import train_test_split\n",
    "from sklearn.model_selection import cross_val_score, GridSearchCV\n",
    "from sklearn.pipeline import Pipeline, make_pipeline\n",
    "from sklearn.feature_extraction.text import TfidfTransformer\n",
    "from sklearn.linear_model import Ridge"
   ]
  },
  {
   "cell_type": "markdown",
   "metadata": {},
   "source": [
    "#### Doing the same preprocessing like in Task 1 first"
   ]
  },
  {
   "cell_type": "code",
   "execution_count": 3,
   "metadata": {
    "scrolled": true
   },
   "outputs": [],
   "source": [
    "wine = pd.read_csv(\"winemag-data-130k-v2.csv\")\n",
    "wine = wine.drop(\"Unnamed: 0\", axis = 1)\n",
    "# wine.head()"
   ]
  },
  {
   "cell_type": "code",
   "execution_count": 4,
   "metadata": {
    "scrolled": true
   },
   "outputs": [],
   "source": [
    "wine_US = wine[wine['country'] == \"US\"]\n",
    "wine_US = wine_US.drop('country', axis = 1)\n",
    "wine_US.index = np.arange(0, wine_US.shape[0])\n",
    "# wine_US"
   ]
  },
  {
   "cell_type": "code",
   "execution_count": 5,
   "metadata": {},
   "outputs": [
    {
     "data": {
      "text/html": [
       "<div>\n",
       "<style scoped>\n",
       "    .dataframe tbody tr th:only-of-type {\n",
       "        vertical-align: middle;\n",
       "    }\n",
       "\n",
       "    .dataframe tbody tr th {\n",
       "        vertical-align: top;\n",
       "    }\n",
       "\n",
       "    .dataframe thead th {\n",
       "        text-align: right;\n",
       "    }\n",
       "</style>\n",
       "<table border=\"1\" class=\"dataframe\">\n",
       "  <thead>\n",
       "    <tr style=\"text-align: right;\">\n",
       "      <th></th>\n",
       "      <th>description</th>\n",
       "      <th>designation</th>\n",
       "      <th>points</th>\n",
       "      <th>price</th>\n",
       "      <th>province</th>\n",
       "      <th>region_1</th>\n",
       "      <th>region_2</th>\n",
       "      <th>taster_name</th>\n",
       "      <th>taster_twitter_handle</th>\n",
       "      <th>title</th>\n",
       "      <th>variety</th>\n",
       "      <th>winery</th>\n",
       "    </tr>\n",
       "  </thead>\n",
       "  <tbody>\n",
       "    <tr>\n",
       "      <th>0</th>\n",
       "      <td>Tart and snappy, the flavors of lime flesh and...</td>\n",
       "      <td>NaN</td>\n",
       "      <td>87.0</td>\n",
       "      <td>14.0</td>\n",
       "      <td>Oregon</td>\n",
       "      <td>Willamette Valley</td>\n",
       "      <td>Willamette Valley</td>\n",
       "      <td>Paul Gregutt</td>\n",
       "      <td>@paulgwine</td>\n",
       "      <td>Rainstorm 2013 Pinot Gris (Willamette Valley)</td>\n",
       "      <td>Pinot Gris</td>\n",
       "      <td>Rainstorm</td>\n",
       "    </tr>\n",
       "    <tr>\n",
       "      <th>1</th>\n",
       "      <td>Pineapple rind, lemon pith and orange blossom ...</td>\n",
       "      <td>Reserve Late Harvest</td>\n",
       "      <td>87.0</td>\n",
       "      <td>13.0</td>\n",
       "      <td>Michigan</td>\n",
       "      <td>Lake Michigan Shore</td>\n",
       "      <td>NaN</td>\n",
       "      <td>Alexander Peartree</td>\n",
       "      <td>NaN</td>\n",
       "      <td>St. Julian 2013 Reserve Late Harvest Riesling ...</td>\n",
       "      <td>Riesling</td>\n",
       "      <td>St. Julian</td>\n",
       "    </tr>\n",
       "    <tr>\n",
       "      <th>2</th>\n",
       "      <td>Much like the regular bottling from 2012, this...</td>\n",
       "      <td>Vintner's Reserve Wild Child Block</td>\n",
       "      <td>87.0</td>\n",
       "      <td>65.0</td>\n",
       "      <td>Oregon</td>\n",
       "      <td>Willamette Valley</td>\n",
       "      <td>Willamette Valley</td>\n",
       "      <td>Paul Gregutt</td>\n",
       "      <td>@paulgwine</td>\n",
       "      <td>Sweet Cheeks 2012 Vintner's Reserve Wild Child...</td>\n",
       "      <td>Pinot Noir</td>\n",
       "      <td>Sweet Cheeks</td>\n",
       "    </tr>\n",
       "    <tr>\n",
       "      <th>3</th>\n",
       "      <td>Soft, supple plum envelopes an oaky structure ...</td>\n",
       "      <td>Mountain Cuvée</td>\n",
       "      <td>87.0</td>\n",
       "      <td>19.0</td>\n",
       "      <td>California</td>\n",
       "      <td>Napa Valley</td>\n",
       "      <td>Napa</td>\n",
       "      <td>Virginie Boone</td>\n",
       "      <td>@vboone</td>\n",
       "      <td>Kirkland Signature 2011 Mountain Cuvée Caberne...</td>\n",
       "      <td>Cabernet Sauvignon</td>\n",
       "      <td>Kirkland Signature</td>\n",
       "    </tr>\n",
       "    <tr>\n",
       "      <th>4</th>\n",
       "      <td>Slightly reduced, this wine offers a chalky, t...</td>\n",
       "      <td>NaN</td>\n",
       "      <td>87.0</td>\n",
       "      <td>34.0</td>\n",
       "      <td>California</td>\n",
       "      <td>Alexander Valley</td>\n",
       "      <td>Sonoma</td>\n",
       "      <td>Virginie Boone</td>\n",
       "      <td>@vboone</td>\n",
       "      <td>Louis M. Martini 2012 Cabernet Sauvignon (Alex...</td>\n",
       "      <td>Cabernet Sauvignon</td>\n",
       "      <td>Louis M. Martini</td>\n",
       "    </tr>\n",
       "  </tbody>\n",
       "</table>\n",
       "</div>"
      ],
      "text/plain": [
       "                                         description  \\\n",
       "0  Tart and snappy, the flavors of lime flesh and...   \n",
       "1  Pineapple rind, lemon pith and orange blossom ...   \n",
       "2  Much like the regular bottling from 2012, this...   \n",
       "3  Soft, supple plum envelopes an oaky structure ...   \n",
       "4  Slightly reduced, this wine offers a chalky, t...   \n",
       "\n",
       "                          designation  points  price    province  \\\n",
       "0                                 NaN    87.0   14.0      Oregon   \n",
       "1                Reserve Late Harvest    87.0   13.0    Michigan   \n",
       "2  Vintner's Reserve Wild Child Block    87.0   65.0      Oregon   \n",
       "3                      Mountain Cuvée    87.0   19.0  California   \n",
       "4                                 NaN    87.0   34.0  California   \n",
       "\n",
       "              region_1           region_2         taster_name  \\\n",
       "0    Willamette Valley  Willamette Valley        Paul Gregutt   \n",
       "1  Lake Michigan Shore                NaN  Alexander Peartree   \n",
       "2    Willamette Valley  Willamette Valley        Paul Gregutt   \n",
       "3          Napa Valley               Napa      Virginie Boone   \n",
       "4     Alexander Valley             Sonoma      Virginie Boone   \n",
       "\n",
       "  taster_twitter_handle                                              title  \\\n",
       "0           @paulgwine       Rainstorm 2013 Pinot Gris (Willamette Valley)   \n",
       "1                   NaN  St. Julian 2013 Reserve Late Harvest Riesling ...   \n",
       "2           @paulgwine   Sweet Cheeks 2012 Vintner's Reserve Wild Child...   \n",
       "3               @vboone  Kirkland Signature 2011 Mountain Cuvée Caberne...   \n",
       "4               @vboone  Louis M. Martini 2012 Cabernet Sauvignon (Alex...   \n",
       "\n",
       "              variety              winery  \n",
       "0          Pinot Gris           Rainstorm  \n",
       "1            Riesling          St. Julian  \n",
       "2          Pinot Noir        Sweet Cheeks  \n",
       "3  Cabernet Sauvignon  Kirkland Signature  \n",
       "4  Cabernet Sauvignon    Louis M. Martini  "
      ]
     },
     "execution_count": 5,
     "metadata": {},
     "output_type": "execute_result"
    }
   ],
   "source": [
    "wine_US['points'] = wine_US['points'].astype('float64')\n",
    "wine_US_1 = wine_US.copy()\n",
    "wine_US_1.head()"
   ]
  },
  {
   "cell_type": "code",
   "execution_count": 6,
   "metadata": {
    "scrolled": true
   },
   "outputs": [
    {
     "name": "stdout",
     "output_type": "stream",
     "text": [
      "<class 'pandas.core.frame.DataFrame'>\n",
      "Int64Index: 54504 entries, 0 to 54503\n",
      "Data columns (total 12 columns):\n",
      " #   Column                 Non-Null Count  Dtype  \n",
      "---  ------                 --------------  -----  \n",
      " 0   description            54504 non-null  object \n",
      " 1   designation            36908 non-null  object \n",
      " 2   points                 54504 non-null  float64\n",
      " 3   price                  54265 non-null  float64\n",
      " 4   province               54504 non-null  object \n",
      " 5   region_1               54226 non-null  object \n",
      " 6   region_2               50511 non-null  object \n",
      " 7   taster_name            37730 non-null  object \n",
      " 8   taster_twitter_handle  34741 non-null  object \n",
      " 9   title                  54504 non-null  object \n",
      " 10  variety                54504 non-null  object \n",
      " 11  winery                 54504 non-null  object \n",
      "dtypes: float64(2), object(10)\n",
      "memory usage: 5.4+ MB\n"
     ]
    }
   ],
   "source": [
    "wine_US_1.info()"
   ]
  },
  {
   "cell_type": "code",
   "execution_count": 7,
   "metadata": {},
   "outputs": [],
   "source": [
    "wine_US_1['points'] = wine_US_1['points'].astype('float64')\n",
    "wine_US_1 = wine_US_1[(wine_US_1['price']!= 2013) & (wine_US_1['price'] != 750)]"
   ]
  },
  {
   "cell_type": "code",
   "execution_count": 10,
   "metadata": {
    "scrolled": true
   },
   "outputs": [
    {
     "data": {
      "text/html": [
       "<div>\n",
       "<style scoped>\n",
       "    .dataframe tbody tr th:only-of-type {\n",
       "        vertical-align: middle;\n",
       "    }\n",
       "\n",
       "    .dataframe tbody tr th {\n",
       "        vertical-align: top;\n",
       "    }\n",
       "\n",
       "    .dataframe thead th {\n",
       "        text-align: right;\n",
       "    }\n",
       "</style>\n",
       "<table border=\"1\" class=\"dataframe\">\n",
       "  <thead>\n",
       "    <tr style=\"text-align: right;\">\n",
       "      <th></th>\n",
       "      <th>description</th>\n",
       "      <th>designation</th>\n",
       "      <th>points</th>\n",
       "      <th>region_1</th>\n",
       "      <th>region_2</th>\n",
       "      <th>title</th>\n",
       "    </tr>\n",
       "  </thead>\n",
       "  <tbody>\n",
       "    <tr>\n",
       "      <th>0</th>\n",
       "      <td>Very concentrated purple flowers aromas of vio...</td>\n",
       "      <td>Bien Nacido X Block</td>\n",
       "      <td>91.0</td>\n",
       "      <td>Santa Maria Valley</td>\n",
       "      <td>Central Coast</td>\n",
       "      <td>Bonny Doon 2012 Bien Nacido X Block Syrah (San...</td>\n",
       "    </tr>\n",
       "    <tr>\n",
       "      <th>1</th>\n",
       "      <td>This feral, smoky Merlot-based Bordeaux blend ...</td>\n",
       "      <td>Sonoma Cuvée</td>\n",
       "      <td>85.0</td>\n",
       "      <td>Sonoma County</td>\n",
       "      <td>Sonoma</td>\n",
       "      <td>St. Francis 2011 Sonoma Cuvée Red (Sonoma County)</td>\n",
       "    </tr>\n",
       "    <tr>\n",
       "      <th>2</th>\n",
       "      <td>Merlot makes up half of this blend, with the b...</td>\n",
       "      <td>Reserve Cavalie</td>\n",
       "      <td>87.0</td>\n",
       "      <td>Horse Heaven Hills</td>\n",
       "      <td>Columbia Valley</td>\n",
       "      <td>Mercer 2012 Reserve Cavalie Red (Horse Heaven ...</td>\n",
       "    </tr>\n",
       "    <tr>\n",
       "      <th>3</th>\n",
       "      <td>The inaugural release from this négociant wine...</td>\n",
       "      <td>Vin de Table</td>\n",
       "      <td>91.0</td>\n",
       "      <td>Columbia Valley (WA)</td>\n",
       "      <td>Columbia Valley</td>\n",
       "      <td>Les Trouvés 2013 Vin de Table Red (Columbia Va...</td>\n",
       "    </tr>\n",
       "    <tr>\n",
       "      <th>4</th>\n",
       "      <td>An arresting blend of Cabernet Sauvignon (62%)...</td>\n",
       "      <td>Carriage House DuBrul Vineyard</td>\n",
       "      <td>94.0</td>\n",
       "      <td>Yakima Valley</td>\n",
       "      <td>Columbia Valley</td>\n",
       "      <td>Côte Bonneville 2009 Carriage House DuBrul Vin...</td>\n",
       "    </tr>\n",
       "  </tbody>\n",
       "</table>\n",
       "</div>"
      ],
      "text/plain": [
       "                                         description  \\\n",
       "0  Very concentrated purple flowers aromas of vio...   \n",
       "1  This feral, smoky Merlot-based Bordeaux blend ...   \n",
       "2  Merlot makes up half of this blend, with the b...   \n",
       "3  The inaugural release from this négociant wine...   \n",
       "4  An arresting blend of Cabernet Sauvignon (62%)...   \n",
       "\n",
       "                      designation  points              region_1  \\\n",
       "0             Bien Nacido X Block    91.0    Santa Maria Valley   \n",
       "1                    Sonoma Cuvée    85.0         Sonoma County   \n",
       "2                 Reserve Cavalie    87.0    Horse Heaven Hills   \n",
       "3                    Vin de Table    91.0  Columbia Valley (WA)   \n",
       "4  Carriage House DuBrul Vineyard    94.0         Yakima Valley   \n",
       "\n",
       "          region_2                                              title  \n",
       "0    Central Coast  Bonny Doon 2012 Bien Nacido X Block Syrah (San...  \n",
       "1           Sonoma  St. Francis 2011 Sonoma Cuvée Red (Sonoma County)  \n",
       "2  Columbia Valley  Mercer 2012 Reserve Cavalie Red (Horse Heaven ...  \n",
       "3  Columbia Valley  Les Trouvés 2013 Vin de Table Red (Columbia Va...  \n",
       "4  Columbia Valley  Côte Bonneville 2009 Carriage House DuBrul Vin...  "
      ]
     },
     "execution_count": 10,
     "metadata": {},
     "output_type": "execute_result"
    }
   ],
   "source": [
    "wine_US_1 = wine_US_1[pd.isna(wine_US_1['taster_name']) == False]\n",
    "wine_US_1 = wine_US_1[pd.isna(wine_US_1['description']) == False]\n",
    "wine_US_1 = wine_US_1[pd.isna(wine_US_1['designation']) == False]\n",
    "wine_US_1 = wine_US_1[pd.isna(wine_US_1['region_1']) == False]\n",
    "wine_US_1 = wine_US_1[pd.isna(wine_US_1['region_2']) == False]\n",
    "wine_US_1 = wine_US_1[pd.isna(wine_US_1['title']) == False]\n",
    "sample_wine_US_1 = wine_US_1.sample(10000)\n",
    "sample_wine_US_1.index = np.arange(0, sample_wine_US_1.shape[0])\n",
    "wine_US_1_text = sample_wine_US_1.drop(['price', 'province', 'taster_name', 'taster_twitter_handle', 'variety', 'winery'], axis = 1)\n",
    "wine_US_1_text.head()"
   ]
  },
  {
   "cell_type": "code",
   "execution_count": 11,
   "metadata": {
    "scrolled": false
   },
   "outputs": [
    {
     "data": {
      "text/html": [
       "<div>\n",
       "<style scoped>\n",
       "    .dataframe tbody tr th:only-of-type {\n",
       "        vertical-align: middle;\n",
       "    }\n",
       "\n",
       "    .dataframe tbody tr th {\n",
       "        vertical-align: top;\n",
       "    }\n",
       "\n",
       "    .dataframe thead th {\n",
       "        text-align: right;\n",
       "    }\n",
       "</style>\n",
       "<table border=\"1\" class=\"dataframe\">\n",
       "  <thead>\n",
       "    <tr style=\"text-align: right;\">\n",
       "      <th></th>\n",
       "      <th>description</th>\n",
       "      <th>designation</th>\n",
       "      <th>region_1</th>\n",
       "      <th>region_2</th>\n",
       "      <th>title</th>\n",
       "    </tr>\n",
       "  </thead>\n",
       "  <tbody>\n",
       "    <tr>\n",
       "      <th>2749</th>\n",
       "      <td>Harvested at a lip-smacking 42.5° brix, this s...</td>\n",
       "      <td>Late Harvest</td>\n",
       "      <td>Columbia Valley (WA)</td>\n",
       "      <td>Columbia Valley</td>\n",
       "      <td>Chateau Ste. Michelle 1997 Late Harvest Sémill...</td>\n",
       "    </tr>\n",
       "    <tr>\n",
       "      <th>4938</th>\n",
       "      <td>Broad aromas of Asian pear, kaffir lime and we...</td>\n",
       "      <td>Spanish Springs Vineyard</td>\n",
       "      <td>San Luis Obispo County</td>\n",
       "      <td>Central Coast</td>\n",
       "      <td>Stephen Ross 2016 Spanish Springs Vineyard Pin...</td>\n",
       "    </tr>\n",
       "    <tr>\n",
       "      <th>4396</th>\n",
       "      <td>High-toned red fruit wraps around jolts of bla...</td>\n",
       "      <td>R. Buoncristiani Vineyard</td>\n",
       "      <td>Russian River Valley</td>\n",
       "      <td>Sonoma</td>\n",
       "      <td>Matrix 2013 R. Buoncristiani Vineyard Pinot No...</td>\n",
       "    </tr>\n",
       "    <tr>\n",
       "      <th>8273</th>\n",
       "      <td>Lime peels and lemon pith mix it up with rain ...</td>\n",
       "      <td>Sanford &amp; Benedict</td>\n",
       "      <td>Sta. Rita Hills</td>\n",
       "      <td>Central Coast</td>\n",
       "      <td>Sandhi 2013 Sanford &amp; Benedict Chardonnay (Sta...</td>\n",
       "    </tr>\n",
       "    <tr>\n",
       "      <th>2272</th>\n",
       "      <td>Out of Syncline's lineup of pure, varietal whi...</td>\n",
       "      <td>Boushey Vineyard</td>\n",
       "      <td>Yakima Valley</td>\n",
       "      <td>Columbia Valley</td>\n",
       "      <td>Syncline 2011 Boushey Vineyard Marsanne (Yakim...</td>\n",
       "    </tr>\n",
       "  </tbody>\n",
       "</table>\n",
       "</div>"
      ],
      "text/plain": [
       "                                            description  \\\n",
       "2749  Harvested at a lip-smacking 42.5° brix, this s...   \n",
       "4938  Broad aromas of Asian pear, kaffir lime and we...   \n",
       "4396  High-toned red fruit wraps around jolts of bla...   \n",
       "8273  Lime peels and lemon pith mix it up with rain ...   \n",
       "2272  Out of Syncline's lineup of pure, varietal whi...   \n",
       "\n",
       "                    designation                region_1         region_2  \\\n",
       "2749               Late Harvest    Columbia Valley (WA)  Columbia Valley   \n",
       "4938   Spanish Springs Vineyard  San Luis Obispo County    Central Coast   \n",
       "4396  R. Buoncristiani Vineyard    Russian River Valley           Sonoma   \n",
       "8273         Sanford & Benedict         Sta. Rita Hills    Central Coast   \n",
       "2272           Boushey Vineyard           Yakima Valley  Columbia Valley   \n",
       "\n",
       "                                                  title  \n",
       "2749  Chateau Ste. Michelle 1997 Late Harvest Sémill...  \n",
       "4938  Stephen Ross 2016 Spanish Springs Vineyard Pin...  \n",
       "4396  Matrix 2013 R. Buoncristiani Vineyard Pinot No...  \n",
       "8273  Sandhi 2013 Sanford & Benedict Chardonnay (Sta...  \n",
       "2272  Syncline 2011 Boushey Vineyard Marsanne (Yakim...  "
      ]
     },
     "execution_count": 11,
     "metadata": {},
     "output_type": "execute_result"
    }
   ],
   "source": [
    "X = wine_US_1_text.drop('points', axis = 1)\n",
    "y = wine_US_1_text['points']\n",
    "X_train, X_test, y_train, y_test = train_test_split(X,y)\n",
    "X_train.head()"
   ]
  },
  {
   "cell_type": "markdown",
   "metadata": {},
   "source": [
    "#### Using SpaCY Word2Vec model here"
   ]
  },
  {
   "cell_type": "code",
   "execution_count": 12,
   "metadata": {
    "scrolled": true
   },
   "outputs": [
    {
     "data": {
      "application/vnd.jupyter.widget-view+json": {
       "model_id": "d37b99671feb43bb8dc2b3eb78f6e59a",
       "version_major": 2,
       "version_minor": 0
      },
      "text/plain": [
       "HBox(children=(FloatProgress(value=0.0, description='Downloading', max=895.0, style=ProgressStyle(description_…"
      ]
     },
     "metadata": {},
     "output_type": "display_data"
    },
    {
     "name": "stdout",
     "output_type": "stream",
     "text": [
      "\n"
     ]
    },
    {
     "data": {
      "application/vnd.jupyter.widget-view+json": {
       "model_id": "bbe9a3b58d6046599b9db28dc69161d6",
       "version_major": 2,
       "version_minor": 0
      },
      "text/plain": [
       "HBox(children=(FloatProgress(value=0.0, description='Downloading', max=213450.0, style=ProgressStyle(descripti…"
      ]
     },
     "metadata": {},
     "output_type": "display_data"
    },
    {
     "name": "stdout",
     "output_type": "stream",
     "text": [
      "\n"
     ]
    },
    {
     "data": {
      "application/vnd.jupyter.widget-view+json": {
       "model_id": "7d45f2c05ea84c4e98938433f345c48c",
       "version_major": 2,
       "version_minor": 0
      },
      "text/plain": [
       "HBox(children=(FloatProgress(value=0.0, description='Downloading', max=230.0, style=ProgressStyle(description_…"
      ]
     },
     "metadata": {},
     "output_type": "display_data"
    },
    {
     "name": "stdout",
     "output_type": "stream",
     "text": [
      "\n"
     ]
    },
    {
     "data": {
      "application/vnd.jupyter.widget-view+json": {
       "model_id": "80af0643ff4044cdae311c159f1c94cf",
       "version_major": 2,
       "version_minor": 0
      },
      "text/plain": [
       "HBox(children=(FloatProgress(value=0.0, description='Downloading', max=354041576.0, style=ProgressStyle(descri…"
      ]
     },
     "metadata": {},
     "output_type": "display_data"
    },
    {
     "name": "stdout",
     "output_type": "stream",
     "text": [
      "\n"
     ]
    }
   ],
   "source": [
    "# load pipeline object\n",
    "nlp = pipeline(\"feature-extraction\")"
   ]
  },
  {
   "cell_type": "code",
   "execution_count": 14,
   "metadata": {},
   "outputs": [],
   "source": [
    "region1_pipe = [nlp(doc.encode().decode()) for doc in X_train['region_1']]"
   ]
  },
  {
   "cell_type": "code",
   "execution_count": 76,
   "metadata": {},
   "outputs": [
    {
     "data": {
      "text/plain": [
       "(7500, 768)"
      ]
     },
     "execution_count": 76,
     "metadata": {},
     "output_type": "execute_result"
    }
   ],
   "source": [
    "region_list = []\n",
    "for i in range(len(region1_pipe)):\n",
    "    region_list.append(np.mean(np.array(region1_pipe[i][0]), axis = 0))\n",
    "region1_pipe_result = np.vstack(region_list)\n",
    "region1_pipe_result.shape"
   ]
  },
  {
   "cell_type": "code",
   "execution_count": 81,
   "metadata": {},
   "outputs": [
    {
     "data": {
      "text/plain": [
       "(7500, 768)"
      ]
     },
     "execution_count": 81,
     "metadata": {},
     "output_type": "execute_result"
    }
   ],
   "source": [
    "description_pipe = [nlp(doc.encode().decode()) for doc in X_train['description']]\n",
    "description_list = []\n",
    "for i in range(len(region1_pipe)):\n",
    "    description_list.append(np.mean(np.array(description_pipe[i][0]), axis = 0))\n",
    "description_pipe_result = np.vstack(description_list)\n",
    "description_pipe_result.shape"
   ]
  },
  {
   "cell_type": "markdown",
   "metadata": {},
   "source": [
    "#### Due to the limitation of ram, we are only able to do description and region1 using BERT."
   ]
  },
  {
   "cell_type": "code",
   "execution_count": 83,
   "metadata": {},
   "outputs": [],
   "source": [
    "nlp2 = spacy.load(\"en_core_web_lg\", disable=[\"tagger\", \"parser\", \"ner\"])"
   ]
  },
  {
   "cell_type": "code",
   "execution_count": 84,
   "metadata": {},
   "outputs": [],
   "source": [
    "# transform each sentence into vector and make the word2vec matrix\n",
    "descript2vec = np.vstack([nlp2(doc.encode().decode()).vector for doc in X_train['description']])\n",
    "design2vec = np.vstack([nlp2(doc.encode().decode()).vector for doc in X_train['designation']])\n",
    "region12vec = np.vstack([nlp2(doc.encode().decode()).vector for doc in X_train['region_1']])\n",
    "region22vec = np.vstack([nlp2(doc.encode().decode()).vector for doc in X_train['region_2']])\n",
    "title2vec = np.vstack([nlp2(doc.encode().decode()).vector for doc in X_train['title']])"
   ]
  },
  {
   "cell_type": "code",
   "execution_count": 90,
   "metadata": {},
   "outputs": [],
   "source": [
    "bow_model = CountVectorizer(ngram_range=(1, 3), min_df = 1, token_pattern=r\"\\b\\w[\\w’]+\\b\")"
   ]
  },
  {
   "cell_type": "code",
   "execution_count": 91,
   "metadata": {},
   "outputs": [],
   "source": [
    "# use CountVectorizer to transform each text feature in order to combine them with word2vec matrix\n",
    "descript_bow = bow_model.fit_transform(X_train['description']).toarray()\n",
    "design_bow = bow_model.fit_transform(X_train['designation']).toarray()\n",
    "region1_bow = bow_model.fit_transform(X_train['region_1']).toarray()\n",
    "region2_bow = bow_model.fit_transform(X_train['region_2']).toarray()\n",
    "title_bow = bow_model.fit_transform(X_train['title']).toarray()"
   ]
  },
  {
   "cell_type": "code",
   "execution_count": 86,
   "metadata": {},
   "outputs": [],
   "source": [
    "X_bert_1 = np.concatenate((description_pipe_result, design2vec, region1_pipe_result, region22vec, title2vec), axis = 1)"
   ]
  },
  {
   "cell_type": "code",
   "execution_count": 87,
   "metadata": {},
   "outputs": [
    {
     "data": {
      "text/plain": [
       "(7500, 2436)"
      ]
     },
     "execution_count": 87,
     "metadata": {},
     "output_type": "execute_result"
    }
   ],
   "source": [
    "X_bert_1.shape"
   ]
  },
  {
   "cell_type": "code",
   "execution_count": 92,
   "metadata": {
    "scrolled": true
   },
   "outputs": [
    {
     "name": "stdout",
     "output_type": "stream",
     "text": [
      "The result of transfering description and retion_1 into vector by using bert is 0.5998747215841055\n"
     ]
    }
   ],
   "source": [
    "Ridge_bert_score = cross_val_score(Ridge(), X_bert_1, np.ravel(y_train), cv = 5)\n",
    "print('The result of transfering description and retion_1 into vector by using bert is', np.mean(Ridge_bert_score))"
   ]
  },
  {
   "cell_type": "markdown",
   "metadata": {},
   "source": [
    "#### Adding description and region_1 preprocessed by BERT to the final model in Task 2."
   ]
  },
  {
   "cell_type": "code",
   "execution_count": 95,
   "metadata": {},
   "outputs": [
    {
     "name": "stdout",
     "output_type": "stream",
     "text": [
      "The result of X_train_bert_score_6 is 0.6804836753232311\n"
     ]
    }
   ],
   "source": [
    "X_train_bert = np.concatenate((description_pipe_result, descript2vec, descript_bow, design2vec, region1_pipe_result, region1_bow, region2_bow, title_bow), axis = 1)\n",
    "Ridge_bert_score_6 = cross_val_score(Ridge(), X_train_bert, np.ravel(y_train), cv = 5)\n",
    "print('The result of X_train_bert_score_6 is', np.mean(Ridge_bert_score_6))"
   ]
  },
  {
   "cell_type": "markdown",
   "metadata": {},
   "source": [
    "After adding the description and region preprossesed with BERT, we improve the score by approximately 0.03."
   ]
  }
 ],
 "metadata": {
  "kernelspec": {
   "display_name": "Python 3",
   "language": "python",
   "name": "python3"
  },
  "language_info": {
   "codemirror_mode": {
    "name": "ipython",
    "version": 3
   },
   "file_extension": ".py",
   "mimetype": "text/x-python",
   "name": "python",
   "nbconvert_exporter": "python",
   "pygments_lexer": "ipython3",
   "version": "3.7.4"
  }
 },
 "nbformat": 4,
 "nbformat_minor": 4
}
