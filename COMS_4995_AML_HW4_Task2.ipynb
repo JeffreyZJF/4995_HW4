{
 "cells": [
  {
   "cell_type": "markdown",
   "metadata": {},
   "source": [
    "# COMS 4995 HW4\n",
    "#### Jianfeng Zhuang: JZ3872\n",
    "#### Huazhang Liu: HL3338"
   ]
  },
  {
   "cell_type": "markdown",
   "metadata": {},
   "source": [
    "### Task 2"
   ]
  },
  {
   "cell_type": "code",
   "execution_count": 1,
   "metadata": {},
   "outputs": [],
   "source": [
    "import pandas as pd\n",
    "import numpy as np\n",
    "import matplotlib.pyplot as plt\n",
    "import seaborn as sns\n",
    "import math\n",
    "from scipy.stats import randint\n",
    "import spacy"
   ]
  },
  {
   "cell_type": "code",
   "execution_count": 2,
   "metadata": {},
   "outputs": [],
   "source": [
    "from sklearn.compose import ColumnTransformer\n",
    "from sklearn.compose import make_column_transformer\n",
    "from sklearn.feature_extraction.text import CountVectorizer\n",
    "from sklearn.model_selection import train_test_split\n",
    "from sklearn.model_selection import cross_val_score, GridSearchCV\n",
    "from sklearn.pipeline import Pipeline, make_pipeline\n",
    "from sklearn.feature_extraction.text import TfidfTransformer\n",
    "from sklearn.linear_model import Ridge"
   ]
  },
  {
   "cell_type": "markdown",
   "metadata": {},
   "source": [
    "#### Doing the same preprocessing like in Task 1 first"
   ]
  },
  {
   "cell_type": "code",
   "execution_count": 4,
   "metadata": {
    "scrolled": true
   },
   "outputs": [],
   "source": [
    "wine = pd.read_csv(\"winemag-data-130k-v2.csv\")\n",
    "wine = wine.drop(\"Unnamed: 0\", axis = 1)\n",
    "# wine.head()"
   ]
  },
  {
   "cell_type": "code",
   "execution_count": 5,
   "metadata": {
    "scrolled": true
   },
   "outputs": [],
   "source": [
    "wine_US = wine[wine['country'] == \"US\"]\n",
    "wine_US = wine_US.drop('country', axis = 1)\n",
    "wine_US.index = np.arange(0, wine_US.shape[0])\n",
    "# wine_US"
   ]
  },
  {
   "cell_type": "code",
   "execution_count": 6,
   "metadata": {},
   "outputs": [
    {
     "data": {
      "text/html": [
       "<div>\n",
       "<style scoped>\n",
       "    .dataframe tbody tr th:only-of-type {\n",
       "        vertical-align: middle;\n",
       "    }\n",
       "\n",
       "    .dataframe tbody tr th {\n",
       "        vertical-align: top;\n",
       "    }\n",
       "\n",
       "    .dataframe thead th {\n",
       "        text-align: right;\n",
       "    }\n",
       "</style>\n",
       "<table border=\"1\" class=\"dataframe\">\n",
       "  <thead>\n",
       "    <tr style=\"text-align: right;\">\n",
       "      <th></th>\n",
       "      <th>description</th>\n",
       "      <th>designation</th>\n",
       "      <th>points</th>\n",
       "      <th>price</th>\n",
       "      <th>province</th>\n",
       "      <th>region_1</th>\n",
       "      <th>region_2</th>\n",
       "      <th>taster_name</th>\n",
       "      <th>taster_twitter_handle</th>\n",
       "      <th>title</th>\n",
       "      <th>variety</th>\n",
       "      <th>winery</th>\n",
       "    </tr>\n",
       "  </thead>\n",
       "  <tbody>\n",
       "    <tr>\n",
       "      <th>0</th>\n",
       "      <td>Tart and snappy, the flavors of lime flesh and...</td>\n",
       "      <td>NaN</td>\n",
       "      <td>87.0</td>\n",
       "      <td>14.0</td>\n",
       "      <td>Oregon</td>\n",
       "      <td>Willamette Valley</td>\n",
       "      <td>Willamette Valley</td>\n",
       "      <td>Paul Gregutt</td>\n",
       "      <td>@paulgwine</td>\n",
       "      <td>Rainstorm 2013 Pinot Gris (Willamette Valley)</td>\n",
       "      <td>Pinot Gris</td>\n",
       "      <td>Rainstorm</td>\n",
       "    </tr>\n",
       "    <tr>\n",
       "      <th>1</th>\n",
       "      <td>Pineapple rind, lemon pith and orange blossom ...</td>\n",
       "      <td>Reserve Late Harvest</td>\n",
       "      <td>87.0</td>\n",
       "      <td>13.0</td>\n",
       "      <td>Michigan</td>\n",
       "      <td>Lake Michigan Shore</td>\n",
       "      <td>NaN</td>\n",
       "      <td>Alexander Peartree</td>\n",
       "      <td>NaN</td>\n",
       "      <td>St. Julian 2013 Reserve Late Harvest Riesling ...</td>\n",
       "      <td>Riesling</td>\n",
       "      <td>St. Julian</td>\n",
       "    </tr>\n",
       "    <tr>\n",
       "      <th>2</th>\n",
       "      <td>Much like the regular bottling from 2012, this...</td>\n",
       "      <td>Vintner's Reserve Wild Child Block</td>\n",
       "      <td>87.0</td>\n",
       "      <td>65.0</td>\n",
       "      <td>Oregon</td>\n",
       "      <td>Willamette Valley</td>\n",
       "      <td>Willamette Valley</td>\n",
       "      <td>Paul Gregutt</td>\n",
       "      <td>@paulgwine</td>\n",
       "      <td>Sweet Cheeks 2012 Vintner's Reserve Wild Child...</td>\n",
       "      <td>Pinot Noir</td>\n",
       "      <td>Sweet Cheeks</td>\n",
       "    </tr>\n",
       "    <tr>\n",
       "      <th>3</th>\n",
       "      <td>Soft, supple plum envelopes an oaky structure ...</td>\n",
       "      <td>Mountain Cuvée</td>\n",
       "      <td>87.0</td>\n",
       "      <td>19.0</td>\n",
       "      <td>California</td>\n",
       "      <td>Napa Valley</td>\n",
       "      <td>Napa</td>\n",
       "      <td>Virginie Boone</td>\n",
       "      <td>@vboone</td>\n",
       "      <td>Kirkland Signature 2011 Mountain Cuvée Caberne...</td>\n",
       "      <td>Cabernet Sauvignon</td>\n",
       "      <td>Kirkland Signature</td>\n",
       "    </tr>\n",
       "    <tr>\n",
       "      <th>4</th>\n",
       "      <td>Slightly reduced, this wine offers a chalky, t...</td>\n",
       "      <td>NaN</td>\n",
       "      <td>87.0</td>\n",
       "      <td>34.0</td>\n",
       "      <td>California</td>\n",
       "      <td>Alexander Valley</td>\n",
       "      <td>Sonoma</td>\n",
       "      <td>Virginie Boone</td>\n",
       "      <td>@vboone</td>\n",
       "      <td>Louis M. Martini 2012 Cabernet Sauvignon (Alex...</td>\n",
       "      <td>Cabernet Sauvignon</td>\n",
       "      <td>Louis M. Martini</td>\n",
       "    </tr>\n",
       "  </tbody>\n",
       "</table>\n",
       "</div>"
      ],
      "text/plain": [
       "                                         description  \\\n",
       "0  Tart and snappy, the flavors of lime flesh and...   \n",
       "1  Pineapple rind, lemon pith and orange blossom ...   \n",
       "2  Much like the regular bottling from 2012, this...   \n",
       "3  Soft, supple plum envelopes an oaky structure ...   \n",
       "4  Slightly reduced, this wine offers a chalky, t...   \n",
       "\n",
       "                          designation  points  price    province  \\\n",
       "0                                 NaN    87.0   14.0      Oregon   \n",
       "1                Reserve Late Harvest    87.0   13.0    Michigan   \n",
       "2  Vintner's Reserve Wild Child Block    87.0   65.0      Oregon   \n",
       "3                      Mountain Cuvée    87.0   19.0  California   \n",
       "4                                 NaN    87.0   34.0  California   \n",
       "\n",
       "              region_1           region_2         taster_name  \\\n",
       "0    Willamette Valley  Willamette Valley        Paul Gregutt   \n",
       "1  Lake Michigan Shore                NaN  Alexander Peartree   \n",
       "2    Willamette Valley  Willamette Valley        Paul Gregutt   \n",
       "3          Napa Valley               Napa      Virginie Boone   \n",
       "4     Alexander Valley             Sonoma      Virginie Boone   \n",
       "\n",
       "  taster_twitter_handle                                              title  \\\n",
       "0           @paulgwine       Rainstorm 2013 Pinot Gris (Willamette Valley)   \n",
       "1                   NaN  St. Julian 2013 Reserve Late Harvest Riesling ...   \n",
       "2           @paulgwine   Sweet Cheeks 2012 Vintner's Reserve Wild Child...   \n",
       "3               @vboone  Kirkland Signature 2011 Mountain Cuvée Caberne...   \n",
       "4               @vboone  Louis M. Martini 2012 Cabernet Sauvignon (Alex...   \n",
       "\n",
       "              variety              winery  \n",
       "0          Pinot Gris           Rainstorm  \n",
       "1            Riesling          St. Julian  \n",
       "2          Pinot Noir        Sweet Cheeks  \n",
       "3  Cabernet Sauvignon  Kirkland Signature  \n",
       "4  Cabernet Sauvignon    Louis M. Martini  "
      ]
     },
     "execution_count": 6,
     "metadata": {},
     "output_type": "execute_result"
    }
   ],
   "source": [
    "wine_US['points'] = wine_US['points'].astype('float64')\n",
    "wine_US_1 = wine_US.copy()\n",
    "wine_US_1.head()"
   ]
  },
  {
   "cell_type": "code",
   "execution_count": 7,
   "metadata": {
    "scrolled": true
   },
   "outputs": [
    {
     "name": "stdout",
     "output_type": "stream",
     "text": [
      "<class 'pandas.core.frame.DataFrame'>\n",
      "Int64Index: 54504 entries, 0 to 54503\n",
      "Data columns (total 12 columns):\n",
      " #   Column                 Non-Null Count  Dtype  \n",
      "---  ------                 --------------  -----  \n",
      " 0   description            54504 non-null  object \n",
      " 1   designation            36908 non-null  object \n",
      " 2   points                 54504 non-null  float64\n",
      " 3   price                  54265 non-null  float64\n",
      " 4   province               54504 non-null  object \n",
      " 5   region_1               54226 non-null  object \n",
      " 6   region_2               50511 non-null  object \n",
      " 7   taster_name            37730 non-null  object \n",
      " 8   taster_twitter_handle  34741 non-null  object \n",
      " 9   title                  54504 non-null  object \n",
      " 10  variety                54504 non-null  object \n",
      " 11  winery                 54504 non-null  object \n",
      "dtypes: float64(2), object(10)\n",
      "memory usage: 5.4+ MB\n"
     ]
    }
   ],
   "source": [
    "wine_US_1.info()"
   ]
  },
  {
   "cell_type": "code",
   "execution_count": 7,
   "metadata": {},
   "outputs": [],
   "source": [
    "wine_US_1['points'] = wine_US_1['points'].astype('float64')\n",
    "wine_US_1 = wine_US_1[(wine_US_1['price']!= 2013) & (wine_US_1['price'] != 750)]"
   ]
  },
  {
   "cell_type": "code",
   "execution_count": 8,
   "metadata": {
    "scrolled": true
   },
   "outputs": [
    {
     "data": {
      "text/html": [
       "<div>\n",
       "<style scoped>\n",
       "    .dataframe tbody tr th:only-of-type {\n",
       "        vertical-align: middle;\n",
       "    }\n",
       "\n",
       "    .dataframe tbody tr th {\n",
       "        vertical-align: top;\n",
       "    }\n",
       "\n",
       "    .dataframe thead th {\n",
       "        text-align: right;\n",
       "    }\n",
       "</style>\n",
       "<table border=\"1\" class=\"dataframe\">\n",
       "  <thead>\n",
       "    <tr style=\"text-align: right;\">\n",
       "      <th></th>\n",
       "      <th>description</th>\n",
       "      <th>designation</th>\n",
       "      <th>points</th>\n",
       "      <th>region_1</th>\n",
       "      <th>region_2</th>\n",
       "      <th>title</th>\n",
       "    </tr>\n",
       "  </thead>\n",
       "  <tbody>\n",
       "    <tr>\n",
       "      <th>0</th>\n",
       "      <td>This lush wine, green/gold in hue, offers mout...</td>\n",
       "      <td>Capriccio</td>\n",
       "      <td>91.0</td>\n",
       "      <td>Southern Oregon</td>\n",
       "      <td>Southern Oregon</td>\n",
       "      <td>DanCin 2015 Capriccio Chardonnay (Southern Ore...</td>\n",
       "    </tr>\n",
       "    <tr>\n",
       "      <th>1</th>\n",
       "      <td>This classically coastal wine, influenced by w...</td>\n",
       "      <td>Sonoma Stage Vineyard</td>\n",
       "      <td>88.0</td>\n",
       "      <td>Sonoma Coast</td>\n",
       "      <td>Sonoma</td>\n",
       "      <td>Flanagan 2014 Sonoma Stage Vineyard Pinot Noir...</td>\n",
       "    </tr>\n",
       "    <tr>\n",
       "      <th>2</th>\n",
       "      <td>This full-bodied wine is packed with fruit and...</td>\n",
       "      <td>Tête-à-Tête</td>\n",
       "      <td>90.0</td>\n",
       "      <td>Sierra Foothills</td>\n",
       "      <td>Sierra Foothills</td>\n",
       "      <td>Terre Rouge 2014 Tête-à-Tête Red (Sierra Footh...</td>\n",
       "    </tr>\n",
       "    <tr>\n",
       "      <th>3</th>\n",
       "      <td>Despite the low abv, this is a dry rosé, made ...</td>\n",
       "      <td>Rosato</td>\n",
       "      <td>89.0</td>\n",
       "      <td>Umpqua Valley</td>\n",
       "      <td>Southern Oregon</td>\n",
       "      <td>Paul O'Brien 2015 Rosato Rosé (Umpqua Valley)</td>\n",
       "    </tr>\n",
       "    <tr>\n",
       "      <th>4</th>\n",
       "      <td>Kudos to Siduri for offering a serious Oregon ...</td>\n",
       "      <td>Hawk's View Vineyard</td>\n",
       "      <td>88.0</td>\n",
       "      <td>Willamette Valley</td>\n",
       "      <td>Willamette Valley</td>\n",
       "      <td>Siduri 2006 Hawk's View Vineyard Pinot Noir (W...</td>\n",
       "    </tr>\n",
       "  </tbody>\n",
       "</table>\n",
       "</div>"
      ],
      "text/plain": [
       "                                         description            designation  \\\n",
       "0  This lush wine, green/gold in hue, offers mout...              Capriccio   \n",
       "1  This classically coastal wine, influenced by w...  Sonoma Stage Vineyard   \n",
       "2  This full-bodied wine is packed with fruit and...            Tête-à-Tête   \n",
       "3  Despite the low abv, this is a dry rosé, made ...                 Rosato   \n",
       "4  Kudos to Siduri for offering a serious Oregon ...   Hawk's View Vineyard   \n",
       "\n",
       "   points           region_1           region_2  \\\n",
       "0    91.0    Southern Oregon    Southern Oregon   \n",
       "1    88.0       Sonoma Coast             Sonoma   \n",
       "2    90.0   Sierra Foothills   Sierra Foothills   \n",
       "3    89.0      Umpqua Valley    Southern Oregon   \n",
       "4    88.0  Willamette Valley  Willamette Valley   \n",
       "\n",
       "                                               title  \n",
       "0  DanCin 2015 Capriccio Chardonnay (Southern Ore...  \n",
       "1  Flanagan 2014 Sonoma Stage Vineyard Pinot Noir...  \n",
       "2  Terre Rouge 2014 Tête-à-Tête Red (Sierra Footh...  \n",
       "3      Paul O'Brien 2015 Rosato Rosé (Umpqua Valley)  \n",
       "4  Siduri 2006 Hawk's View Vineyard Pinot Noir (W...  "
      ]
     },
     "execution_count": 8,
     "metadata": {},
     "output_type": "execute_result"
    }
   ],
   "source": [
    "wine_US_1 = wine_US_1[pd.isna(wine_US_1['taster_name']) == False]\n",
    "wine_US_1 = wine_US_1[pd.isna(wine_US_1['description']) == False]\n",
    "wine_US_1 = wine_US_1[pd.isna(wine_US_1['designation']) == False]\n",
    "wine_US_1 = wine_US_1[pd.isna(wine_US_1['region_1']) == False]\n",
    "wine_US_1 = wine_US_1[pd.isna(wine_US_1['region_2']) == False]\n",
    "wine_US_1 = wine_US_1[pd.isna(wine_US_1['title']) == False]\n",
    "sample_wine_US_1 = wine_US_1.sample(10000)\n",
    "sample_wine_US_1.index = np.arange(0, sample_wine_US_1.shape[0])\n",
    "wine_US_1_text = sample_wine_US_1.drop(['price', 'province', 'taster_name', 'taster_twitter_handle', 'variety', 'winery'], axis = 1)\n",
    "wine_US_1_text.head()"
   ]
  },
  {
   "cell_type": "code",
   "execution_count": 11,
   "metadata": {
    "scrolled": false
   },
   "outputs": [
    {
     "data": {
      "text/html": [
       "<div>\n",
       "<style scoped>\n",
       "    .dataframe tbody tr th:only-of-type {\n",
       "        vertical-align: middle;\n",
       "    }\n",
       "\n",
       "    .dataframe tbody tr th {\n",
       "        vertical-align: top;\n",
       "    }\n",
       "\n",
       "    .dataframe thead th {\n",
       "        text-align: right;\n",
       "    }\n",
       "</style>\n",
       "<table border=\"1\" class=\"dataframe\">\n",
       "  <thead>\n",
       "    <tr style=\"text-align: right;\">\n",
       "      <th></th>\n",
       "      <th>description</th>\n",
       "      <th>designation</th>\n",
       "      <th>region_1</th>\n",
       "      <th>region_2</th>\n",
       "      <th>title</th>\n",
       "    </tr>\n",
       "  </thead>\n",
       "  <tbody>\n",
       "    <tr>\n",
       "      <th>3612</th>\n",
       "      <td>Fresh, crisp apple and pear are touched with d...</td>\n",
       "      <td>Estate Bottled Barrel Fermented</td>\n",
       "      <td>Finger Lakes</td>\n",
       "      <td>Finger Lakes</td>\n",
       "      <td>Lamoreaux Landing 2010 Estate Bottled Barrel F...</td>\n",
       "    </tr>\n",
       "    <tr>\n",
       "      <th>4429</th>\n",
       "      <td>Thick like a chocolaty malt, this full-bodied,...</td>\n",
       "      <td>Platinum</td>\n",
       "      <td>Napa Valley</td>\n",
       "      <td>Napa</td>\n",
       "      <td>Sterling 2012 Platinum Cabernet Sauvignon (Nap...</td>\n",
       "    </tr>\n",
       "    <tr>\n",
       "      <th>9164</th>\n",
       "      <td>This vineyard-designate opens with intoxicatin...</td>\n",
       "      <td>Balletto Vineyard</td>\n",
       "      <td>Russian River Valley</td>\n",
       "      <td>Sonoma</td>\n",
       "      <td>WesMar 2012 Balletto Vineyard Pinot Noir (Russ...</td>\n",
       "    </tr>\n",
       "    <tr>\n",
       "      <th>5490</th>\n",
       "      <td>Savory notes of nuts and grains stand out agai...</td>\n",
       "      <td>Semi Dry</td>\n",
       "      <td>Finger Lakes</td>\n",
       "      <td>Finger Lakes</td>\n",
       "      <td>Anthony Road 2014 Semi Dry Riesling (Finger La...</td>\n",
       "    </tr>\n",
       "    <tr>\n",
       "      <th>3404</th>\n",
       "      <td>This wine is 100% varietal. Pungent aromas of ...</td>\n",
       "      <td>Derby</td>\n",
       "      <td>Walla Walla Valley (WA)</td>\n",
       "      <td>Columbia Valley</td>\n",
       "      <td>Spring Valley Vineyard 2014 Derby Cabernet Sau...</td>\n",
       "    </tr>\n",
       "  </tbody>\n",
       "</table>\n",
       "</div>"
      ],
      "text/plain": [
       "                                            description  \\\n",
       "3612  Fresh, crisp apple and pear are touched with d...   \n",
       "4429  Thick like a chocolaty malt, this full-bodied,...   \n",
       "9164  This vineyard-designate opens with intoxicatin...   \n",
       "5490  Savory notes of nuts and grains stand out agai...   \n",
       "3404  This wine is 100% varietal. Pungent aromas of ...   \n",
       "\n",
       "                          designation                 region_1  \\\n",
       "3612  Estate Bottled Barrel Fermented             Finger Lakes   \n",
       "4429                         Platinum              Napa Valley   \n",
       "9164                Balletto Vineyard     Russian River Valley   \n",
       "5490                         Semi Dry             Finger Lakes   \n",
       "3404                            Derby  Walla Walla Valley (WA)   \n",
       "\n",
       "             region_2                                              title  \n",
       "3612     Finger Lakes  Lamoreaux Landing 2010 Estate Bottled Barrel F...  \n",
       "4429             Napa  Sterling 2012 Platinum Cabernet Sauvignon (Nap...  \n",
       "9164           Sonoma  WesMar 2012 Balletto Vineyard Pinot Noir (Russ...  \n",
       "5490     Finger Lakes  Anthony Road 2014 Semi Dry Riesling (Finger La...  \n",
       "3404  Columbia Valley  Spring Valley Vineyard 2014 Derby Cabernet Sau...  "
      ]
     },
     "execution_count": 11,
     "metadata": {},
     "output_type": "execute_result"
    }
   ],
   "source": [
    "X = wine_US_1_text.drop('points', axis = 1)\n",
    "y = wine_US_1_text['points']\n",
    "X_train, X_test, y_train, y_test = train_test_split(X,y)\n",
    "X_train.head()"
   ]
  },
  {
   "cell_type": "markdown",
   "metadata": {},
   "source": [
    "#### Using SpaCY Word2Vec model here"
   ]
  },
  {
   "cell_type": "code",
   "execution_count": 12,
   "metadata": {
    "scrolled": true
   },
   "outputs": [],
   "source": [
    "# load spacy data and skip some annotations for faster processing\n",
    "nlp = spacy.load(\"en_core_web_lg\", disable=[\"tagger\", \"parser\", \"ner\"])"
   ]
  },
  {
   "cell_type": "code",
   "execution_count": 13,
   "metadata": {},
   "outputs": [],
   "source": [
    "# transform each sentence into vector and make the word2vec matrix\n",
    "descript2vec = np.vstack([nlp(doc.encode().decode()).vector for doc in X_train['description']])\n",
    "design2vec = np.vstack([nlp(doc.encode().decode()).vector for doc in X_train['designation']])\n",
    "region12vec = np.vstack([nlp(doc.encode().decode()).vector for doc in X_train['region_1']])\n",
    "region22vec = np.vstack([nlp(doc.encode().decode()).vector for doc in X_train['region_2']])\n",
    "title2vec = np.vstack([nlp(doc.encode().decode()).vector for doc in X_train['title']])"
   ]
  },
  {
   "cell_type": "code",
   "execution_count": 14,
   "metadata": {},
   "outputs": [
    {
     "data": {
      "text/plain": [
       "(7500, 1500)"
      ]
     },
     "execution_count": 14,
     "metadata": {},
     "output_type": "execute_result"
    }
   ],
   "source": [
    "# combine all matrix into one horizontally\n",
    "X_train2vec = np.concatenate((descript2vec, design2vec, region12vec, region22vec, title2vec), axis = 1)\n",
    "X_train2vec.shape"
   ]
  },
  {
   "cell_type": "code",
   "execution_count": 15,
   "metadata": {
    "scrolled": false
   },
   "outputs": [
    {
     "name": "stdout",
     "output_type": "stream",
     "text": [
      "The result of transfering all text column into vector by using Word2Vec is 0.5288328995789419\n"
     ]
    }
   ],
   "source": [
    "Ridge2vec_score = cross_val_score(Ridge(), X_train2vec, np.ravel(y_train), cv = 5)\n",
    "print('The result of transfering all text column into vector by using Word2Vec is', np.mean(Ridge2vec_score))"
   ]
  },
  {
   "cell_type": "code",
   "execution_count": 31,
   "metadata": {
    "scrolled": true
   },
   "outputs": [
    {
     "name": "stdout",
     "output_type": "stream",
     "text": [
      "The result of using bag of word only in task 1 is 0.6426178023915253\n"
     ]
    }
   ],
   "source": [
    "# Here to remind the model we have for text features using CountVectorizer in Task 1\n",
    "preprocess_task1 = make_column_transformer((CountVectorizer(ngram_range=(1, 3), min_df = 1, token_pattern=r\"\\b\\w[\\w’]+\\b\"), 'description'),\n",
    "                                       (CountVectorizer(ngram_range=(1, 3), min_df = 1, token_pattern=r\"\\b\\w[\\w’]+\\b\"), 'designation'),\n",
    "                                       (CountVectorizer(ngram_range=(1, 3), min_df = 1, token_pattern=r\"\\b\\w[\\w’]+\\b\"), 'region_1'),\n",
    "                                       (CountVectorizer(ngram_range=(1, 3), min_df = 1, token_pattern=r\"\\b\\w[\\w’]+\\b\"), 'region_2'),\n",
    "                                       (CountVectorizer(ngram_range=(1, 3), min_df = 1, token_pattern=r\"\\b\\w[\\w’]+\\b\"), 'title'))\n",
    "task1_model = make_pipeline(preprocess_task1, Ridge())\n",
    "task1_score = cross_val_score(task1_model, X_train, np.ravel(y_train), cv = 5)\n",
    "print('The result of using bag of word only in task 1 is', np.mean(task1_score))"
   ]
  },
  {
   "cell_type": "markdown",
   "metadata": {},
   "source": [
    "#### Here we consider all five text features in word2vec embedding. Compared with the result in task 1 for the text features only using Bag of Words, the score of Word2Vec is lower. So using Word2Vec only does not improve the regression"
   ]
  },
  {
   "cell_type": "code",
   "execution_count": 16,
   "metadata": {},
   "outputs": [],
   "source": [
    "bow_model = CountVectorizer(ngram_range=(1, 3), min_df = 1, token_pattern=r\"\\b\\w[\\w’]+\\b\")"
   ]
  },
  {
   "cell_type": "code",
   "execution_count": 17,
   "metadata": {},
   "outputs": [],
   "source": [
    "# use CountVectorizer to transform each text feature in order to combine them with word2vec matrix\n",
    "descript_bow = bow_model.fit_transform(X_train['description']).toarray()\n",
    "design_bow = bow_model.fit_transform(X_train['designation']).toarray()\n",
    "region1_bow = bow_model.fit_transform(X_train['region_1']).toarray()\n",
    "region2_bow = bow_model.fit_transform(X_train['region_2']).toarray()\n",
    "title_bow = bow_model.fit_transform(X_train['title']).toarray()"
   ]
  },
  {
   "cell_type": "markdown",
   "metadata": {},
   "source": [
    "#### Since Word2Vec consider the semantics of the sentences but bag of word does not consider semanticsm, only consider the occurence of the word, here we use Word2Vec in description, designation, and title. For region 1 and region 2, we think the occurence is more important so we choose to use bag of word. "
   ]
  },
  {
   "cell_type": "code",
   "execution_count": 21,
   "metadata": {},
   "outputs": [
    {
     "name": "stdout",
     "output_type": "stream",
     "text": [
      "The result of X_train_nlp_1 is 0.5298221580511185\n"
     ]
    }
   ],
   "source": [
    "X_train_nlp_1 = np.concatenate((descript2vec, design2vec, region1_bow, region2_bow, title2vec), axis = 1)\n",
    "Ridge_nlp_score_1 = cross_val_score(Ridge(), X_train_nlp_1, np.ravel(y_train), cv = 5)\n",
    "print('The result of X_train_nlp_1 is', np.mean(Ridge_nlp_score_1))"
   ]
  },
  {
   "cell_type": "markdown",
   "metadata": {},
   "source": [
    "#### The score is higher than Ridge2vec_score Word2Vec only. \n",
    "\n",
    "#### Now we consider which one to use for designation:"
   ]
  },
  {
   "cell_type": "code",
   "execution_count": 37,
   "metadata": {},
   "outputs": [
    {
     "name": "stdout",
     "output_type": "stream",
     "text": [
      "The result of X_train_nlp_2 for designation bow is 0.5115607886250462\n"
     ]
    }
   ],
   "source": [
    "X_train_nlp_2 = np.concatenate((descript2vec, design_bow, region1_bow, region2_bow, title2vec), axis = 1)\n",
    "Ridge_nlp_score_2 = cross_val_score(Ridge(), X_train_nlp_2, np.ravel(y_train), cv = 5)\n",
    "print('The result of X_train_nlp_2 for designation bow is', np.mean(Ridge_nlp_score_2))"
   ]
  },
  {
   "cell_type": "code",
   "execution_count": 38,
   "metadata": {
    "scrolled": false
   },
   "outputs": [
    {
     "name": "stdout",
     "output_type": "stream",
     "text": [
      "The result of X_train_nlp_3 for designation both s 0.4939999464644111\n"
     ]
    }
   ],
   "source": [
    "X_train_nlp_3 = np.concatenate((descript2vec, design2vec, design_bow, region1_bow, region2_bow, title2vec), axis = 1)\n",
    "Ridge_nlp_score_3 = cross_val_score(Ridge(), X_train_nlp_3, np.ravel(y_train), cv = 5)\n",
    "print('The result of X_train_nlp_3 for designation both s', np.mean(Ridge_nlp_score_3))"
   ]
  },
  {
   "cell_type": "markdown",
   "metadata": {},
   "source": [
    "#### Clearly, using both embedding methods for designations doesn't make sense. We would you Word2Vec for designation. \n",
    "\n",
    "#### Then, we are testing on which methods to use for title:"
   ]
  },
  {
   "cell_type": "code",
   "execution_count": 39,
   "metadata": {
    "scrolled": true
   },
   "outputs": [
    {
     "name": "stdout",
     "output_type": "stream",
     "text": [
      "The result of X_train_nlp_4 title in bow is 0.5386498533933974\n"
     ]
    }
   ],
   "source": [
    "X_train_nlp_4 = np.concatenate((descript2vec, design2vec, region1_bow, region2_bow, title_bow), axis = 1)\n",
    "Ridge_nlp_score_4 = cross_val_score(Ridge(), X_train_nlp_4, np.ravel(y_train), cv = 5)\n",
    "print('The result of X_train_nlp_4 title in bow is', np.mean(Ridge_nlp_score_4))"
   ]
  },
  {
   "cell_type": "code",
   "execution_count": 28,
   "metadata": {},
   "outputs": [
    {
     "name": "stdout",
     "output_type": "stream",
     "text": [
      "The result of X_train_nlp_5 for title both is 0.5385710149109275\n"
     ]
    }
   ],
   "source": [
    "X_train_nlp_5 = np.concatenate((descript2vec, design2vec, region1_bow, region2_bow, title2vec, title_bow), axis = 1)\n",
    "Ridge_nlp_score_5 = cross_val_score(Ridge(), X_train_nlp_5, np.ravel(y_train), cv = 5)\n",
    "print('The result of X_train_nlp_5 for title both is', np.mean(Ridge_nlp_score_5))"
   ]
  },
  {
   "cell_type": "markdown",
   "metadata": {},
   "source": [
    "#### The best method are using bag of words only although the difference is really small"
   ]
  },
  {
   "cell_type": "markdown",
   "metadata": {},
   "source": [
    "#### In addition, we think it is necessary to consider description in both case since the corpus size for description is huge, so the occurance and the semantics are both important. "
   ]
  },
  {
   "cell_type": "code",
   "execution_count": 29,
   "metadata": {},
   "outputs": [
    {
     "name": "stdout",
     "output_type": "stream",
     "text": [
      "The result of X_train_nlp_6 for description both is 0.6543457846631455\n"
     ]
    }
   ],
   "source": [
    "X_train_nlp_6 = np.concatenate((descript2vec, descript_bow, design2vec, region1_bow, region2_bow, title_bow), axis = 1)\n",
    "Ridge_nlp_score_6 = cross_val_score(Ridge(), X_train_nlp_6, np.ravel(y_train), cv = 5)\n",
    "print('The result of X_train_nlp_6 for description both is', np.mean(Ridge_nlp_score_6))"
   ]
  },
  {
   "cell_type": "markdown",
   "metadata": {},
   "source": [
    "#### Lastly, we consider all of the features by using both method."
   ]
  },
  {
   "cell_type": "code",
   "execution_count": 32,
   "metadata": {},
   "outputs": [
    {
     "data": {
      "text/plain": [
       "(7500, 382752)"
      ]
     },
     "execution_count": 32,
     "metadata": {},
     "output_type": "execute_result"
    }
   ],
   "source": [
    "X_train_nlp_all = np.concatenate((X_train2vec, descript_bow, design_bow, \n",
    "                                  region1_bow, region2_bow, title_bow), axis = 1)\n",
    "X_train_nlp_all.shape"
   ]
  },
  {
   "cell_type": "code",
   "execution_count": 33,
   "metadata": {
    "scrolled": true
   },
   "outputs": [
    {
     "name": "stdout",
     "output_type": "stream",
     "text": [
      "The result of Ridge_nlp_score_all is 0.6555141027037592\n"
     ]
    }
   ],
   "source": [
    "Ridge_nlp_score_all = cross_val_score(Ridge(), X_train_nlp_all, np.ravel(y_train), cv = 5)\n",
    "print('The result of Ridge_nlp_score_all is', np.mean(Ridge_nlp_score_all))"
   ]
  },
  {
   "cell_type": "markdown",
   "metadata": {},
   "source": [
    "#### Using both method on all of the features does not make huge difference between Ridge_nlp_score_6 because in both cases we consider description in both methods, which drive the results. "
   ]
  },
  {
   "cell_type": "code",
   "execution_count": 35,
   "metadata": {},
   "outputs": [
    {
     "name": "stdout",
     "output_type": "stream",
     "text": [
      "The result of Ridge_nlp_score_6_regularize with alpha 0.0002 is 0.6542919657987897\n"
     ]
    }
   ],
   "source": [
    "Ridge_nlp_score_6_regularize = cross_val_score(Ridge(alpha = 0.0002), X_train_nlp_6, np.ravel(y_train), cv = 5)\n",
    "print('The result of Ridge_nlp_score_6_regularize with alpha 0.0002 is', np.mean(Ridge_nlp_score_6_regularize))"
   ]
  },
  {
   "cell_type": "markdown",
   "metadata": {},
   "source": [
    "#### To prevent overfitting, we apply alpha on X_train_nlp_6, but the result is very close. "
   ]
  },
  {
   "cell_type": "code",
   "execution_count": null,
   "metadata": {},
   "outputs": [],
   "source": []
  }
 ],
 "metadata": {
  "kernelspec": {
   "display_name": "Python 3",
   "language": "python",
   "name": "python3"
  },
  "language_info": {
   "codemirror_mode": {
    "name": "ipython",
    "version": 3
   },
   "file_extension": ".py",
   "mimetype": "text/x-python",
   "name": "python",
   "nbconvert_exporter": "python",
   "pygments_lexer": "ipython3",
   "version": "3.7.6"
  }
 },
 "nbformat": 4,
 "nbformat_minor": 4
}
